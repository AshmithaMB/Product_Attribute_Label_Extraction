{
  "cells": [
    {
      "cell_type": "markdown",
      "metadata": {
        "id": "view-in-github",
        "colab_type": "text"
      },
      "source": [
        "<a href=\"https://colab.research.google.com/github/AshmithaMB/Text-Classification/blob/main/Product_Attribute_Label_Extraction.ipynb\" target=\"_parent\"><img src=\"https://colab.research.google.com/assets/colab-badge.svg\" alt=\"Open In Colab\"/></a>"
      ]
    },
    {
      "cell_type": "markdown",
      "metadata": {
        "id": "0VLd4V2GaGbt"
      },
      "source": [
        "####***Project Statement & Project Overview***\n",
        "\n",
        "> *The objective of this project is to develop a machine learning model for text classification, specifically focusing on product attributes. The model will be trained on a dataset consisting of text paragraphs describing various product features and attributes.*\n",
        "\n",
        "> *By leveraging natural language processing (NLP) techniques and advanced machine learning algorithms, the project aims to automate the categorization of product attributes, enabling efficient analysis and organization of product data*"
      ]
    },
    {
      "cell_type": "markdown",
      "metadata": {
        "id": "5ELKcydTbCR0"
      },
      "source": [
        "  ##### ***The Input file consists of two csv files:***\n",
        "\n",
        "1. ***train_data.csv:***\n",
        " > *This file is used for training and contains two fields, namely \"text\" and \"id\".*\n",
        "\n",
        " > *The \"text\" field holds the input data, while the \"id\" field is a unique number assigned to each text.*\n",
        "\n",
        " > *This \"id\" serves as a reference to link the text with its corresponding labels in the \"train_label.csv\" file.*\n",
        "\n",
        "2. ***train_label.csv :***\n",
        "\n",
        " > *This file contains two fields, \"id\" and \"label\". The \"id\" field in this file corresponds to the \"id\" field in the \"train_data.csv\" file.*\n",
        "\n",
        " > *It acts as a key to match the labels with the respective input texts.*\n",
        "\n",
        " > *The \"label\" field holds the corresponding labels for each text identified by the \"id\".*"
      ]
    },
    {
      "cell_type": "markdown",
      "metadata": {
        "id": "1RK9ywB03YEy"
      },
      "source": [
        "### ***Importing the Libraries***"
      ]
    },
    {
      "cell_type": "code",
      "execution_count": 1,
      "metadata": {
        "colab": {
          "base_uri": "https://localhost:8080/"
        },
        "id": "SQcNFQOP9jox",
        "outputId": "1e7a50f1-b4e2-41e7-f879-9bcbc85b5443"
      },
      "outputs": [
        {
          "output_type": "stream",
          "name": "stderr",
          "text": [
            "[nltk_data] Downloading package punkt to /root/nltk_data...\n",
            "[nltk_data]   Unzipping tokenizers/punkt.zip.\n",
            "[nltk_data] Downloading package stopwords to /root/nltk_data...\n",
            "[nltk_data]   Unzipping corpora/stopwords.zip.\n",
            "[nltk_data] Downloading package wordnet to /root/nltk_data...\n"
          ]
        }
      ],
      "source": [
        "import pandas as pd\n",
        "import numpy as np\n",
        "import nltk\n",
        "nltk.download(\"punkt\")\n",
        "nltk.download(\"stopwords\")\n",
        "nltk.download('wordnet')\n",
        "from nltk.corpus import stopwords\n",
        "from nltk.tokenize import word_tokenize\n",
        "from nltk.stem import WordNetLemmatizer\n",
        "import string\n",
        "\n",
        "import matplotlib.pyplot as plt\n",
        "import seaborn as sns\n",
        "from wordcloud import WordCloud\n",
        "\n",
        "from gensim.models import Word2Vec\n",
        "\n",
        "from sklearn.cluster import KMeans\n",
        "\n",
        "from sklearn.linear_model import LogisticRegression\n",
        "from sklearn.svm import LinearSVC, SVC\n",
        "from sklearn.tree import DecisionTreeClassifier\n",
        "from sklearn.ensemble import AdaBoostClassifier\n",
        "from sklearn.neighbors import KNeighborsClassifier\n",
        "\n",
        "from sklearn.model_selection import train_test_split\n",
        "from sklearn.pipeline import Pipeline\n",
        "from sklearn.feature_extraction.text import TfidfVectorizer, TfidfTransformer, CountVectorizer\n",
        "from sklearn.metrics import accuracy_score, confusion_matrix, classification_report\n",
        "\n",
        "import warnings\n",
        "warnings.filterwarnings(\"ignore\", category=UserWarning)"
      ]
    },
    {
      "cell_type": "markdown",
      "metadata": {
        "id": "rPwbPuFZCpZt"
      },
      "source": [
        "### *Loading the CSV files*"
      ]
    },
    {
      "cell_type": "code",
      "execution_count": 2,
      "metadata": {
        "colab": {
          "base_uri": "https://localhost:8080/",
          "height": 81
        },
        "id": "GbQyD2o3-Piv",
        "outputId": "31783714-8819-4c66-c67d-0ae4f2735e9e"
      },
      "outputs": [
        {
          "output_type": "execute_result",
          "data": {
            "text/plain": [
              "                                                text      id\n",
              "0  Keep your gloves, hats, coats and jackets toge...  122885"
            ],
            "text/html": [
              "\n",
              "  <div id=\"df-4d516007-4d60-40f7-abe2-18b0307d3c12\">\n",
              "    <div class=\"colab-df-container\">\n",
              "      <div>\n",
              "<style scoped>\n",
              "    .dataframe tbody tr th:only-of-type {\n",
              "        vertical-align: middle;\n",
              "    }\n",
              "\n",
              "    .dataframe tbody tr th {\n",
              "        vertical-align: top;\n",
              "    }\n",
              "\n",
              "    .dataframe thead th {\n",
              "        text-align: right;\n",
              "    }\n",
              "</style>\n",
              "<table border=\"1\" class=\"dataframe\">\n",
              "  <thead>\n",
              "    <tr style=\"text-align: right;\">\n",
              "      <th></th>\n",
              "      <th>text</th>\n",
              "      <th>id</th>\n",
              "    </tr>\n",
              "  </thead>\n",
              "  <tbody>\n",
              "    <tr>\n",
              "      <th>0</th>\n",
              "      <td>Keep your gloves, hats, coats and jackets toge...</td>\n",
              "      <td>122885</td>\n",
              "    </tr>\n",
              "  </tbody>\n",
              "</table>\n",
              "</div>\n",
              "      <button class=\"colab-df-convert\" onclick=\"convertToInteractive('df-4d516007-4d60-40f7-abe2-18b0307d3c12')\"\n",
              "              title=\"Convert this dataframe to an interactive table.\"\n",
              "              style=\"display:none;\">\n",
              "        \n",
              "  <svg xmlns=\"http://www.w3.org/2000/svg\" height=\"24px\"viewBox=\"0 0 24 24\"\n",
              "       width=\"24px\">\n",
              "    <path d=\"M0 0h24v24H0V0z\" fill=\"none\"/>\n",
              "    <path d=\"M18.56 5.44l.94 2.06.94-2.06 2.06-.94-2.06-.94-.94-2.06-.94 2.06-2.06.94zm-11 1L8.5 8.5l.94-2.06 2.06-.94-2.06-.94L8.5 2.5l-.94 2.06-2.06.94zm10 10l.94 2.06.94-2.06 2.06-.94-2.06-.94-.94-2.06-.94 2.06-2.06.94z\"/><path d=\"M17.41 7.96l-1.37-1.37c-.4-.4-.92-.59-1.43-.59-.52 0-1.04.2-1.43.59L10.3 9.45l-7.72 7.72c-.78.78-.78 2.05 0 2.83L4 21.41c.39.39.9.59 1.41.59.51 0 1.02-.2 1.41-.59l7.78-7.78 2.81-2.81c.8-.78.8-2.07 0-2.86zM5.41 20L4 18.59l7.72-7.72 1.47 1.35L5.41 20z\"/>\n",
              "  </svg>\n",
              "      </button>\n",
              "      \n",
              "  <style>\n",
              "    .colab-df-container {\n",
              "      display:flex;\n",
              "      flex-wrap:wrap;\n",
              "      gap: 12px;\n",
              "    }\n",
              "\n",
              "    .colab-df-convert {\n",
              "      background-color: #E8F0FE;\n",
              "      border: none;\n",
              "      border-radius: 50%;\n",
              "      cursor: pointer;\n",
              "      display: none;\n",
              "      fill: #1967D2;\n",
              "      height: 32px;\n",
              "      padding: 0 0 0 0;\n",
              "      width: 32px;\n",
              "    }\n",
              "\n",
              "    .colab-df-convert:hover {\n",
              "      background-color: #E2EBFA;\n",
              "      box-shadow: 0px 1px 2px rgba(60, 64, 67, 0.3), 0px 1px 3px 1px rgba(60, 64, 67, 0.15);\n",
              "      fill: #174EA6;\n",
              "    }\n",
              "\n",
              "    [theme=dark] .colab-df-convert {\n",
              "      background-color: #3B4455;\n",
              "      fill: #D2E3FC;\n",
              "    }\n",
              "\n",
              "    [theme=dark] .colab-df-convert:hover {\n",
              "      background-color: #434B5C;\n",
              "      box-shadow: 0px 1px 3px 1px rgba(0, 0, 0, 0.15);\n",
              "      filter: drop-shadow(0px 1px 2px rgba(0, 0, 0, 0.3));\n",
              "      fill: #FFFFFF;\n",
              "    }\n",
              "  </style>\n",
              "\n",
              "      <script>\n",
              "        const buttonEl =\n",
              "          document.querySelector('#df-4d516007-4d60-40f7-abe2-18b0307d3c12 button.colab-df-convert');\n",
              "        buttonEl.style.display =\n",
              "          google.colab.kernel.accessAllowed ? 'block' : 'none';\n",
              "\n",
              "        async function convertToInteractive(key) {\n",
              "          const element = document.querySelector('#df-4d516007-4d60-40f7-abe2-18b0307d3c12');\n",
              "          const dataTable =\n",
              "            await google.colab.kernel.invokeFunction('convertToInteractive',\n",
              "                                                     [key], {});\n",
              "          if (!dataTable) return;\n",
              "\n",
              "          const docLinkHtml = 'Like what you see? Visit the ' +\n",
              "            '<a target=\"_blank\" href=https://colab.research.google.com/notebooks/data_table.ipynb>data table notebook</a>'\n",
              "            + ' to learn more about interactive tables.';\n",
              "          element.innerHTML = '';\n",
              "          dataTable['output_type'] = 'display_data';\n",
              "          await google.colab.output.renderOutput(dataTable, element);\n",
              "          const docLink = document.createElement('div');\n",
              "          docLink.innerHTML = docLinkHtml;\n",
              "          element.appendChild(docLink);\n",
              "        }\n",
              "      </script>\n",
              "    </div>\n",
              "  </div>\n",
              "  "
            ]
          },
          "metadata": {},
          "execution_count": 2
        }
      ],
      "source": [
        "data = pd.read_csv(\"train_data.csv\", encoding='UTF-8')\n",
        "data.head(1)"
      ]
    },
    {
      "cell_type": "code",
      "execution_count": 49,
      "metadata": {
        "colab": {
          "base_uri": "https://localhost:8080/"
        },
        "id": "5JHNhuM0xjSE",
        "outputId": "5e4aed94-fd4c-4748-ff85-dbe4fb0da569"
      },
      "outputs": [
        {
          "output_type": "execute_result",
          "data": {
            "text/plain": [
              "array(['Shape', 'Voltage (volts)', 'Wattage (watts)',\n",
              "       'ENERGY STAR Certified', 'Finish', 'Indoor/Outdoor',\n",
              "       'Package Quantity', 'Features', 'Included', 'Hardware Included',\n",
              "       'Color', 'Assembly Required', 'Tools Product Type',\n",
              "       'Commercial / Residential', 'Flooring Product Type'], dtype=object)"
            ]
          },
          "metadata": {},
          "execution_count": 49
        }
      ],
      "source": [
        "datalabels = pd.read_csv(\"train_label.csv\", encoding='latin-1')\n",
        "datalabels.label.unique()"
      ]
    },
    {
      "cell_type": "markdown",
      "source": [
        "*Here is an explanation of the meanings behind the labels:*\n",
        "\n",
        "***Shape:***\n",
        "> *This label represents the specific shape or form of a product. For example, in the context of furniture, it could refer to shapes like rectangular, round, square, or oval.*\n",
        "\n",
        "***Voltage (volts):***\n",
        "> *This label indicates the electrical voltage required or supported by a product. It is commonly used for electrical appliances or devices that operate on specific voltage levels.*\n",
        "\n",
        "***Wattage (watts):***\n",
        "> *This label refers to the power consumption or capacity of a product, measured in watts. It provides information about the energy usage or output of an electrical device.*\n",
        "\n",
        "***ENERGY STAR Certified:***\n",
        "> *This label signifies that a product has met specific energy efficiency standards set by ENERGY STAR, a program established to promote energy-saving practices. Products with this label are more energy-efficient and environmentally friendly.*\n",
        "\n",
        "***Finish:***\n",
        "> *This label describes the surface treatment or coating applied to a product. It could include finishes like polished, matte, glossy, or textured, depending on the nature of the product.*\n",
        "\n",
        "***Indoor/Outdoor:***\n",
        "> *This label indicates whether a product is suitable for indoor use, outdoor use, or both. It helps customers identify products that are designed to withstand outdoor conditions or have specific features for indoor usage.*\n",
        "\n",
        "***Package Quantity:***\n",
        "> *This label specifies the quantity or number of items included in a package or product bundle. It helps customers understand the quantity they will receive when making a purchase.*\n",
        "\n",
        "***Features:***\n",
        "> *This label highlights the distinctive features or functionalities of a product. It provides information about unique capabilities or characteristics that set the product apart from others.*\n",
        "\n",
        "***Included:***\n",
        "> *This label indicates the items or components that are included with a product. It helps customers know what additional items or accessories they will receive when purchasing the main product.*\n",
        "\n",
        "***Hardware Included:***\n",
        "> *This label specifically refers to the inclusion of hardware items or components with a product. It could include screws, bolts, nuts, or any other necessary hardware for assembly or installation.*\n",
        "\n",
        "***Color:***\n",
        "> *This label represents the specific color or color options available for a product. It helps customers choose products based on their preferred color preferences.*\n",
        "\n",
        "***Assembly Required:***\n",
        "> *This label indicates whether a product requires assembly by the customer. It informs customers if they need to assemble the product themselves or if it comes pre-assembled.*\n",
        "\n",
        "***Tools Product Type:***\n",
        "> *This label categorizes products based on their type as tools. It helps customers quickly identify products that fall into the tools category, such as power tools, hand tools, or gardening tools.*\n",
        "\n",
        "***Commercial / Residential:***\n",
        "> *This label distinguishes products suitable for commercial or residential use. It helps customers identify products that are designed for specific environments.*\n",
        "\n",
        "***Flooring Product Type:***\n",
        "> *This label classifies products specifically related to flooring materials or flooring-related products. It helps customers find products related to flooring, such as tiles, carpets, or laminate flooring.*\n",
        "\n",
        "*These labels provide specific information about different aspects of a product, allowing customers to make informed decisions based on their preferences and requirements.*"
      ],
      "metadata": {
        "id": "fYsIKiNkS1vt"
      }
    },
    {
      "cell_type": "markdown",
      "metadata": {
        "id": "RSvjEd5I3DuW"
      },
      "source": [
        "### *Merging the DataFarmes*"
      ]
    },
    {
      "cell_type": "code",
      "execution_count": 4,
      "metadata": {
        "colab": {
          "base_uri": "https://localhost:8080/",
          "height": 423
        },
        "id": "C8Mi5_i-5UyD",
        "outputId": "4cf7b067-aa23-4546-b398-c5fdb86d90d5"
      },
      "outputs": [
        {
          "output_type": "execute_result",
          "data": {
            "text/plain": [
              "                                                    text      id  \\\n",
              "0      Keep your gloves, hats, coats and jackets toge...  122885   \n",
              "1      Keep your gloves, hats, coats and jackets toge...  122885   \n",
              "2      Keep your gloves, hats, coats and jackets toge...  122885   \n",
              "3      The Home Dynamix Serendipity Ivory 5 ft. 2 in....  188958   \n",
              "4      The Home Dynamix Serendipity Ivory 5 ft. 2 in....  188958   \n",
              "...                                                  ...     ...   \n",
              "75165  This industrial grade anti-fatigue mat is engi...  171764   \n",
              "75166  This industrial grade anti-fatigue mat is engi...  171764   \n",
              "75167  This industrial grade anti-fatigue mat is engi...  171764   \n",
              "75168  The Nite Ize LED Upgrade Kit converts most C/D...  117326   \n",
              "75169  For the most comprehensive selection of nails ...  160856   \n",
              "\n",
              "                          label  \n",
              "0             Assembly Required  \n",
              "1                        Finish  \n",
              "2             Hardware Included  \n",
              "3      Commercial / Residential  \n",
              "4                      Features  \n",
              "...                         ...  \n",
              "75165                  Features  \n",
              "75166     Flooring Product Type  \n",
              "75167            Indoor/Outdoor  \n",
              "75168          Package Quantity  \n",
              "75169          Package Quantity  \n",
              "\n",
              "[75170 rows x 3 columns]"
            ],
            "text/html": [
              "\n",
              "  <div id=\"df-0990d5af-27e1-4fdd-b89f-8d67fddd846c\">\n",
              "    <div class=\"colab-df-container\">\n",
              "      <div>\n",
              "<style scoped>\n",
              "    .dataframe tbody tr th:only-of-type {\n",
              "        vertical-align: middle;\n",
              "    }\n",
              "\n",
              "    .dataframe tbody tr th {\n",
              "        vertical-align: top;\n",
              "    }\n",
              "\n",
              "    .dataframe thead th {\n",
              "        text-align: right;\n",
              "    }\n",
              "</style>\n",
              "<table border=\"1\" class=\"dataframe\">\n",
              "  <thead>\n",
              "    <tr style=\"text-align: right;\">\n",
              "      <th></th>\n",
              "      <th>text</th>\n",
              "      <th>id</th>\n",
              "      <th>label</th>\n",
              "    </tr>\n",
              "  </thead>\n",
              "  <tbody>\n",
              "    <tr>\n",
              "      <th>0</th>\n",
              "      <td>Keep your gloves, hats, coats and jackets toge...</td>\n",
              "      <td>122885</td>\n",
              "      <td>Assembly Required</td>\n",
              "    </tr>\n",
              "    <tr>\n",
              "      <th>1</th>\n",
              "      <td>Keep your gloves, hats, coats and jackets toge...</td>\n",
              "      <td>122885</td>\n",
              "      <td>Finish</td>\n",
              "    </tr>\n",
              "    <tr>\n",
              "      <th>2</th>\n",
              "      <td>Keep your gloves, hats, coats and jackets toge...</td>\n",
              "      <td>122885</td>\n",
              "      <td>Hardware Included</td>\n",
              "    </tr>\n",
              "    <tr>\n",
              "      <th>3</th>\n",
              "      <td>The Home Dynamix Serendipity Ivory 5 ft. 2 in....</td>\n",
              "      <td>188958</td>\n",
              "      <td>Commercial / Residential</td>\n",
              "    </tr>\n",
              "    <tr>\n",
              "      <th>4</th>\n",
              "      <td>The Home Dynamix Serendipity Ivory 5 ft. 2 in....</td>\n",
              "      <td>188958</td>\n",
              "      <td>Features</td>\n",
              "    </tr>\n",
              "    <tr>\n",
              "      <th>...</th>\n",
              "      <td>...</td>\n",
              "      <td>...</td>\n",
              "      <td>...</td>\n",
              "    </tr>\n",
              "    <tr>\n",
              "      <th>75165</th>\n",
              "      <td>This industrial grade anti-fatigue mat is engi...</td>\n",
              "      <td>171764</td>\n",
              "      <td>Features</td>\n",
              "    </tr>\n",
              "    <tr>\n",
              "      <th>75166</th>\n",
              "      <td>This industrial grade anti-fatigue mat is engi...</td>\n",
              "      <td>171764</td>\n",
              "      <td>Flooring Product Type</td>\n",
              "    </tr>\n",
              "    <tr>\n",
              "      <th>75167</th>\n",
              "      <td>This industrial grade anti-fatigue mat is engi...</td>\n",
              "      <td>171764</td>\n",
              "      <td>Indoor/Outdoor</td>\n",
              "    </tr>\n",
              "    <tr>\n",
              "      <th>75168</th>\n",
              "      <td>The Nite Ize LED Upgrade Kit converts most C/D...</td>\n",
              "      <td>117326</td>\n",
              "      <td>Package Quantity</td>\n",
              "    </tr>\n",
              "    <tr>\n",
              "      <th>75169</th>\n",
              "      <td>For the most comprehensive selection of nails ...</td>\n",
              "      <td>160856</td>\n",
              "      <td>Package Quantity</td>\n",
              "    </tr>\n",
              "  </tbody>\n",
              "</table>\n",
              "<p>75170 rows × 3 columns</p>\n",
              "</div>\n",
              "      <button class=\"colab-df-convert\" onclick=\"convertToInteractive('df-0990d5af-27e1-4fdd-b89f-8d67fddd846c')\"\n",
              "              title=\"Convert this dataframe to an interactive table.\"\n",
              "              style=\"display:none;\">\n",
              "        \n",
              "  <svg xmlns=\"http://www.w3.org/2000/svg\" height=\"24px\"viewBox=\"0 0 24 24\"\n",
              "       width=\"24px\">\n",
              "    <path d=\"M0 0h24v24H0V0z\" fill=\"none\"/>\n",
              "    <path d=\"M18.56 5.44l.94 2.06.94-2.06 2.06-.94-2.06-.94-.94-2.06-.94 2.06-2.06.94zm-11 1L8.5 8.5l.94-2.06 2.06-.94-2.06-.94L8.5 2.5l-.94 2.06-2.06.94zm10 10l.94 2.06.94-2.06 2.06-.94-2.06-.94-.94-2.06-.94 2.06-2.06.94z\"/><path d=\"M17.41 7.96l-1.37-1.37c-.4-.4-.92-.59-1.43-.59-.52 0-1.04.2-1.43.59L10.3 9.45l-7.72 7.72c-.78.78-.78 2.05 0 2.83L4 21.41c.39.39.9.59 1.41.59.51 0 1.02-.2 1.41-.59l7.78-7.78 2.81-2.81c.8-.78.8-2.07 0-2.86zM5.41 20L4 18.59l7.72-7.72 1.47 1.35L5.41 20z\"/>\n",
              "  </svg>\n",
              "      </button>\n",
              "      \n",
              "  <style>\n",
              "    .colab-df-container {\n",
              "      display:flex;\n",
              "      flex-wrap:wrap;\n",
              "      gap: 12px;\n",
              "    }\n",
              "\n",
              "    .colab-df-convert {\n",
              "      background-color: #E8F0FE;\n",
              "      border: none;\n",
              "      border-radius: 50%;\n",
              "      cursor: pointer;\n",
              "      display: none;\n",
              "      fill: #1967D2;\n",
              "      height: 32px;\n",
              "      padding: 0 0 0 0;\n",
              "      width: 32px;\n",
              "    }\n",
              "\n",
              "    .colab-df-convert:hover {\n",
              "      background-color: #E2EBFA;\n",
              "      box-shadow: 0px 1px 2px rgba(60, 64, 67, 0.3), 0px 1px 3px 1px rgba(60, 64, 67, 0.15);\n",
              "      fill: #174EA6;\n",
              "    }\n",
              "\n",
              "    [theme=dark] .colab-df-convert {\n",
              "      background-color: #3B4455;\n",
              "      fill: #D2E3FC;\n",
              "    }\n",
              "\n",
              "    [theme=dark] .colab-df-convert:hover {\n",
              "      background-color: #434B5C;\n",
              "      box-shadow: 0px 1px 3px 1px rgba(0, 0, 0, 0.15);\n",
              "      filter: drop-shadow(0px 1px 2px rgba(0, 0, 0, 0.3));\n",
              "      fill: #FFFFFF;\n",
              "    }\n",
              "  </style>\n",
              "\n",
              "      <script>\n",
              "        const buttonEl =\n",
              "          document.querySelector('#df-0990d5af-27e1-4fdd-b89f-8d67fddd846c button.colab-df-convert');\n",
              "        buttonEl.style.display =\n",
              "          google.colab.kernel.accessAllowed ? 'block' : 'none';\n",
              "\n",
              "        async function convertToInteractive(key) {\n",
              "          const element = document.querySelector('#df-0990d5af-27e1-4fdd-b89f-8d67fddd846c');\n",
              "          const dataTable =\n",
              "            await google.colab.kernel.invokeFunction('convertToInteractive',\n",
              "                                                     [key], {});\n",
              "          if (!dataTable) return;\n",
              "\n",
              "          const docLinkHtml = 'Like what you see? Visit the ' +\n",
              "            '<a target=\"_blank\" href=https://colab.research.google.com/notebooks/data_table.ipynb>data table notebook</a>'\n",
              "            + ' to learn more about interactive tables.';\n",
              "          element.innerHTML = '';\n",
              "          dataTable['output_type'] = 'display_data';\n",
              "          await google.colab.output.renderOutput(dataTable, element);\n",
              "          const docLink = document.createElement('div');\n",
              "          docLink.innerHTML = docLinkHtml;\n",
              "          element.appendChild(docLink);\n",
              "        }\n",
              "      </script>\n",
              "    </div>\n",
              "  </div>\n",
              "  "
            ]
          },
          "metadata": {},
          "execution_count": 4
        }
      ],
      "source": [
        "df = pd.merge(data, datalabels, on='id')\n",
        "df"
      ]
    },
    {
      "cell_type": "markdown",
      "source": [
        "#### *Data Cleaning*\n",
        "* *The original dataframe contained duplicated texts with unique labels associated with them.*\n",
        "\n",
        "* *To address this, I grouped the dataframe based on the texts and aggregated the labels.*\n",
        "\n",
        "* *This allowed to create a new dataframe with unique text values and their corresponding aggregated labels.*\n",
        "\n",
        "* *Initially, the original dataframe had 15 unique labels. However, due to the duplication of texts, the new dataframe may have additional unique labels.*\n",
        "\n",
        "* *The IDs associated with the texts were not necessary for building the model, so they were not included in the new dataframe.*\n",
        "> *The resulting dataframe would have unique texts, but the labels might not be unique.*"
      ],
      "metadata": {
        "id": "VI9xZvh5bmj1"
      }
    },
    {
      "cell_type": "code",
      "source": [
        "df_grouped = df.groupby('text').agg({'id': list, 'label': lambda x: ', '.join(set(x))}).reset_index()\n",
        "df_grouped['labels'] = df_grouped['label']\n",
        "final_df = df_grouped[['text', 'labels']]"
      ],
      "metadata": {
        "id": "9np_HH-8Mcvf"
      },
      "execution_count": 5,
      "outputs": []
    },
    {
      "cell_type": "code",
      "source": [
        "final_df"
      ],
      "metadata": {
        "colab": {
          "base_uri": "https://localhost:8080/",
          "height": 423
        },
        "id": "CKXPwRk_MeYi",
        "outputId": "ca365ea9-2992-4055-8973-9b18533cddd7"
      },
      "execution_count": 6,
      "outputs": [
        {
          "output_type": "execute_result",
          "data": {
            "text/plain": [
              "                                                    text  \\\n",
              "0      \"Constructor\" Prelude door locks feature moder...   \n",
              "1      \"Constructor\" Prelude door locks feature moder...   \n",
              "2      \"Constructor\" offers premium classic style doo...   \n",
              "3      \"Constructor\" offers premium classic style doo...   \n",
              "4      \"Constructor\" offers premium classic style doo...   \n",
              "...                                                  ...   \n",
              "41564  the great outdoors by Minka Lavery Irvington M...   \n",
              "41565  the great outdoors by Minka Lavery Irvington M...   \n",
              "41566  the great outdoors by Minka Lavery Irvington M...   \n",
              "41567  the great outdoors by Minka Lavery Irvington M...   \n",
              "41568  the great outdoors by Minka Lavery Irvington M...   \n",
              "\n",
              "                                       labels  \n",
              "0                   Hardware Included, Finish  \n",
              "1                   Hardware Included, Finish  \n",
              "2                   Hardware Included, Finish  \n",
              "3                   Hardware Included, Finish  \n",
              "4                   Hardware Included, Finish  \n",
              "...                                       ...  \n",
              "41564  Wattage (watts), ENERGY STAR Certified  \n",
              "41565  Wattage (watts), ENERGY STAR Certified  \n",
              "41566  Wattage (watts), ENERGY STAR Certified  \n",
              "41567  Wattage (watts), ENERGY STAR Certified  \n",
              "41568  Wattage (watts), ENERGY STAR Certified  \n",
              "\n",
              "[41569 rows x 2 columns]"
            ],
            "text/html": [
              "\n",
              "  <div id=\"df-f01b0267-73c3-44d7-8634-c18843c45e3e\">\n",
              "    <div class=\"colab-df-container\">\n",
              "      <div>\n",
              "<style scoped>\n",
              "    .dataframe tbody tr th:only-of-type {\n",
              "        vertical-align: middle;\n",
              "    }\n",
              "\n",
              "    .dataframe tbody tr th {\n",
              "        vertical-align: top;\n",
              "    }\n",
              "\n",
              "    .dataframe thead th {\n",
              "        text-align: right;\n",
              "    }\n",
              "</style>\n",
              "<table border=\"1\" class=\"dataframe\">\n",
              "  <thead>\n",
              "    <tr style=\"text-align: right;\">\n",
              "      <th></th>\n",
              "      <th>text</th>\n",
              "      <th>labels</th>\n",
              "    </tr>\n",
              "  </thead>\n",
              "  <tbody>\n",
              "    <tr>\n",
              "      <th>0</th>\n",
              "      <td>\"Constructor\" Prelude door locks feature moder...</td>\n",
              "      <td>Hardware Included, Finish</td>\n",
              "    </tr>\n",
              "    <tr>\n",
              "      <th>1</th>\n",
              "      <td>\"Constructor\" Prelude door locks feature moder...</td>\n",
              "      <td>Hardware Included, Finish</td>\n",
              "    </tr>\n",
              "    <tr>\n",
              "      <th>2</th>\n",
              "      <td>\"Constructor\" offers premium classic style doo...</td>\n",
              "      <td>Hardware Included, Finish</td>\n",
              "    </tr>\n",
              "    <tr>\n",
              "      <th>3</th>\n",
              "      <td>\"Constructor\" offers premium classic style doo...</td>\n",
              "      <td>Hardware Included, Finish</td>\n",
              "    </tr>\n",
              "    <tr>\n",
              "      <th>4</th>\n",
              "      <td>\"Constructor\" offers premium classic style doo...</td>\n",
              "      <td>Hardware Included, Finish</td>\n",
              "    </tr>\n",
              "    <tr>\n",
              "      <th>...</th>\n",
              "      <td>...</td>\n",
              "      <td>...</td>\n",
              "    </tr>\n",
              "    <tr>\n",
              "      <th>41564</th>\n",
              "      <td>the great outdoors by Minka Lavery Irvington M...</td>\n",
              "      <td>Wattage (watts), ENERGY STAR Certified</td>\n",
              "    </tr>\n",
              "    <tr>\n",
              "      <th>41565</th>\n",
              "      <td>the great outdoors by Minka Lavery Irvington M...</td>\n",
              "      <td>Wattage (watts), ENERGY STAR Certified</td>\n",
              "    </tr>\n",
              "    <tr>\n",
              "      <th>41566</th>\n",
              "      <td>the great outdoors by Minka Lavery Irvington M...</td>\n",
              "      <td>Wattage (watts), ENERGY STAR Certified</td>\n",
              "    </tr>\n",
              "    <tr>\n",
              "      <th>41567</th>\n",
              "      <td>the great outdoors by Minka Lavery Irvington M...</td>\n",
              "      <td>Wattage (watts), ENERGY STAR Certified</td>\n",
              "    </tr>\n",
              "    <tr>\n",
              "      <th>41568</th>\n",
              "      <td>the great outdoors by Minka Lavery Irvington M...</td>\n",
              "      <td>Wattage (watts), ENERGY STAR Certified</td>\n",
              "    </tr>\n",
              "  </tbody>\n",
              "</table>\n",
              "<p>41569 rows × 2 columns</p>\n",
              "</div>\n",
              "      <button class=\"colab-df-convert\" onclick=\"convertToInteractive('df-f01b0267-73c3-44d7-8634-c18843c45e3e')\"\n",
              "              title=\"Convert this dataframe to an interactive table.\"\n",
              "              style=\"display:none;\">\n",
              "        \n",
              "  <svg xmlns=\"http://www.w3.org/2000/svg\" height=\"24px\"viewBox=\"0 0 24 24\"\n",
              "       width=\"24px\">\n",
              "    <path d=\"M0 0h24v24H0V0z\" fill=\"none\"/>\n",
              "    <path d=\"M18.56 5.44l.94 2.06.94-2.06 2.06-.94-2.06-.94-.94-2.06-.94 2.06-2.06.94zm-11 1L8.5 8.5l.94-2.06 2.06-.94-2.06-.94L8.5 2.5l-.94 2.06-2.06.94zm10 10l.94 2.06.94-2.06 2.06-.94-2.06-.94-.94-2.06-.94 2.06-2.06.94z\"/><path d=\"M17.41 7.96l-1.37-1.37c-.4-.4-.92-.59-1.43-.59-.52 0-1.04.2-1.43.59L10.3 9.45l-7.72 7.72c-.78.78-.78 2.05 0 2.83L4 21.41c.39.39.9.59 1.41.59.51 0 1.02-.2 1.41-.59l7.78-7.78 2.81-2.81c.8-.78.8-2.07 0-2.86zM5.41 20L4 18.59l7.72-7.72 1.47 1.35L5.41 20z\"/>\n",
              "  </svg>\n",
              "      </button>\n",
              "      \n",
              "  <style>\n",
              "    .colab-df-container {\n",
              "      display:flex;\n",
              "      flex-wrap:wrap;\n",
              "      gap: 12px;\n",
              "    }\n",
              "\n",
              "    .colab-df-convert {\n",
              "      background-color: #E8F0FE;\n",
              "      border: none;\n",
              "      border-radius: 50%;\n",
              "      cursor: pointer;\n",
              "      display: none;\n",
              "      fill: #1967D2;\n",
              "      height: 32px;\n",
              "      padding: 0 0 0 0;\n",
              "      width: 32px;\n",
              "    }\n",
              "\n",
              "    .colab-df-convert:hover {\n",
              "      background-color: #E2EBFA;\n",
              "      box-shadow: 0px 1px 2px rgba(60, 64, 67, 0.3), 0px 1px 3px 1px rgba(60, 64, 67, 0.15);\n",
              "      fill: #174EA6;\n",
              "    }\n",
              "\n",
              "    [theme=dark] .colab-df-convert {\n",
              "      background-color: #3B4455;\n",
              "      fill: #D2E3FC;\n",
              "    }\n",
              "\n",
              "    [theme=dark] .colab-df-convert:hover {\n",
              "      background-color: #434B5C;\n",
              "      box-shadow: 0px 1px 3px 1px rgba(0, 0, 0, 0.15);\n",
              "      filter: drop-shadow(0px 1px 2px rgba(0, 0, 0, 0.3));\n",
              "      fill: #FFFFFF;\n",
              "    }\n",
              "  </style>\n",
              "\n",
              "      <script>\n",
              "        const buttonEl =\n",
              "          document.querySelector('#df-f01b0267-73c3-44d7-8634-c18843c45e3e button.colab-df-convert');\n",
              "        buttonEl.style.display =\n",
              "          google.colab.kernel.accessAllowed ? 'block' : 'none';\n",
              "\n",
              "        async function convertToInteractive(key) {\n",
              "          const element = document.querySelector('#df-f01b0267-73c3-44d7-8634-c18843c45e3e');\n",
              "          const dataTable =\n",
              "            await google.colab.kernel.invokeFunction('convertToInteractive',\n",
              "                                                     [key], {});\n",
              "          if (!dataTable) return;\n",
              "\n",
              "          const docLinkHtml = 'Like what you see? Visit the ' +\n",
              "            '<a target=\"_blank\" href=https://colab.research.google.com/notebooks/data_table.ipynb>data table notebook</a>'\n",
              "            + ' to learn more about interactive tables.';\n",
              "          element.innerHTML = '';\n",
              "          dataTable['output_type'] = 'display_data';\n",
              "          await google.colab.output.renderOutput(dataTable, element);\n",
              "          const docLink = document.createElement('div');\n",
              "          docLink.innerHTML = docLinkHtml;\n",
              "          element.appendChild(docLink);\n",
              "        }\n",
              "      </script>\n",
              "    </div>\n",
              "  </div>\n",
              "  "
            ]
          },
          "metadata": {},
          "execution_count": 6
        }
      ]
    },
    {
      "cell_type": "code",
      "execution_count": 7,
      "metadata": {
        "colab": {
          "base_uri": "https://localhost:8080/"
        },
        "id": "WuX-MQTsSXMQ",
        "outputId": "c6813143-197b-48be-ea75-5e53a4902f47"
      },
      "outputs": [
        {
          "output_type": "stream",
          "name": "stdout",
          "text": [
            "<class 'pandas.core.frame.DataFrame'>\n",
            "RangeIndex: 41569 entries, 0 to 41568\n",
            "Data columns (total 2 columns):\n",
            " #   Column  Non-Null Count  Dtype \n",
            "---  ------  --------------  ----- \n",
            " 0   text    41569 non-null  object\n",
            " 1   labels  41569 non-null  object\n",
            "dtypes: object(2)\n",
            "memory usage: 649.6+ KB\n"
          ]
        }
      ],
      "source": [
        "final_df.info()"
      ]
    },
    {
      "cell_type": "markdown",
      "metadata": {
        "id": "6DlAR7qVGEj7"
      },
      "source": [
        "### *Exploratory Data Analysis*"
      ]
    },
    {
      "cell_type": "markdown",
      "metadata": {
        "id": "24v70qx_Obxr"
      },
      "source": [
        "#### *Analyzing `Label` Column*"
      ]
    },
    {
      "cell_type": "code",
      "source": [
        "label_counts = final_df['labels'].value_counts()\n",
        "unique_labels = len(label_counts)\n",
        "print(\"Number of unique labels:\", unique_labels)"
      ],
      "metadata": {
        "colab": {
          "base_uri": "https://localhost:8080/"
        },
        "id": "IbeP39eFS7Dz",
        "outputId": "c4483dcc-f04d-42a0-e257-23a0fe2c98dd"
      },
      "execution_count": 8,
      "outputs": [
        {
          "output_type": "stream",
          "name": "stdout",
          "text": [
            "Number of unique labels: 225\n"
          ]
        }
      ]
    },
    {
      "cell_type": "code",
      "source": [
        "label_counts"
      ],
      "metadata": {
        "colab": {
          "base_uri": "https://localhost:8080/"
        },
        "id": "yX19ZeLESSkD",
        "outputId": "5fc897f2-87de-492c-f0a0-3cf65a3b33d0"
      },
      "execution_count": 9,
      "outputs": [
        {
          "output_type": "execute_result",
          "data": {
            "text/plain": [
              "Tools Product Type                                                                  3369\n",
              "Package Quantity                                                                    2303\n",
              "Color                                                                               2157\n",
              "Assembly Required                                                                   2014\n",
              "Commercial / Residential, Flooring Product Type, Indoor/Outdoor                     1755\n",
              "                                                                                    ... \n",
              "Color, Indoor/Outdoor, ENERGY STAR Certified                                           1\n",
              "Commercial / Residential, Indoor/Outdoor, ENERGY STAR Certified                        1\n",
              "Commercial / Residential, Indoor/Outdoor, Voltage (volts), ENERGY STAR Certified       1\n",
              "Included, Shape, Package Quantity                                                      1\n",
              "Hardware Included, Color, Indoor/Outdoor, Assembly Required                            1\n",
              "Name: labels, Length: 225, dtype: int64"
            ]
          },
          "metadata": {},
          "execution_count": 9
        }
      ]
    },
    {
      "cell_type": "code",
      "source": [
        "highest_count = label_counts.max()\n",
        "lowest_count = label_counts.min()\n",
        "average_count = label_counts.mean()\n",
        "\n",
        "print(\"Highest Label Count:\", highest_count)\n",
        "print(\"Lowest Label Count:\", lowest_count)\n",
        "print(\"Average Label Count:\", average_count)"
      ],
      "metadata": {
        "colab": {
          "base_uri": "https://localhost:8080/"
        },
        "id": "AvRZRA7tZ5_y",
        "outputId": "d32a310c-e93d-472a-9797-09d431dbde8d"
      },
      "execution_count": 10,
      "outputs": [
        {
          "output_type": "stream",
          "name": "stdout",
          "text": [
            "Highest Label Count: 3369\n",
            "Lowest Label Count: 1\n",
            "Average Label Count: 184.7511111111111\n"
          ]
        }
      ]
    },
    {
      "cell_type": "code",
      "source": [
        "quartiles = np.percentile(label_counts, [25, 50, 75])\n",
        "iqr_25 = quartiles[0]\n",
        "iqr_50 = quartiles[1]\n",
        "iqr_75 = quartiles[2]\n",
        "\n",
        "print(\"IQR at 25% :\", iqr_25)\n",
        "print(\"IQR 50% :\", iqr_50)\n",
        "print(\"IQR at 75% :\", iqr_75)"
      ],
      "metadata": {
        "colab": {
          "base_uri": "https://localhost:8080/"
        },
        "id": "PJuAHs5cgdDQ",
        "outputId": "fb29a987-9e99-4dcb-f93c-6fe98cb42302"
      },
      "execution_count": 11,
      "outputs": [
        {
          "output_type": "stream",
          "name": "stdout",
          "text": [
            "IQR at 25% : 2.0\n",
            "IQR 50% : 15.0\n",
            "IQR at 75% : 126.0\n"
          ]
        }
      ]
    },
    {
      "cell_type": "markdown",
      "source": [
        "* *The label counts in the data show a significant imbalance. On average, each label appears around 184 times, but looking at the middle value (50th percentile) of the label counts, it drops down to just 15. This suggests that a few labels are appearing much more frequently than others.*\n",
        "* *The highest label count reaches 3369, which is considerably higher than the 75th percentile value of 126. This wide range between the highest count and the upper quartile indicates a significant imbalance in label distribution.*"
      ],
      "metadata": {
        "id": "H1WqRSU-g1OT"
      }
    },
    {
      "cell_type": "code",
      "source": [
        "label_counts"
      ],
      "metadata": {
        "colab": {
          "base_uri": "https://localhost:8080/"
        },
        "id": "h1J0EgPMUKF_",
        "outputId": "2d76fc4f-5d85-4cab-eb25-e71442254719"
      },
      "execution_count": 12,
      "outputs": [
        {
          "output_type": "execute_result",
          "data": {
            "text/plain": [
              "Tools Product Type                                                                  3369\n",
              "Package Quantity                                                                    2303\n",
              "Color                                                                               2157\n",
              "Assembly Required                                                                   2014\n",
              "Commercial / Residential, Flooring Product Type, Indoor/Outdoor                     1755\n",
              "                                                                                    ... \n",
              "Color, Indoor/Outdoor, ENERGY STAR Certified                                           1\n",
              "Commercial / Residential, Indoor/Outdoor, ENERGY STAR Certified                        1\n",
              "Commercial / Residential, Indoor/Outdoor, Voltage (volts), ENERGY STAR Certified       1\n",
              "Included, Shape, Package Quantity                                                      1\n",
              "Hardware Included, Color, Indoor/Outdoor, Assembly Required                            1\n",
              "Name: labels, Length: 225, dtype: int64"
            ]
          },
          "metadata": {},
          "execution_count": 12
        }
      ]
    },
    {
      "cell_type": "code",
      "execution_count": 13,
      "metadata": {
        "colab": {
          "base_uri": "https://localhost:8080/",
          "height": 684
        },
        "id": "TPRNJEKuQtQ6",
        "outputId": "de8877af-967b-4663-b035-4e9efd8a33dd"
      },
      "outputs": [
        {
          "output_type": "display_data",
          "data": {
            "text/plain": [
              "<Figure size 1300x1200 with 2 Axes>"
            ],
            "image/png": "[encoded data removed]"
          },
          "metadata": {}
        }
      ],
      "source": [
        "top_n = 20\n",
        "\n",
        "top_frequent_labels = label_counts.sort_values(ascending=False).head(top_n)\n",
        "top_least_frequent_labels = label_counts.sort_values(ascending=True).head(top_n)\n",
        "\n",
        "fig, (ax1, ax2) = plt.subplots(2, 1, figsize=(13, 12))\n",
        "\n",
        "colors = sns.color_palette('Set3', n_colors=top_n)\n",
        "\n",
        "sns.barplot(y=top_frequent_labels.index, x=top_frequent_labels, ax=ax1, palette=colors)\n",
        "ax1.set_title(f'Top {top_n} Most Frequent Labels')\n",
        "ax1.set_xlabel('Frequency')\n",
        "\n",
        "sns.barplot(y=top_least_frequent_labels.index, x=top_least_frequent_labels, ax=ax2, palette=colors)\n",
        "ax2.set_title(f'Top {top_n} Least Frequent Labels')\n",
        "ax2.set_xlabel('Frequency')\n",
        "\n",
        "plt.subplots_adjust(hspace=0.3)\n"
      ]
    },
    {
      "cell_type": "markdown",
      "source": [
        "* The label `Tools Product Type` is the most repeated label, appearing over 3400 times in the dataset.\n",
        "* Following closely are the labels \"Package Quantity\" and \"Color,\" which are repeated around 2300-2400 times.\n",
        "* The top 15 most frequent labels consist mainly 11 out of 15 original labels, with only 4 newer aggregated labels which resulted from combining multiple labels from the original set.\n",
        "* This could be because 11 out of 15 original labels, had duplicated texts associated with them, resulting in a larger number of occurrences for those labels.\n",
        "* In contrast, the least frequent labels are exclusively composed of these newly aggregated labels.\n",
        "* Since these labels combine different variations and categories from the original set, their occurrence is limited to just one instance.\n"
      ],
      "metadata": {
        "id": "sgsG6cJzkUhk"
      }
    },
    {
      "cell_type": "markdown",
      "metadata": {
        "id": "3LVqPUotQ9z_"
      },
      "source": [
        "#### *Analyzing `Text` Column*"
      ]
    },
    {
      "cell_type": "code",
      "source": [
        "dff = final_df.groupby('labels')['text'].apply(list).reset_index(name='Texts')\n",
        "dff['Paragraphs'] = dff['Texts'].apply(lambda x: len(x))\n",
        "dff['Words'] = dff['Texts'].apply(lambda x: len(' '.join(x).split()))\n",
        "dff"
      ],
      "metadata": {
        "colab": {
          "base_uri": "https://localhost:8080/",
          "height": 423
        },
        "id": "X1m1Si4Iwdzl",
        "outputId": "0dd0a50c-2c6c-4d67-8bb5-87e471c3bf8e"
      },
      "execution_count": 14,
      "outputs": [
        {
          "output_type": "execute_result",
          "data": {
            "text/plain": [
              "                                                labels  \\\n",
              "0                                    Assembly Required   \n",
              "1             Assembly Required, ENERGY STAR Certified   \n",
              "2    Assembly Required, Hardware Included, Finish, ...   \n",
              "3                   Assembly Required, Voltage (volts)   \n",
              "4                                                Color   \n",
              "..                                                 ...   \n",
              "220          Wattage (watts), Indoor/Outdoor, Features   \n",
              "221   Wattage (watts), Indoor/Outdoor, Voltage (volts)   \n",
              "222  Wattage (watts), Indoor/Outdoor, Voltage (volt...   \n",
              "223                   Wattage (watts), Voltage (volts)   \n",
              "224  Wattage (watts), Voltage (volts), ENERGY STAR ...   \n",
              "\n",
              "                                                 Texts  Paragraphs   Words  \n",
              "0    [3-Piece Bistro Set Includes Outdoor Dining Ta...        2014  313561  \n",
              "1    [The John Deere 2-Bar Bumper for 100 Series La...           2     150  \n",
              "2    [Create added privacy in a bedroom, dorm or ot...          13    1474  \n",
              "3    [A commercial vacuum designed for all-around u...         183   32269  \n",
              "4    [\"Eagle professional dock builder foam filled ...        2157  232770  \n",
              "..                                                 ...         ...     ...  \n",
              "220  [Add a bright, fun LED light display to your o...           5     392  \n",
              "221  [Activating and deactivating your water heater...          95   12444  \n",
              "222  [The Bosch/Powerstar 12 kW tankless water heat...           5    1080  \n",
              "223  [2 built-in 20-watt halogen lights illuminate ...         310   64684  \n",
              "224  [4-Slice Toaster Broiler Lets You Cook and Toa...         145   18167  \n",
              "\n",
              "[225 rows x 4 columns]"
            ],
            "text/html": [
              "\n",
              "  <div id=\"df-72000354-6347-47c6-bb9f-a11a6b18def1\">\n",
              "    <div class=\"colab-df-container\">\n",
              "      <div>\n",
              "<style scoped>\n",
              "    .dataframe tbody tr th:only-of-type {\n",
              "        vertical-align: middle;\n",
              "    }\n",
              "\n",
              "    .dataframe tbody tr th {\n",
              "        vertical-align: top;\n",
              "    }\n",
              "\n",
              "    .dataframe thead th {\n",
              "        text-align: right;\n",
              "    }\n",
              "</style>\n",
              "<table border=\"1\" class=\"dataframe\">\n",
              "  <thead>\n",
              "    <tr style=\"text-align: right;\">\n",
              "      <th></th>\n",
              "      <th>labels</th>\n",
              "      <th>Texts</th>\n",
              "      <th>Paragraphs</th>\n",
              "      <th>Words</th>\n",
              "    </tr>\n",
              "  </thead>\n",
              "  <tbody>\n",
              "    <tr>\n",
              "      <th>0</th>\n",
              "      <td>Assembly Required</td>\n",
              "      <td>[3-Piece Bistro Set Includes Outdoor Dining Ta...</td>\n",
              "      <td>2014</td>\n",
              "      <td>313561</td>\n",
              "    </tr>\n",
              "    <tr>\n",
              "      <th>1</th>\n",
              "      <td>Assembly Required, ENERGY STAR Certified</td>\n",
              "      <td>[The John Deere 2-Bar Bumper for 100 Series La...</td>\n",
              "      <td>2</td>\n",
              "      <td>150</td>\n",
              "    </tr>\n",
              "    <tr>\n",
              "      <th>2</th>\n",
              "      <td>Assembly Required, Hardware Included, Finish, ...</td>\n",
              "      <td>[Create added privacy in a bedroom, dorm or ot...</td>\n",
              "      <td>13</td>\n",
              "      <td>1474</td>\n",
              "    </tr>\n",
              "    <tr>\n",
              "      <th>3</th>\n",
              "      <td>Assembly Required, Voltage (volts)</td>\n",
              "      <td>[A commercial vacuum designed for all-around u...</td>\n",
              "      <td>183</td>\n",
              "      <td>32269</td>\n",
              "    </tr>\n",
              "    <tr>\n",
              "      <th>4</th>\n",
              "      <td>Color</td>\n",
              "      <td>[\"Eagle professional dock builder foam filled ...</td>\n",
              "      <td>2157</td>\n",
              "      <td>232770</td>\n",
              "    </tr>\n",
              "    <tr>\n",
              "      <th>...</th>\n",
              "      <td>...</td>\n",
              "      <td>...</td>\n",
              "      <td>...</td>\n",
              "      <td>...</td>\n",
              "    </tr>\n",
              "    <tr>\n",
              "      <th>220</th>\n",
              "      <td>Wattage (watts), Indoor/Outdoor, Features</td>\n",
              "      <td>[Add a bright, fun LED light display to your o...</td>\n",
              "      <td>5</td>\n",
              "      <td>392</td>\n",
              "    </tr>\n",
              "    <tr>\n",
              "      <th>221</th>\n",
              "      <td>Wattage (watts), Indoor/Outdoor, Voltage (volts)</td>\n",
              "      <td>[Activating and deactivating your water heater...</td>\n",
              "      <td>95</td>\n",
              "      <td>12444</td>\n",
              "    </tr>\n",
              "    <tr>\n",
              "      <th>222</th>\n",
              "      <td>Wattage (watts), Indoor/Outdoor, Voltage (volt...</td>\n",
              "      <td>[The Bosch/Powerstar 12 kW tankless water heat...</td>\n",
              "      <td>5</td>\n",
              "      <td>1080</td>\n",
              "    </tr>\n",
              "    <tr>\n",
              "      <th>223</th>\n",
              "      <td>Wattage (watts), Voltage (volts)</td>\n",
              "      <td>[2 built-in 20-watt halogen lights illuminate ...</td>\n",
              "      <td>310</td>\n",
              "      <td>64684</td>\n",
              "    </tr>\n",
              "    <tr>\n",
              "      <th>224</th>\n",
              "      <td>Wattage (watts), Voltage (volts), ENERGY STAR ...</td>\n",
              "      <td>[4-Slice Toaster Broiler Lets You Cook and Toa...</td>\n",
              "      <td>145</td>\n",
              "      <td>18167</td>\n",
              "    </tr>\n",
              "  </tbody>\n",
              "</table>\n",
              "<p>225 rows × 4 columns</p>\n",
              "</div>\n",
              "      <button class=\"colab-df-convert\" onclick=\"convertToInteractive('df-72000354-6347-47c6-bb9f-a11a6b18def1')\"\n",
              "              title=\"Convert this dataframe to an interactive table.\"\n",
              "              style=\"display:none;\">\n",
              "        \n",
              "  <svg xmlns=\"http://www.w3.org/2000/svg\" height=\"24px\"viewBox=\"0 0 24 24\"\n",
              "       width=\"24px\">\n",
              "    <path d=\"M0 0h24v24H0V0z\" fill=\"none\"/>\n",
              "    <path d=\"M18.56 5.44l.94 2.06.94-2.06 2.06-.94-2.06-.94-.94-2.06-.94 2.06-2.06.94zm-11 1L8.5 8.5l.94-2.06 2.06-.94-2.06-.94L8.5 2.5l-.94 2.06-2.06.94zm10 10l.94 2.06.94-2.06 2.06-.94-2.06-.94-.94-2.06-.94 2.06-2.06.94z\"/><path d=\"M17.41 7.96l-1.37-1.37c-.4-.4-.92-.59-1.43-.59-.52 0-1.04.2-1.43.59L10.3 9.45l-7.72 7.72c-.78.78-.78 2.05 0 2.83L4 21.41c.39.39.9.59 1.41.59.51 0 1.02-.2 1.41-.59l7.78-7.78 2.81-2.81c.8-.78.8-2.07 0-2.86zM5.41 20L4 18.59l7.72-7.72 1.47 1.35L5.41 20z\"/>\n",
              "  </svg>\n",
              "      </button>\n",
              "      \n",
              "  <style>\n",
              "    .colab-df-container {\n",
              "      display:flex;\n",
              "      flex-wrap:wrap;\n",
              "      gap: 12px;\n",
              "    }\n",
              "\n",
              "    .colab-df-convert {\n",
              "      background-color: #E8F0FE;\n",
              "      border: none;\n",
              "      border-radius: 50%;\n",
              "      cursor: pointer;\n",
              "      display: none;\n",
              "      fill: #1967D2;\n",
              "      height: 32px;\n",
              "      padding: 0 0 0 0;\n",
              "      width: 32px;\n",
              "    }\n",
              "\n",
              "    .colab-df-convert:hover {\n",
              "      background-color: #E2EBFA;\n",
              "      box-shadow: 0px 1px 2px rgba(60, 64, 67, 0.3), 0px 1px 3px 1px rgba(60, 64, 67, 0.15);\n",
              "      fill: #174EA6;\n",
              "    }\n",
              "\n",
              "    [theme=dark] .colab-df-convert {\n",
              "      background-color: #3B4455;\n",
              "      fill: #D2E3FC;\n",
              "    }\n",
              "\n",
              "    [theme=dark] .colab-df-convert:hover {\n",
              "      background-color: #434B5C;\n",
              "      box-shadow: 0px 1px 3px 1px rgba(0, 0, 0, 0.15);\n",
              "      filter: drop-shadow(0px 1px 2px rgba(0, 0, 0, 0.3));\n",
              "      fill: #FFFFFF;\n",
              "    }\n",
              "  </style>\n",
              "\n",
              "      <script>\n",
              "        const buttonEl =\n",
              "          document.querySelector('#df-72000354-6347-47c6-bb9f-a11a6b18def1 button.colab-df-convert');\n",
              "        buttonEl.style.display =\n",
              "          google.colab.kernel.accessAllowed ? 'block' : 'none';\n",
              "\n",
              "        async function convertToInteractive(key) {\n",
              "          const element = document.querySelector('#df-72000354-6347-47c6-bb9f-a11a6b18def1');\n",
              "          const dataTable =\n",
              "            await google.colab.kernel.invokeFunction('convertToInteractive',\n",
              "                                                     [key], {});\n",
              "          if (!dataTable) return;\n",
              "\n",
              "          const docLinkHtml = 'Like what you see? Visit the ' +\n",
              "            '<a target=\"_blank\" href=https://colab.research.google.com/notebooks/data_table.ipynb>data table notebook</a>'\n",
              "            + ' to learn more about interactive tables.';\n",
              "          element.innerHTML = '';\n",
              "          dataTable['output_type'] = 'display_data';\n",
              "          await google.colab.output.renderOutput(dataTable, element);\n",
              "          const docLink = document.createElement('div');\n",
              "          docLink.innerHTML = docLinkHtml;\n",
              "          element.appendChild(docLink);\n",
              "        }\n",
              "      </script>\n",
              "    </div>\n",
              "  </div>\n",
              "  "
            ]
          },
          "metadata": {},
          "execution_count": 14
        }
      ]
    },
    {
      "cell_type": "markdown",
      "source": [
        "* *The `Texts` column shows the list of all the texts grouped by their corresponding labels.*\n",
        "\n",
        "* *The `Paragraphs` column represents the count of individual text for each label.*\n",
        "\n",
        "* *The `Words` column displays the count of words for each label.*\n",
        "\n",
        "  > *By using these columns, we can understand how many texts (paragraphs) and words are associated with each label in the dataset.*"
      ],
      "metadata": {
        "id": "ZMwGiqJitFpr"
      }
    },
    {
      "cell_type": "code",
      "source": [
        "top_n = 20\n",
        "\n",
        "top_labels = label_counts.sort_values(ascending=False)[:top_n]\n",
        "total_occurrences = top_labels.sum()\n",
        "print(\"Total Occurrences of Top 20 Labels:\", total_occurrences)\n",
        "\n",
        "total_occurrences = label_counts.sum()\n",
        "print(\"Total Occurrences of All the 225 Labels:\", total_occurrences)"
      ],
      "metadata": {
        "colab": {
          "base_uri": "https://localhost:8080/"
        },
        "id": "N6HWP8lQ4-Dg",
        "outputId": "8274ba3f-3ce7-4b0d-aa09-6415dd8f0b26"
      },
      "execution_count": 15,
      "outputs": [
        {
          "output_type": "stream",
          "name": "stdout",
          "text": [
            "Total Occurrences of Top 20 Labels: 27610\n",
            "Total Occurrences of All the 225 Labels: 41569\n"
          ]
        }
      ]
    },
    {
      "cell_type": "markdown",
      "source": [
        "\n",
        "* *Analyzing the top 20 labels, out of the total of 225, as they have a combined count of 27610, which accounts for about 66.43% of the total count of 41569.*"
      ],
      "metadata": {
        "id": "x6kYq5028STS"
      }
    },
    {
      "cell_type": "code",
      "source": [
        "top_20_labels = dff.nlargest(20, 'Paragraphs')\n",
        "\n",
        "fig, axes = plt.subplots(nrows=1, ncols=2, figsize=(13, 5))\n",
        "\n",
        "sns.histplot(top_20_labels['Paragraphs'], bins=20, color='orange', kde = True, ax=axes[0])\n",
        "axes[0].set_title('Paragraph Length for Top 20 Labels')\n",
        "axes[0].set_xlabel('Number of Paragraphs in Each Label')\n",
        "axes[0].set_ylabel(\"Label Count\")\n",
        "\n",
        "sns.histplot(top_20_labels['Words'], bins=20, color='green', kde = True, ax=axes[1])\n",
        "axes[1].set_title('Word Length for Top 20 Labels')\n",
        "axes[1].set_xlabel('Number of Words in Each Paragraph')\n",
        "axes[1].set_ylabel(\"Paragraph Count\")\n",
        "\n",
        "plt.tight_layout()"
      ],
      "metadata": {
        "colab": {
          "base_uri": "https://localhost:8080/",
          "height": 440
        },
        "id": "kgVQR4Wm966D",
        "outputId": "3eb67cce-c22e-4299-9dd7-56cb6bfeee84"
      },
      "execution_count": 16,
      "outputs": [
        {
          "output_type": "display_data",
          "data": {
            "text/plain": [
              "<Figure size 1300x500 with 2 Axes>"
            ],
            "image/png": "[encoded data removed]"
          },
          "metadata": {}
        }
      ]
    },
    {
      "cell_type": "markdown",
      "source": [
        "\n",
        "*Analysis of Top 20 Labels:*\n",
        "\n",
        "***Paragraph Length:***\n",
        "\n",
        "* 12 labels have 500-1200 paragraphs.\n",
        "* 7 labels have 1500-2250 paragraphs.\n",
        "* Only 1 label has 3500 paragraphs.\n",
        "\n",
        "***Word Length:***\n",
        "\n",
        "* 10 out of 20 labels have a word count of 50,000 to 150,000.\n",
        "* 5 labels have 200,000-250,000 words.\n",
        "* Only 3 out of 20 labels have 300,000-370,000 words."
      ],
      "metadata": {
        "id": "EKYY7qUz_VrI"
      }
    },
    {
      "cell_type": "code",
      "source": [
        "top_n = 200\n",
        "\n",
        "top_labels = label_counts.sort_values(ascending=True)[:top_n]\n",
        "total_occurrences = top_labels.sum()\n",
        "print(\"Total Occurrences of Top 200 Labels:\", total_occurrences)\n",
        "\n",
        "total_occurrences = label_counts.sum()\n",
        "print(\"Total Occurrences of All the 225 Labels:\", total_occurrences)"
      ],
      "metadata": {
        "colab": {
          "base_uri": "https://localhost:8080/"
        },
        "id": "cD0laKJsQYug",
        "outputId": "a9fb07f6-08e0-4475-f70d-0c45bce57572"
      },
      "execution_count": 17,
      "outputs": [
        {
          "output_type": "stream",
          "name": "stdout",
          "text": [
            "Total Occurrences of Top 200 Labels: 10994\n",
            "Total Occurrences of All the 225 Labels: 41569\n"
          ]
        }
      ]
    },
    {
      "cell_type": "code",
      "source": [
        "least_100_labels = dff.nsmallest(200, 'Paragraphs')\n",
        "\n",
        "fig, (ax1, ax2) = plt.subplots(1, 2, figsize=(12, 6))\n",
        "\n",
        "sns.violinplot(y=least_100_labels['Paragraphs'], color='lightblue', ax=ax1)\n",
        "ax1.set_title('Paragraph Length for 200 Least Occurring Labels')\n",
        "ax1.set_ylabel('Number of Paragraphs')\n",
        "ax1.set_ylim(bottom=0)\n",
        "\n",
        "sns.violinplot(y=least_100_labels['Words'], color='lightpink', ax=ax2)\n",
        "ax2.set_title('Word Length for 200 Least Occurring Labels')\n",
        "ax2.set_ylabel('Number of Words')\n",
        "ax2.set_ylim(bottom=0)\n",
        "\n",
        "plt.tight_layout();"
      ],
      "metadata": {
        "colab": {
          "base_uri": "https://localhost:8080/",
          "height": 569
        },
        "id": "nCchdW_jJX6N",
        "outputId": "e91ce1e6-0c95-4d8d-f1bb-01f7a9dbd4e6"
      },
      "execution_count": 18,
      "outputs": [
        {
          "output_type": "display_data",
          "data": {
            "text/plain": [
              "<Figure size 1200x600 with 2 Axes>"
            ],
            "image/png": "[encoded data removed]"
          },
          "metadata": {}
        }
      ]
    },
    {
      "cell_type": "markdown",
      "source": [
        "##### *Analysis of Paragraph and Word Length for 200 Least Occurring Labels*\n",
        "\n",
        "\n",
        "***Paragraph Length***\n",
        " * *The majority of labels in this subset have less than 100 paragraphs*\n",
        " * *However, a small number of labels have a paragraph count ranging from 100 to 300.*\n",
        " * *The maximum count observed is 550, but these higher counts are extremely rare, with only 1 or 2 labels having such occurrences.*\n",
        "\n",
        "***Word Length***\n",
        "* *Majority of the labels among the least occurring 200 labels have a word count below 200,000.*\n",
        "* *Another small group of labels fall within the word count range of 200,000 to 600,000*\n",
        "* *However, labels with word counts above 600,000 are with only a negligible number of occurrences.*"
      ],
      "metadata": {
        "id": "x6anT5dnMK_S"
      }
    },
    {
      "cell_type": "markdown",
      "metadata": {
        "id": "vg43hpXX_e_m"
      },
      "source": [
        "### ***Text Preprocessing***"
      ]
    },
    {
      "cell_type": "markdown",
      "metadata": {
        "id": "kKuuppffDEQY"
      },
      "source": [
        "* *Punctuation Removal*\n",
        "* *Lower - casing*\n",
        "* *Tokenization*\n",
        "* *Stopwords Removal*\n",
        "* *Lemmatization*\n"
      ]
    },
    {
      "cell_type": "code",
      "execution_count": 19,
      "metadata": {
        "id": "JXUgBVWDRtFJ"
      },
      "outputs": [],
      "source": [
        "stop_words = set(stopwords.words('english'))\n",
        "lemmatizer = WordNetLemmatizer()"
      ]
    },
    {
      "cell_type": "code",
      "source": [
        "def preprocess_text(text):\n",
        "    tokens = word_tokenize(text.lower())\n",
        "    filtered_tokens = [token for token in tokens if token not in stop_words and token not in string.punctuation]\n",
        "    lemmatized_tokens = [lemmatizer.lemmatize(token) for token in filtered_tokens]\n",
        "    processed_text = ' '.join(lemmatized_tokens)\n",
        "    return processed_text"
      ],
      "metadata": {
        "id": "Bw3k9pcm--oj"
      },
      "execution_count": 20,
      "outputs": []
    },
    {
      "cell_type": "code",
      "source": [
        "final_df['processed_text'] = final_df['text'].apply(preprocess_text)"
      ],
      "metadata": {
        "colab": {
          "base_uri": "https://localhost:8080/"
        },
        "id": "4-sFLbf1WjJn",
        "outputId": "9873c825-77bf-4c09-ba5b-d5598dd6d3c6"
      },
      "execution_count": 21,
      "outputs": [
        {
          "output_type": "stream",
          "name": "stderr",
          "text": [
            "<ipython-input-21-739c49fadc34>:1: SettingWithCopyWarning: \n",
            "A value is trying to be set on a copy of a slice from a DataFrame.\n",
            "Try using .loc[row_indexer,col_indexer] = value instead\n",
            "\n",
            "See the caveats in the documentation: https://pandas.pydata.org/pandas-docs/stable/user_guide/indexing.html#returning-a-view-versus-a-copy\n",
            "  final_df['processed_text'] = final_df['text'].apply(preprocess_text)\n"
          ]
        }
      ]
    },
    {
      "cell_type": "code",
      "source": [
        "tokenized_texts = final_df['processed_text'].apply(lambda x: x.split())\n",
        "final_df"
      ],
      "metadata": {
        "colab": {
          "base_uri": "https://localhost:8080/",
          "height": 423
        },
        "id": "3MA3q7IQ_Coa",
        "outputId": "6f284593-65a9-4149-c69f-ffd34b6f55f5"
      },
      "execution_count": 22,
      "outputs": [
        {
          "output_type": "execute_result",
          "data": {
            "text/plain": [
              "                                                    text  \\\n",
              "0      \"Constructor\" Prelude door locks feature moder...   \n",
              "1      \"Constructor\" Prelude door locks feature moder...   \n",
              "2      \"Constructor\" offers premium classic style doo...   \n",
              "3      \"Constructor\" offers premium classic style doo...   \n",
              "4      \"Constructor\" offers premium classic style doo...   \n",
              "...                                                  ...   \n",
              "41564  the great outdoors by Minka Lavery Irvington M...   \n",
              "41565  the great outdoors by Minka Lavery Irvington M...   \n",
              "41566  the great outdoors by Minka Lavery Irvington M...   \n",
              "41567  the great outdoors by Minka Lavery Irvington M...   \n",
              "41568  the great outdoors by Minka Lavery Irvington M...   \n",
              "\n",
              "                                       labels  \\\n",
              "0                   Hardware Included, Finish   \n",
              "1                   Hardware Included, Finish   \n",
              "2                   Hardware Included, Finish   \n",
              "3                   Hardware Included, Finish   \n",
              "4                   Hardware Included, Finish   \n",
              "...                                       ...   \n",
              "41564  Wattage (watts), ENERGY STAR Certified   \n",
              "41565  Wattage (watts), ENERGY STAR Certified   \n",
              "41566  Wattage (watts), ENERGY STAR Certified   \n",
              "41567  Wattage (watts), ENERGY STAR Certified   \n",
              "41568  Wattage (watts), ENERGY STAR Certified   \n",
              "\n",
              "                                          processed_text  \n",
              "0      `` constructor '' prelude door lock feature mo...  \n",
              "1      `` constructor '' prelude door lock feature mo...  \n",
              "2      `` constructor '' offer premium classic style ...  \n",
              "3      `` constructor '' offer premium classic style ...  \n",
              "4      `` constructor '' offer premium classic style ...  \n",
              "...                                                  ...  \n",
              "41564  great outdoors minka lavery irvington manor 1-...  \n",
              "41565  great outdoors minka lavery irvington manor 2-...  \n",
              "41566  great outdoors minka lavery irvington manor 3-...  \n",
              "41567  great outdoors minka lavery irvington manor 3-...  \n",
              "41568  great outdoors minka lavery irvington manor 4-...  \n",
              "\n",
              "[41569 rows x 3 columns]"
            ],
            "text/html": [
              "\n",
              "  <div id=\"df-3674bc59-efd2-45bc-9db9-76342895648f\">\n",
              "    <div class=\"colab-df-container\">\n",
              "      <div>\n",
              "<style scoped>\n",
              "    .dataframe tbody tr th:only-of-type {\n",
              "        vertical-align: middle;\n",
              "    }\n",
              "\n",
              "    .dataframe tbody tr th {\n",
              "        vertical-align: top;\n",
              "    }\n",
              "\n",
              "    .dataframe thead th {\n",
              "        text-align: right;\n",
              "    }\n",
              "</style>\n",
              "<table border=\"1\" class=\"dataframe\">\n",
              "  <thead>\n",
              "    <tr style=\"text-align: right;\">\n",
              "      <th></th>\n",
              "      <th>text</th>\n",
              "      <th>labels</th>\n",
              "      <th>processed_text</th>\n",
              "    </tr>\n",
              "  </thead>\n",
              "  <tbody>\n",
              "    <tr>\n",
              "      <th>0</th>\n",
              "      <td>\"Constructor\" Prelude door locks feature moder...</td>\n",
              "      <td>Hardware Included, Finish</td>\n",
              "      <td>`` constructor '' prelude door lock feature mo...</td>\n",
              "    </tr>\n",
              "    <tr>\n",
              "      <th>1</th>\n",
              "      <td>\"Constructor\" Prelude door locks feature moder...</td>\n",
              "      <td>Hardware Included, Finish</td>\n",
              "      <td>`` constructor '' prelude door lock feature mo...</td>\n",
              "    </tr>\n",
              "    <tr>\n",
              "      <th>2</th>\n",
              "      <td>\"Constructor\" offers premium classic style doo...</td>\n",
              "      <td>Hardware Included, Finish</td>\n",
              "      <td>`` constructor '' offer premium classic style ...</td>\n",
              "    </tr>\n",
              "    <tr>\n",
              "      <th>3</th>\n",
              "      <td>\"Constructor\" offers premium classic style doo...</td>\n",
              "      <td>Hardware Included, Finish</td>\n",
              "      <td>`` constructor '' offer premium classic style ...</td>\n",
              "    </tr>\n",
              "    <tr>\n",
              "      <th>4</th>\n",
              "      <td>\"Constructor\" offers premium classic style doo...</td>\n",
              "      <td>Hardware Included, Finish</td>\n",
              "      <td>`` constructor '' offer premium classic style ...</td>\n",
              "    </tr>\n",
              "    <tr>\n",
              "      <th>...</th>\n",
              "      <td>...</td>\n",
              "      <td>...</td>\n",
              "      <td>...</td>\n",
              "    </tr>\n",
              "    <tr>\n",
              "      <th>41564</th>\n",
              "      <td>the great outdoors by Minka Lavery Irvington M...</td>\n",
              "      <td>Wattage (watts), ENERGY STAR Certified</td>\n",
              "      <td>great outdoors minka lavery irvington manor 1-...</td>\n",
              "    </tr>\n",
              "    <tr>\n",
              "      <th>41565</th>\n",
              "      <td>the great outdoors by Minka Lavery Irvington M...</td>\n",
              "      <td>Wattage (watts), ENERGY STAR Certified</td>\n",
              "      <td>great outdoors minka lavery irvington manor 2-...</td>\n",
              "    </tr>\n",
              "    <tr>\n",
              "      <th>41566</th>\n",
              "      <td>the great outdoors by Minka Lavery Irvington M...</td>\n",
              "      <td>Wattage (watts), ENERGY STAR Certified</td>\n",
              "      <td>great outdoors minka lavery irvington manor 3-...</td>\n",
              "    </tr>\n",
              "    <tr>\n",
              "      <th>41567</th>\n",
              "      <td>the great outdoors by Minka Lavery Irvington M...</td>\n",
              "      <td>Wattage (watts), ENERGY STAR Certified</td>\n",
              "      <td>great outdoors minka lavery irvington manor 3-...</td>\n",
              "    </tr>\n",
              "    <tr>\n",
              "      <th>41568</th>\n",
              "      <td>the great outdoors by Minka Lavery Irvington M...</td>\n",
              "      <td>Wattage (watts), ENERGY STAR Certified</td>\n",
              "      <td>great outdoors minka lavery irvington manor 4-...</td>\n",
              "    </tr>\n",
              "  </tbody>\n",
              "</table>\n",
              "<p>41569 rows × 3 columns</p>\n",
              "</div>\n",
              "      <button class=\"colab-df-convert\" onclick=\"convertToInteractive('df-3674bc59-efd2-45bc-9db9-76342895648f')\"\n",
              "              title=\"Convert this dataframe to an interactive table.\"\n",
              "              style=\"display:none;\">\n",
              "        \n",
              "  <svg xmlns=\"http://www.w3.org/2000/svg\" height=\"24px\"viewBox=\"0 0 24 24\"\n",
              "       width=\"24px\">\n",
              "    <path d=\"M0 0h24v24H0V0z\" fill=\"none\"/>\n",
              "    <path d=\"M18.56 5.44l.94 2.06.94-2.06 2.06-.94-2.06-.94-.94-2.06-.94 2.06-2.06.94zm-11 1L8.5 8.5l.94-2.06 2.06-.94-2.06-.94L8.5 2.5l-.94 2.06-2.06.94zm10 10l.94 2.06.94-2.06 2.06-.94-2.06-.94-.94-2.06-.94 2.06-2.06.94z\"/><path d=\"M17.41 7.96l-1.37-1.37c-.4-.4-.92-.59-1.43-.59-.52 0-1.04.2-1.43.59L10.3 9.45l-7.72 7.72c-.78.78-.78 2.05 0 2.83L4 21.41c.39.39.9.59 1.41.59.51 0 1.02-.2 1.41-.59l7.78-7.78 2.81-2.81c.8-.78.8-2.07 0-2.86zM5.41 20L4 18.59l7.72-7.72 1.47 1.35L5.41 20z\"/>\n",
              "  </svg>\n",
              "      </button>\n",
              "      \n",
              "  <style>\n",
              "    .colab-df-container {\n",
              "      display:flex;\n",
              "      flex-wrap:wrap;\n",
              "      gap: 12px;\n",
              "    }\n",
              "\n",
              "    .colab-df-convert {\n",
              "      background-color: #E8F0FE;\n",
              "      border: none;\n",
              "      border-radius: 50%;\n",
              "      cursor: pointer;\n",
              "      display: none;\n",
              "      fill: #1967D2;\n",
              "      height: 32px;\n",
              "      padding: 0 0 0 0;\n",
              "      width: 32px;\n",
              "    }\n",
              "\n",
              "    .colab-df-convert:hover {\n",
              "      background-color: #E2EBFA;\n",
              "      box-shadow: 0px 1px 2px rgba(60, 64, 67, 0.3), 0px 1px 3px 1px rgba(60, 64, 67, 0.15);\n",
              "      fill: #174EA6;\n",
              "    }\n",
              "\n",
              "    [theme=dark] .colab-df-convert {\n",
              "      background-color: #3B4455;\n",
              "      fill: #D2E3FC;\n",
              "    }\n",
              "\n",
              "    [theme=dark] .colab-df-convert:hover {\n",
              "      background-color: #434B5C;\n",
              "      box-shadow: 0px 1px 3px 1px rgba(0, 0, 0, 0.15);\n",
              "      filter: drop-shadow(0px 1px 2px rgba(0, 0, 0, 0.3));\n",
              "      fill: #FFFFFF;\n",
              "    }\n",
              "  </style>\n",
              "\n",
              "      <script>\n",
              "        const buttonEl =\n",
              "          document.querySelector('#df-3674bc59-efd2-45bc-9db9-76342895648f button.colab-df-convert');\n",
              "        buttonEl.style.display =\n",
              "          google.colab.kernel.accessAllowed ? 'block' : 'none';\n",
              "\n",
              "        async function convertToInteractive(key) {\n",
              "          const element = document.querySelector('#df-3674bc59-efd2-45bc-9db9-76342895648f');\n",
              "          const dataTable =\n",
              "            await google.colab.kernel.invokeFunction('convertToInteractive',\n",
              "                                                     [key], {});\n",
              "          if (!dataTable) return;\n",
              "\n",
              "          const docLinkHtml = 'Like what you see? Visit the ' +\n",
              "            '<a target=\"_blank\" href=https://colab.research.google.com/notebooks/data_table.ipynb>data table notebook</a>'\n",
              "            + ' to learn more about interactive tables.';\n",
              "          element.innerHTML = '';\n",
              "          dataTable['output_type'] = 'display_data';\n",
              "          await google.colab.output.renderOutput(dataTable, element);\n",
              "          const docLink = document.createElement('div');\n",
              "          docLink.innerHTML = docLinkHtml;\n",
              "          element.appendChild(docLink);\n",
              "        }\n",
              "      </script>\n",
              "    </div>\n",
              "  </div>\n",
              "  "
            ]
          },
          "metadata": {},
          "execution_count": 22
        }
      ]
    },
    {
      "cell_type": "code",
      "source": [
        "tokenized_labels = [label.split() for label in final_df['labels']]"
      ],
      "metadata": {
        "id": "QNd8Ku8eWKjX"
      },
      "execution_count": 31,
      "outputs": []
    },
    {
      "cell_type": "code",
      "source": [
        "model = Word2Vec(tokenized_labels, vector_size=100, window=5, min_count=1, workers=4)"
      ],
      "metadata": {
        "id": "bVfVFHtdWO4L"
      },
      "execution_count": 32,
      "outputs": []
    },
    {
      "cell_type": "code",
      "source": [
        "label_embeddings = []\n",
        "\n",
        "for label in final_df['labels']:\n",
        "    if label in model.wv:\n",
        "        label_embeddings.append(model.wv[label])\n",
        "    else:\n",
        "        label_embeddings.append([0] * 100)"
      ],
      "metadata": {
        "id": "1SfZcnEeukQX"
      },
      "execution_count": 33,
      "outputs": []
    },
    {
      "cell_type": "code",
      "source": [
        "k = 50\n",
        "kmeans = KMeans(n_clusters=k, n_init=10, random_state=42)\n",
        "cluster_labels = kmeans.fit_predict(label_embeddings)"
      ],
      "metadata": {
        "id": "m4EF6sM6vfs5"
      },
      "execution_count": 34,
      "outputs": []
    },
    {
      "cell_type": "code",
      "source": [
        "final_df['cluster_labels'] = cluster_labels"
      ],
      "metadata": {
        "id": "KqCLlynlaEsD"
      },
      "execution_count": 35,
      "outputs": []
    },
    {
      "cell_type": "code",
      "source": [
        "final_df.labels.unique()"
      ],
      "metadata": {
        "colab": {
          "base_uri": "https://localhost:8080/"
        },
        "id": "DkZQRcUimGY5",
        "outputId": "e3dcb928-ba35-495d-986b-c36ca20623b4"
      },
      "execution_count": 44,
      "outputs": [
        {
          "output_type": "execute_result",
          "data": {
            "text/plain": [
              "array(['Hardware Included, Finish', 'Color', 'ENERGY STAR Certified',\n",
              "       'Hardware Included, Package Quantity',\n",
              "       'Commercial / Residential, Flooring Product Type',\n",
              "       'Tools Product Type', 'Voltage (volts), ENERGY STAR Certified',\n",
              "       'Package Quantity', 'Indoor/Outdoor', 'Hardware Included',\n",
              "       'Hardware Included, Assembly Required',\n",
              "       'Included, Indoor/Outdoor, Features',\n",
              "       'Package Quantity, Color, Shape',\n",
              "       'Commercial / Residential, Flooring Product Type, Indoor/Outdoor',\n",
              "       'Commercial / Residential', 'Shape, Color',\n",
              "       'Flooring Product Type', 'Tools Product Type, Included',\n",
              "       'Finish, Package Quantity',\n",
              "       'Commercial / Residential, Included, Voltage (volts)',\n",
              "       'Wattage (watts), ENERGY STAR Certified', 'Finish',\n",
              "       'Commercial / Residential, Flooring Product Type, Features, Indoor/Outdoor',\n",
              "       'Wattage (watts)',\n",
              "       'Hardware Included, Shape, ENERGY STAR Certified',\n",
              "       'Wattage (watts), Indoor/Outdoor, ENERGY STAR Certified',\n",
              "       'Hardware Included, Included, Wattage (watts), ENERGY STAR Certified',\n",
              "       'Commercial / Residential, Indoor/Outdoor',\n",
              "       'Tools Product Type, Assembly Required',\n",
              "       'Hardware Included, ENERGY STAR Certified', 'Shape',\n",
              "       'Voltage (volts)', 'Indoor/Outdoor, Voltage (volts)',\n",
              "       'Included, Features',\n",
              "       'Package Quantity, Indoor/Outdoor, Voltage (volts)',\n",
              "       'Package Quantity, Indoor/Outdoor',\n",
              "       'Package Quantity, Shape, Indoor/Outdoor',\n",
              "       'Finish, Assembly Required', 'Wattage (watts), Voltage (volts)',\n",
              "       'Finish, Color', 'Features', 'Included, Assembly Required',\n",
              "       'Included, ENERGY STAR Certified',\n",
              "       'Tools Product Type, Voltage (volts)',\n",
              "       'Wattage (watts), Color, Indoor/Outdoor, Voltage (volts)',\n",
              "       'Assembly Required', 'Features, Assembly Required',\n",
              "       'Wattage (watts), Voltage (volts), ENERGY STAR Certified',\n",
              "       'Hardware Included, Shape',\n",
              "       'Tools Product Type, ENERGY STAR Certified',\n",
              "       'Finish, Color, Assembly Required, Shape',\n",
              "       'Commercial / Residential, Color, Flooring Product Type, Indoor/Outdoor',\n",
              "       'Commercial / Residential, Color, Indoor/Outdoor',\n",
              "       'Included, Shape',\n",
              "       'Commercial / Residential, Shape, Flooring Product Type, Indoor/Outdoor',\n",
              "       'Package Quantity, Color',\n",
              "       'Commercial / Residential, Indoor/Outdoor, Voltage (volts)',\n",
              "       'ENERGY STAR Certified, Indoor/Outdoor, Included, Features, Commercial / Residential',\n",
              "       'Hardware Included, Color, Assembly Required',\n",
              "       'Color, Indoor/Outdoor',\n",
              "       'Finish, Package Quantity, Indoor/Outdoor',\n",
              "       'Included, Color, Features', 'Shape, Assembly Required',\n",
              "       'Included', 'Hardware Included, Finish, Assembly Required',\n",
              "       'Assembly Required, Voltage (volts)',\n",
              "       'Tools Product Type, Package Quantity, ENERGY STAR Certified, Finish, Indoor/Outdoor',\n",
              "       'Color, Assembly Required', 'Shape, Color, Assembly Required',\n",
              "       'Hardware Included, Indoor/Outdoor, Assembly Required',\n",
              "       'Commercial / Residential, Color, Flooring Product Type',\n",
              "       'Commercial / Residential, Assembly Required',\n",
              "       'Commercial / Residential, ENERGY STAR Certified',\n",
              "       'Commercial / Residential, Wattage (watts), Indoor/Outdoor',\n",
              "       'Commercial / Residential, Color, Voltage (volts)',\n",
              "       'Wattage (watts), Included, Shape, Voltage (volts)',\n",
              "       'Wattage (watts), Color, Voltage (volts), ENERGY STAR Certified',\n",
              "       'Flooring Product Type, Indoor/Outdoor', 'Finish, Features',\n",
              "       'Finish, Shape, Assembly Required',\n",
              "       'Finish, Shape, Package Quantity',\n",
              "       'Commercial / Residential, Indoor/Outdoor, Features',\n",
              "       'Indoor/Outdoor, Assembly Required',\n",
              "       'Included, Wattage (watts), ENERGY STAR Certified',\n",
              "       'Package Quantity, Shape', 'Finish, Color, ENERGY STAR Certified',\n",
              "       'Shape, Features',\n",
              "       'Wattage (watts), Indoor/Outdoor, Voltage (volts)',\n",
              "       'Finish, Shape', 'Wattage (watts), Indoor/Outdoor, Features',\n",
              "       'Package Quantity, Voltage (volts)', 'Indoor/Outdoor, Features',\n",
              "       'Commercial / Residential, Package Quantity, Voltage (volts)',\n",
              "       'Finish, Shape, Included, Features',\n",
              "       'Hardware Included, Indoor/Outdoor, ENERGY STAR Certified',\n",
              "       'Flooring Product Type, Wattage (watts), Voltage (volts)',\n",
              "       'Shape, Color, Indoor/Outdoor', 'Finish, Color, Assembly Required',\n",
              "       'Hardware Included, Finish, Package Quantity, ENERGY STAR Certified',\n",
              "       'Shape, Indoor/Outdoor, Features',\n",
              "       'Commercial / Residential, Finish, Assembly Required, Hardware Included',\n",
              "       'Included, Color, Assembly Required',\n",
              "       'Wattage (watts), Features, Voltage (volts)',\n",
              "       'Package Quantity, Features',\n",
              "       'Shape, Color, ENERGY STAR Certified',\n",
              "       'Commercial / Residential, Shape',\n",
              "       'Included, Color, Package Quantity',\n",
              "       'Shape, Voltage (volts), ENERGY STAR Certified',\n",
              "       'Shape, Indoor/Outdoor', 'Color, ENERGY STAR Certified',\n",
              "       'Commercial / Residential, Features',\n",
              "       'Hardware Included, Shape, Color',\n",
              "       'Commercial / Residential, Included, Features',\n",
              "       'Tools Product Type, Shape',\n",
              "       'Indoor/Outdoor, ENERGY STAR Certified',\n",
              "       'Tools Product Type, Package Quantity',\n",
              "       'Tools Product Type, Voltage (volts), ENERGY STAR Certified',\n",
              "       'Color, Voltage (volts), ENERGY STAR Certified',\n",
              "       'Wattage (watts), Color, Voltage (volts), Included, Shape',\n",
              "       'Hardware Included, Finish, ENERGY STAR Certified',\n",
              "       'Hardware Included, Finish, Package Quantity',\n",
              "       'Hardware Included, Finish, Voltage (volts)',\n",
              "       'Included, Indoor/Outdoor, Features, Voltage (volts)',\n",
              "       'Flooring Product Type, Voltage (volts)',\n",
              "       'Tools Product Type, Included, Voltage (volts)',\n",
              "       'Commercial / Residential, Hardware Included, Color, Assembly Required',\n",
              "       'Hardware Included, Included, Features',\n",
              "       'Tools Product Type, Wattage (watts), Indoor/Outdoor',\n",
              "       'Commercial / Residential, Finish', 'Flooring Product Type, Color',\n",
              "       'Included, Color', 'Package Quantity, ENERGY STAR Certified',\n",
              "       'Commercial / Residential, Color',\n",
              "       'Tools Product Type, Indoor/Outdoor', 'Included, Voltage (volts)',\n",
              "       'Commercial / Residential, Package Quantity, Indoor/Outdoor',\n",
              "       'Commercial / Residential, Wattage (watts), Indoor/Outdoor, ENERGY STAR Certified',\n",
              "       'Wattage (watts), Color, Indoor/Outdoor, Voltage (volts), Features',\n",
              "       'Wattage (watts), Color, Indoor/Outdoor, Features',\n",
              "       'Commercial / Residential, Package Quantity',\n",
              "       'Wattage (watts), Color, ENERGY STAR Certified',\n",
              "       'Hardware Included, Tools Product Type, Assembly Required',\n",
              "       'Wattage (watts), Indoor/Outdoor',\n",
              "       'Hardware Included, Wattage (watts), ENERGY STAR Certified',\n",
              "       'Shape, Wattage (watts), Voltage (volts), ENERGY STAR Certified',\n",
              "       'Color, Features',\n",
              "       'Assembly Required, Hardware Included, Finish, Color, Indoor/Outdoor',\n",
              "       'Included, Features, Voltage (volts)', 'Color, Voltage (volts)',\n",
              "       'Wattage (watts), Included, Color, Shape',\n",
              "       'Commercial / Residential, Wattage (watts), Voltage (volts)',\n",
              "       'Finish, Color, Package Quantity', 'Hardware Included, Included',\n",
              "       'Package Quantity, Shape, ENERGY STAR Certified',\n",
              "       'Hardware Included, Shape, Assembly Required',\n",
              "       'Hardware Included, Included, Indoor/Outdoor, Features',\n",
              "       'Package Quantity, ENERGY STAR Certified, Color, Indoor/Outdoor, Voltage (volts)',\n",
              "       'Hardware Included, Color, ENERGY STAR Certified',\n",
              "       'Color, Assembly Required, Voltage (volts)',\n",
              "       'Hardware Included, Package Quantity, Shape',\n",
              "       'Commercial / Residential, Hardware Included, Assembly Required',\n",
              "       'Package Quantity, Voltage (volts), ENERGY STAR Certified',\n",
              "       'Commercial / Residential, Voltage (volts)',\n",
              "       'Finish, Shape, Features', 'Finish, Indoor/Outdoor',\n",
              "       'Commercial / Residential, Shape, Indoor/Outdoor',\n",
              "       'Tools Product Type, Wattage (watts)', 'Wattage (watts), Color',\n",
              "       'Commercial / Residential, Hardware Included',\n",
              "       'Commercial / Residential, Flooring Product Type, Indoor/Outdoor, ENERGY STAR Certified',\n",
              "       'Color, Indoor/Outdoor, Flooring Product Type, Shape, Commercial / Residential',\n",
              "       'Hardware Included, Color',\n",
              "       'Finish, Color, Indoor/Outdoor, ENERGY STAR Certified',\n",
              "       'Finish, ENERGY STAR Certified',\n",
              "       'Color, Indoor/Outdoor, Voltage (volts)',\n",
              "       'Hardware Included, Wattage (watts)',\n",
              "       'Package Quantity, Wattage (watts), Voltage (volts)',\n",
              "       'Commercial / Residential, Finish, Flooring Product Type, Indoor/Outdoor',\n",
              "       'Tools Product Type, Package Quantity, Assembly Required, Hardware Included, Color',\n",
              "       'Hardware Included, Voltage (volts)',\n",
              "       'Features, Wattage (watts), Assembly Required, Voltage (volts)',\n",
              "       'Commercial / Residential, Flooring Product Type, Features',\n",
              "       'Flooring Product Type, Package Quantity',\n",
              "       'Package Quantity, ENERGY STAR Certified, Color, Indoor/Outdoor, Flooring Product Type, Commercial / Residential',\n",
              "       'Color, Indoor/Outdoor, ENERGY STAR Certified',\n",
              "       'Wattage (watts), Color, Indoor/Outdoor',\n",
              "       'Hardware Included, Indoor/Outdoor',\n",
              "       'Shape, ENERGY STAR Certified',\n",
              "       'Commercial / Residential, Indoor/Outdoor, ENERGY STAR Certified',\n",
              "       'Commercial / Residential, Indoor/Outdoor, Voltage (volts), ENERGY STAR Certified',\n",
              "       'Finish, Color, Indoor/Outdoor, Flooring Product Type, Commercial / Residential',\n",
              "       'Commercial / Residential, Finish, Package Quantity',\n",
              "       'Included, Shape, Package Quantity',\n",
              "       'Hardware Included, Wattage (watts), Indoor/Outdoor, ENERGY STAR Certified',\n",
              "       'Finish, Included, Features',\n",
              "       'Tools Product Type, Package Quantity, ENERGY STAR Certified',\n",
              "       'Wattage (watts), Indoor/Outdoor, Voltage (volts), ENERGY STAR Certified',\n",
              "       'ENERGY STAR Certified, Finish, Indoor/Outdoor, Included, Features, Commercial / Residential',\n",
              "       'Flooring Product Type, Tools Product Type, Voltage (volts)',\n",
              "       'Tools Product Type, Indoor/Outdoor, Assembly Required',\n",
              "       'Hardware Included, Finish, Shape, Package Quantity',\n",
              "       'Features, Voltage (volts), ENERGY STAR Certified',\n",
              "       'Tools Product Type, Package Quantity, Color',\n",
              "       'Assembly Required, ENERGY STAR Certified',\n",
              "       'Commercial / Residential, Flooring Product Type, ENERGY STAR Certified',\n",
              "       'Finish, Package Quantity, ENERGY STAR Certified',\n",
              "       'Flooring Product Type, Tools Product Type, Color',\n",
              "       'Hardware Included, Finish, Color', 'Features, Voltage (volts)',\n",
              "       'Flooring Product Type, Tools Product Type',\n",
              "       'Commercial / Residential, Finish, Hardware Included',\n",
              "       'Hardware Included, Included, ENERGY STAR Certified',\n",
              "       'Commercial / Residential, Color, Indoor/Outdoor, Voltage (volts)',\n",
              "       'Commercial / Residential, Finish, Indoor/Outdoor',\n",
              "       'ENERGY STAR Certified, Hardware Included, Wattage (watts), Included, Shape',\n",
              "       'Hardware Included, Color, Assembly Required, ENERGY STAR Certified',\n",
              "       'Commercial / Residential, Package Quantity, Features',\n",
              "       'Hardware Included, Finish, Included, Assembly Required',\n",
              "       'Color, Indoor/Outdoor, Features',\n",
              "       'Commercial / Residential, Hardware Included, Indoor/Outdoor, ENERGY STAR Certified',\n",
              "       'Commercial / Residential, Finish, Color',\n",
              "       'Commercial / Residential, Package Quantity, ENERGY STAR Certified',\n",
              "       'Commercial / Residential, Finish, Package Quantity, Hardware Included',\n",
              "       'Hardware Included, Finish, Color, Assembly Required',\n",
              "       'Hardware Included, Color, Indoor/Outdoor, Assembly Required'],\n",
              "      dtype=object)"
            ]
          },
          "metadata": {},
          "execution_count": 44
        }
      ]
    },
    {
      "cell_type": "code",
      "source": [
        "cluster_label_mapping = final_df[['cluster_labels', 'labels']].drop_duplicates().sort_values('cluster_labels')\n",
        "cluster_label_mapping.head(11)"
      ],
      "metadata": {
        "colab": {
          "base_uri": "https://localhost:8080/",
          "height": 394
        },
        "id": "a6SsYZtQjDUb",
        "outputId": "ea3e902f-a548-4b35-c212-0a7403947ecd"
      },
      "execution_count": 37,
      "outputs": [
        {
          "output_type": "execute_result",
          "data": {
            "text/plain": [
              "      cluster_labels                                             labels\n",
              "0                  0                          Hardware Included, Finish\n",
              "4758               0                    Wattage (watts), Indoor/Outdoor\n",
              "4784               0  Hardware Included, Wattage (watts), ENERGY STA...\n",
              "4837               0  Shape, Wattage (watts), Voltage (volts), ENERG...\n",
              "5105               0                                    Color, Features\n",
              "5120               0  Assembly Required, Hardware Included, Finish, ...\n",
              "5477               0                Included, Features, Voltage (volts)\n",
              "5675               0                             Color, Voltage (volts)\n",
              "5859               0            Wattage (watts), Included, Color, Shape\n",
              "6422               0  Commercial / Residential, Wattage (watts), Vol...\n",
              "6615               0                    Finish, Color, Package Quantity"
            ],
            "text/html": [
              "\n",
              "  <div id=\"df-6e9ff245-4dee-4a5d-b5c9-10434820719c\">\n",
              "    <div class=\"colab-df-container\">\n",
              "      <div>\n",
              "<style scoped>\n",
              "    .dataframe tbody tr th:only-of-type {\n",
              "        vertical-align: middle;\n",
              "    }\n",
              "\n",
              "    .dataframe tbody tr th {\n",
              "        vertical-align: top;\n",
              "    }\n",
              "\n",
              "    .dataframe thead th {\n",
              "        text-align: right;\n",
              "    }\n",
              "</style>\n",
              "<table border=\"1\" class=\"dataframe\">\n",
              "  <thead>\n",
              "    <tr style=\"text-align: right;\">\n",
              "      <th></th>\n",
              "      <th>cluster_labels</th>\n",
              "      <th>labels</th>\n",
              "    </tr>\n",
              "  </thead>\n",
              "  <tbody>\n",
              "    <tr>\n",
              "      <th>0</th>\n",
              "      <td>0</td>\n",
              "      <td>Hardware Included, Finish</td>\n",
              "    </tr>\n",
              "    <tr>\n",
              "      <th>4758</th>\n",
              "      <td>0</td>\n",
              "      <td>Wattage (watts), Indoor/Outdoor</td>\n",
              "    </tr>\n",
              "    <tr>\n",
              "      <th>4784</th>\n",
              "      <td>0</td>\n",
              "      <td>Hardware Included, Wattage (watts), ENERGY STA...</td>\n",
              "    </tr>\n",
              "    <tr>\n",
              "      <th>4837</th>\n",
              "      <td>0</td>\n",
              "      <td>Shape, Wattage (watts), Voltage (volts), ENERG...</td>\n",
              "    </tr>\n",
              "    <tr>\n",
              "      <th>5105</th>\n",
              "      <td>0</td>\n",
              "      <td>Color, Features</td>\n",
              "    </tr>\n",
              "    <tr>\n",
              "      <th>5120</th>\n",
              "      <td>0</td>\n",
              "      <td>Assembly Required, Hardware Included, Finish, ...</td>\n",
              "    </tr>\n",
              "    <tr>\n",
              "      <th>5477</th>\n",
              "      <td>0</td>\n",
              "      <td>Included, Features, Voltage (volts)</td>\n",
              "    </tr>\n",
              "    <tr>\n",
              "      <th>5675</th>\n",
              "      <td>0</td>\n",
              "      <td>Color, Voltage (volts)</td>\n",
              "    </tr>\n",
              "    <tr>\n",
              "      <th>5859</th>\n",
              "      <td>0</td>\n",
              "      <td>Wattage (watts), Included, Color, Shape</td>\n",
              "    </tr>\n",
              "    <tr>\n",
              "      <th>6422</th>\n",
              "      <td>0</td>\n",
              "      <td>Commercial / Residential, Wattage (watts), Vol...</td>\n",
              "    </tr>\n",
              "    <tr>\n",
              "      <th>6615</th>\n",
              "      <td>0</td>\n",
              "      <td>Finish, Color, Package Quantity</td>\n",
              "    </tr>\n",
              "  </tbody>\n",
              "</table>\n",
              "</div>\n",
              "      <button class=\"colab-df-convert\" onclick=\"convertToInteractive('df-6e9ff245-4dee-4a5d-b5c9-10434820719c')\"\n",
              "              title=\"Convert this dataframe to an interactive table.\"\n",
              "              style=\"display:none;\">\n",
              "        \n",
              "  <svg xmlns=\"http://www.w3.org/2000/svg\" height=\"24px\"viewBox=\"0 0 24 24\"\n",
              "       width=\"24px\">\n",
              "    <path d=\"M0 0h24v24H0V0z\" fill=\"none\"/>\n",
              "    <path d=\"M18.56 5.44l.94 2.06.94-2.06 2.06-.94-2.06-.94-.94-2.06-.94 2.06-2.06.94zm-11 1L8.5 8.5l.94-2.06 2.06-.94-2.06-.94L8.5 2.5l-.94 2.06-2.06.94zm10 10l.94 2.06.94-2.06 2.06-.94-2.06-.94-.94-2.06-.94 2.06-2.06.94z\"/><path d=\"M17.41 7.96l-1.37-1.37c-.4-.4-.92-.59-1.43-.59-.52 0-1.04.2-1.43.59L10.3 9.45l-7.72 7.72c-.78.78-.78 2.05 0 2.83L4 21.41c.39.39.9.59 1.41.59.51 0 1.02-.2 1.41-.59l7.78-7.78 2.81-2.81c.8-.78.8-2.07 0-2.86zM5.41 20L4 18.59l7.72-7.72 1.47 1.35L5.41 20z\"/>\n",
              "  </svg>\n",
              "      </button>\n",
              "      \n",
              "  <style>\n",
              "    .colab-df-container {\n",
              "      display:flex;\n",
              "      flex-wrap:wrap;\n",
              "      gap: 12px;\n",
              "    }\n",
              "\n",
              "    .colab-df-convert {\n",
              "      background-color: #E8F0FE;\n",
              "      border: none;\n",
              "      border-radius: 50%;\n",
              "      cursor: pointer;\n",
              "      display: none;\n",
              "      fill: #1967D2;\n",
              "      height: 32px;\n",
              "      padding: 0 0 0 0;\n",
              "      width: 32px;\n",
              "    }\n",
              "\n",
              "    .colab-df-convert:hover {\n",
              "      background-color: #E2EBFA;\n",
              "      box-shadow: 0px 1px 2px rgba(60, 64, 67, 0.3), 0px 1px 3px 1px rgba(60, 64, 67, 0.15);\n",
              "      fill: #174EA6;\n",
              "    }\n",
              "\n",
              "    [theme=dark] .colab-df-convert {\n",
              "      background-color: #3B4455;\n",
              "      fill: #D2E3FC;\n",
              "    }\n",
              "\n",
              "    [theme=dark] .colab-df-convert:hover {\n",
              "      background-color: #434B5C;\n",
              "      box-shadow: 0px 1px 3px 1px rgba(0, 0, 0, 0.15);\n",
              "      filter: drop-shadow(0px 1px 2px rgba(0, 0, 0, 0.3));\n",
              "      fill: #FFFFFF;\n",
              "    }\n",
              "  </style>\n",
              "\n",
              "      <script>\n",
              "        const buttonEl =\n",
              "          document.querySelector('#df-6e9ff245-4dee-4a5d-b5c9-10434820719c button.colab-df-convert');\n",
              "        buttonEl.style.display =\n",
              "          google.colab.kernel.accessAllowed ? 'block' : 'none';\n",
              "\n",
              "        async function convertToInteractive(key) {\n",
              "          const element = document.querySelector('#df-6e9ff245-4dee-4a5d-b5c9-10434820719c');\n",
              "          const dataTable =\n",
              "            await google.colab.kernel.invokeFunction('convertToInteractive',\n",
              "                                                     [key], {});\n",
              "          if (!dataTable) return;\n",
              "\n",
              "          const docLinkHtml = 'Like what you see? Visit the ' +\n",
              "            '<a target=\"_blank\" href=https://colab.research.google.com/notebooks/data_table.ipynb>data table notebook</a>'\n",
              "            + ' to learn more about interactive tables.';\n",
              "          element.innerHTML = '';\n",
              "          dataTable['output_type'] = 'display_data';\n",
              "          await google.colab.output.renderOutput(dataTable, element);\n",
              "          const docLink = document.createElement('div');\n",
              "          docLink.innerHTML = docLinkHtml;\n",
              "          element.appendChild(docLink);\n",
              "        }\n",
              "      </script>\n",
              "    </div>\n",
              "  </div>\n",
              "  "
            ]
          },
          "metadata": {},
          "execution_count": 37
        }
      ]
    },
    {
      "cell_type": "markdown",
      "metadata": {
        "id": "Xv5qHqhcBijJ"
      },
      "source": [
        "### *Building the Model*"
      ]
    },
    {
      "cell_type": "code",
      "source": [
        "X_train, X_test, y_train, y_test = train_test_split(final_df['processed_text'],\n",
        "                                                    final_df['cluster_labels'],\n",
        "                                                    test_size=0.1,\n",
        "                                                    random_state=444)"
      ],
      "metadata": {
        "id": "R55F_V3bv_ec"
      },
      "execution_count": 38,
      "outputs": []
    },
    {
      "cell_type": "markdown",
      "source": [
        "#### *Linear Support Vector Classifier*"
      ],
      "metadata": {
        "id": "rKxVZxOXOhI5"
      }
    },
    {
      "cell_type": "code",
      "source": [
        "%%time\n",
        "pipeline = Pipeline([\n",
        "    ('Tfidf Vectorizer', TfidfVectorizer()),\n",
        "    ('ML Model', LinearSVC())])\n",
        "\n",
        "model_LinearSVC = pipeline.fit(X_train, y_train)\n",
        "predictions = model_LinearSVC.predict(X_test)\n",
        "\n",
        "print('ML Model - Linear SVC\\n')\n",
        "\n",
        "accuracy_LinearSVC = accuracy_score(y_test, predictions)\n",
        "print(f\"Accuracy Score: {round(accuracy_LinearSVC * 100, 2)}%\")\n",
        "\n",
        "print('\\nConfusion Matrix')\n",
        "print(confusion_matrix(y_test, predictions))\n",
        "\n",
        "print(\"\\nClassification Report\")\n",
        "print(classification_report(y_test, predictions))\n"
      ],
      "metadata": {
        "colab": {
          "base_uri": "https://localhost:8080/"
        },
        "id": "fIYpnsEQw4W3",
        "outputId": "63441d9a-ae90-43c8-acf8-ca0d8e8c9ded"
      },
      "execution_count": 39,
      "outputs": [
        {
          "output_type": "stream",
          "name": "stdout",
          "text": [
            "ML Model - Linear SVC\n",
            "\n",
            "Accuracy Score: 95.81%\n",
            "\n",
            "Confusion Matrix\n",
            "[[3473    5   19   11    3    2    4]\n",
            " [  22  128    2    0    0    0    0]\n",
            " [  38    1  159    0    0    0    0]\n",
            " [  18    1    0   94    0    0    0]\n",
            " [  12    0    0    0   25    0    0]\n",
            " [  11    0    0    0    0   39    0]\n",
            " [  23    0    2    0    0    0   65]]\n",
            "\n",
            "Classification Report\n",
            "              precision    recall  f1-score   support\n",
            "\n",
            "           0       0.97      0.99      0.98      3517\n",
            "           1       0.95      0.84      0.89       152\n",
            "           2       0.87      0.80      0.84       198\n",
            "           3       0.90      0.83      0.86       113\n",
            "           4       0.89      0.68      0.77        37\n",
            "           5       0.95      0.78      0.86        50\n",
            "           6       0.94      0.72      0.82        90\n",
            "\n",
            "    accuracy                           0.96      4157\n",
            "   macro avg       0.92      0.81      0.86      4157\n",
            "weighted avg       0.96      0.96      0.96      4157\n",
            "\n",
            "CPU times: user 4.99 s, sys: 52.2 ms, total: 5.04 s\n",
            "Wall time: 5.06 s\n"
          ]
        }
      ]
    },
    {
      "cell_type": "markdown",
      "source": [
        "#### *K-Nearest Neighbors Classifier*"
      ],
      "metadata": {
        "id": "04PM01kKWVIe"
      }
    },
    {
      "cell_type": "code",
      "source": [
        "%%time\n",
        "pipeline = Pipeline([\n",
        "    ('CountVectorizer', CountVectorizer()),\n",
        "    ('Tfidf Vectorizer', TfidfTransformer()),\n",
        "    ('ML Model', KNeighborsClassifier(n_neighbors=10, weights='distance'))])\n",
        "\n",
        "model_KNN1 = pipeline.fit(X_train, y_train)\n",
        "predictions = model_KNN1.predict(X_test)\n",
        "print('ML Model - K Nearest Neighbors\\n')\n",
        "\n",
        "accuracy_KNN1 = accuracy_score(y_test, predictions)\n",
        "print(f\"Accuracy Score: {round(accuracy_KNN1 * 100, 2)}%\")\n",
        "\n",
        "print('\\nConfusion Matrix')\n",
        "print(confusion_matrix(y_test, predictions))\n",
        "\n",
        "print(\"\\nClassification Report\")\n",
        "print(classification_report(y_test, predictions))"
      ],
      "metadata": {
        "id": "t-1bPfpATi_Y",
        "colab": {
          "base_uri": "https://localhost:8080/"
        },
        "outputId": "8dd5d7a0-f7ea-43b6-e8f9-80cf86abf249"
      },
      "execution_count": 50,
      "outputs": [
        {
          "output_type": "stream",
          "name": "stdout",
          "text": [
            "ML Model - K Nearest Neighbors\n",
            "\n",
            "Accuracy Score: 95.45%\n",
            "\n",
            "Confusion Matrix\n",
            "[[3466    5   16   15    5    3    7]\n",
            " [  23  127    2    0    0    0    0]\n",
            " [  35    0  161    0    1    0    1]\n",
            " [  23    1    2   86    0    0    1]\n",
            " [   8    0    0    0   29    0    0]\n",
            " [  11    0    1    0    0   38    0]\n",
            " [  26    0    0    2    1    0   61]]\n",
            "\n",
            "Classification Report\n",
            "              precision    recall  f1-score   support\n",
            "\n",
            "           0       0.96      0.99      0.98      3517\n",
            "           1       0.95      0.84      0.89       152\n",
            "           2       0.88      0.81      0.85       198\n",
            "           3       0.83      0.76      0.80       113\n",
            "           4       0.81      0.78      0.79        37\n",
            "           5       0.93      0.76      0.84        50\n",
            "           6       0.87      0.68      0.76        90\n",
            "\n",
            "    accuracy                           0.95      4157\n",
            "   macro avg       0.89      0.80      0.84      4157\n",
            "weighted avg       0.95      0.95      0.95      4157\n",
            "\n",
            "CPU times: user 19min 26s, sys: 904 ms, total: 19min 27s\n",
            "Wall time: 11min 27s\n"
          ]
        }
      ]
    },
    {
      "cell_type": "markdown",
      "source": [
        "#### *Logistic Reggression*"
      ],
      "metadata": {
        "id": "5Si-A9epOY6N"
      }
    },
    {
      "cell_type": "code",
      "source": [
        "%%time\n",
        "pipeline = Pipeline([\n",
        "    ('CountVectorizer', CountVectorizer()),\n",
        "    ('Tfidf Vectorizer', TfidfTransformer()),\n",
        "    ('ML Model', LogisticRegression())])\n",
        "\n",
        "model_LogR = pipeline.fit(X_train, y_train)\n",
        "\n",
        "\n",
        "predictions = model_LogR.predict(X_test)\n",
        "\n",
        "accuracy_LogR = accuracy_score(y_test, predictions)\n",
        "print(f\"Accuracy Score: {round(accuracy_LogR * 100, 2)}%\")\n",
        "\n",
        "print('\\nConfusion Matrix')\n",
        "print(confusion_matrix(y_test, predictions))\n",
        "\n",
        "print(\"\\nClassification Report\")\n",
        "print(classification_report(y_test, predictions))"
      ],
      "metadata": {
        "colab": {
          "base_uri": "https://localhost:8080/"
        },
        "id": "TFul9rek_JUm",
        "outputId": "cecb80f9-65c7-4cfb-96ed-6c60b1fc4c9f"
      },
      "execution_count": 51,
      "outputs": [
        {
          "output_type": "stream",
          "name": "stdout",
          "text": [
            "Accuracy Score: 93.17%\n",
            "\n",
            "Confusion Matrix\n",
            "[[3484    1   17    8    4    1    2]\n",
            " [  47  102    3    0    0    0    0]\n",
            " [  63    1  134    0    0    0    0]\n",
            " [  45    0    3   64    0    1    0]\n",
            " [  23    0    0    0   14    0    0]\n",
            " [  26    0    0    0    0   24    0]\n",
            " [  38    0    1    0    0    0   51]]\n",
            "\n",
            "Classification Report\n",
            "              precision    recall  f1-score   support\n",
            "\n",
            "           0       0.94      0.99      0.96      3517\n",
            "           1       0.98      0.67      0.80       152\n",
            "           2       0.85      0.68      0.75       198\n",
            "           3       0.89      0.57      0.69       113\n",
            "           4       0.78      0.38      0.51        37\n",
            "           5       0.92      0.48      0.63        50\n",
            "           6       0.96      0.57      0.71        90\n",
            "\n",
            "    accuracy                           0.93      4157\n",
            "   macro avg       0.90      0.62      0.72      4157\n",
            "weighted avg       0.93      0.93      0.93      4157\n",
            "\n",
            "CPU times: user 33.6 s, sys: 19.7 s, total: 53.4 s\n",
            "Wall time: 32 s\n"
          ]
        }
      ]
    },
    {
      "cell_type": "markdown",
      "source": [
        "#### *Decision Tree Classifier*"
      ],
      "metadata": {
        "id": "Umow8hvAOv8f"
      }
    },
    {
      "cell_type": "code",
      "source": [
        "%%time\n",
        "pipeline = Pipeline([\n",
        "    ('CountVectorizer', CountVectorizer()),\n",
        "    ('Tfidf Vectorizer', TfidfTransformer()),\n",
        "    ('ML Model', DecisionTreeClassifier(criterion='entropy',\n",
        "                                        splitter='best',\n",
        "                                        max_depth=10,\n",
        "                                        random_state=33))])\n",
        "\n",
        "model_DT = pipeline.fit(X_train, y_train)\n",
        "predictions = model_DT.predict(X_test)\n",
        "print('ML Model - Decision Tree\\n')\n",
        "\n",
        "accuracy_DT = accuracy_score(y_test, predictions)\n",
        "print(f\"Accuracy Score: {round(accuracy_DT * 100, 2)}%\")\n",
        "\n",
        "print('\\nConfusion Matrix')\n",
        "print(confusion_matrix(y_test, predictions))\n",
        "\n",
        "print(\"\\nClassification Report\")\n",
        "print(classification_report(y_test, predictions))"
      ],
      "metadata": {
        "colab": {
          "base_uri": "https://localhost:8080/"
        },
        "id": "3PtnB-2Kz5WE",
        "outputId": "e549746c-56a0-49ed-d6d1-0f560c4193ca"
      },
      "execution_count": 52,
      "outputs": [
        {
          "output_type": "stream",
          "name": "stdout",
          "text": [
            "ML Model - Decision Tree\n",
            "\n",
            "Accuracy Score: 87.44%\n",
            "\n",
            "Confusion Matrix\n",
            "[[3494    3   10    3    1    4    2]\n",
            " [ 126   25    1    0    0    0    0]\n",
            " [ 158    0   38    0    0    0    2]\n",
            " [  93    0    0   20    0    0    0]\n",
            " [  33    0    0    0    4    0    0]\n",
            " [  28    1    2    0    0   19    0]\n",
            " [  54    0    0    1    0    0   35]]\n",
            "\n",
            "Classification Report\n",
            "              precision    recall  f1-score   support\n",
            "\n",
            "           0       0.88      0.99      0.93      3517\n",
            "           1       0.86      0.16      0.28       152\n",
            "           2       0.75      0.19      0.31       198\n",
            "           3       0.83      0.18      0.29       113\n",
            "           4       0.80      0.11      0.19        37\n",
            "           5       0.83      0.38      0.52        50\n",
            "           6       0.90      0.39      0.54        90\n",
            "\n",
            "    accuracy                           0.87      4157\n",
            "   macro avg       0.83      0.34      0.44      4157\n",
            "weighted avg       0.87      0.87      0.84      4157\n",
            "\n",
            "CPU times: user 11.2 s, sys: 27.4 ms, total: 11.2 s\n",
            "Wall time: 11.3 s\n"
          ]
        }
      ]
    },
    {
      "cell_type": "markdown",
      "source": [
        "#### *AdaBoost Classifier*"
      ],
      "metadata": {
        "id": "Tj5qk20PO29e"
      }
    },
    {
      "cell_type": "code",
      "source": [
        "%%time\n",
        "pipeline = Pipeline([\n",
        "    ('CountVectorizer', CountVectorizer()),\n",
        "    ('Tfidf Vectorizer', TfidfTransformer()),\n",
        "    ('ML Model', AdaBoostClassifier(n_estimators=10, random_state=33))\n",
        "])\n",
        "\n",
        "model_AB1 = pipeline.fit(X_train, y_train)\n",
        "predictions = model_AB1.predict(X_test)\n",
        "print('ML Model - AdaBoost\\n')\n",
        "\n",
        "accuracy_AB1 = accuracy_score(y_test, predictions)\n",
        "print(f\"Accuracy Score: {round(accuracy_AB1 * 100, 2)}%\")\n",
        "\n",
        "print('\\nConfusion Matrix')\n",
        "print(confusion_matrix(y_test, predictions))\n",
        "\n",
        "print(\"\\nClassification Report\")\n",
        "print(classification_report(y_test, predictions, zero_division=1))"
      ],
      "metadata": {
        "colab": {
          "base_uri": "https://localhost:8080/"
        },
        "id": "vrI4FjsECkCN",
        "outputId": "ed0f9c44-ece7-49db-fb25-15b4c3e082a3"
      },
      "execution_count": 53,
      "outputs": [
        {
          "output_type": "stream",
          "name": "stdout",
          "text": [
            "ML Model - AdaBoost\n",
            "\n",
            "Accuracy Score: 84.92%\n",
            "\n",
            "Confusion Matrix\n",
            "[[3507    4    0    3    0    3    0]\n",
            " [ 133   19    0    0    0    0    0]\n",
            " [ 198    0    0    0    0    0    0]\n",
            " [ 113    0    0    0    0    0    0]\n",
            " [  37    0    0    0    0    0    0]\n",
            " [  46    0    0    0    0    4    0]\n",
            " [  90    0    0    0    0    0    0]]\n",
            "\n",
            "Classification Report\n",
            "              precision    recall  f1-score   support\n",
            "\n",
            "           0       0.85      1.00      0.92      3517\n",
            "           1       0.83      0.12      0.22       152\n",
            "           2       1.00      0.00      0.00       198\n",
            "           3       0.00      0.00      0.00       113\n",
            "           4       1.00      0.00      0.00        37\n",
            "           5       0.57      0.08      0.14        50\n",
            "           6       1.00      0.00      0.00        90\n",
            "\n",
            "    accuracy                           0.85      4157\n",
            "   macro avg       0.75      0.17      0.18      4157\n",
            "weighted avg       0.83      0.85      0.79      4157\n",
            "\n",
            "CPU times: user 8.22 s, sys: 27.2 ms, total: 8.25 s\n",
            "Wall time: 8.28 s\n"
          ]
        }
      ]
    },
    {
      "cell_type": "markdown",
      "source": [
        "#### *Predictions*"
      ],
      "metadata": {
        "id": "cX6fDJrs-aZj"
      }
    },
    {
      "cell_type": "code",
      "source": [
        "y_predicted = model_LinearSVC.predict(X_test)\n",
        "y_predicted"
      ],
      "metadata": {
        "id": "Kf6AhlndDBxg",
        "colab": {
          "base_uri": "https://localhost:8080/"
        },
        "outputId": "b9a373cd-be7e-4710-e319-c37a41eab3fd"
      },
      "execution_count": 54,
      "outputs": [
        {
          "output_type": "execute_result",
          "data": {
            "text/plain": [
              "array([1, 0, 0, ..., 2, 0, 0], dtype=int32)"
            ]
          },
          "metadata": {},
          "execution_count": 54
        }
      ]
    },
    {
      "cell_type": "code",
      "source": [
        "predictions = pd.DataFrame(y_predicted)\n",
        "predictions"
      ],
      "metadata": {
        "id": "mfvP5viGDCPF",
        "colab": {
          "base_uri": "https://localhost:8080/",
          "height": 423
        },
        "outputId": "42881abe-7ed5-4a0e-8d1a-dda29cbffe19"
      },
      "execution_count": 55,
      "outputs": [
        {
          "output_type": "execute_result",
          "data": {
            "text/plain": [
              "      0\n",
              "0     1\n",
              "1     0\n",
              "2     0\n",
              "3     0\n",
              "4     0\n",
              "...  ..\n",
              "4152  0\n",
              "4153  0\n",
              "4154  2\n",
              "4155  0\n",
              "4156  0\n",
              "\n",
              "[4157 rows x 1 columns]"
            ],
            "text/html": [
              "\n",
              "  <div id=\"df-67c69e33-f445-4bc7-b5f8-4594d566cfe1\">\n",
              "    <div class=\"colab-df-container\">\n",
              "      <div>\n",
              "<style scoped>\n",
              "    .dataframe tbody tr th:only-of-type {\n",
              "        vertical-align: middle;\n",
              "    }\n",
              "\n",
              "    .dataframe tbody tr th {\n",
              "        vertical-align: top;\n",
              "    }\n",
              "\n",
              "    .dataframe thead th {\n",
              "        text-align: right;\n",
              "    }\n",
              "</style>\n",
              "<table border=\"1\" class=\"dataframe\">\n",
              "  <thead>\n",
              "    <tr style=\"text-align: right;\">\n",
              "      <th></th>\n",
              "      <th>0</th>\n",
              "    </tr>\n",
              "  </thead>\n",
              "  <tbody>\n",
              "    <tr>\n",
              "      <th>0</th>\n",
              "      <td>1</td>\n",
              "    </tr>\n",
              "    <tr>\n",
              "      <th>1</th>\n",
              "      <td>0</td>\n",
              "    </tr>\n",
              "    <tr>\n",
              "      <th>2</th>\n",
              "      <td>0</td>\n",
              "    </tr>\n",
              "    <tr>\n",
              "      <th>3</th>\n",
              "      <td>0</td>\n",
              "    </tr>\n",
              "    <tr>\n",
              "      <th>4</th>\n",
              "      <td>0</td>\n",
              "    </tr>\n",
              "    <tr>\n",
              "      <th>...</th>\n",
              "      <td>...</td>\n",
              "    </tr>\n",
              "    <tr>\n",
              "      <th>4152</th>\n",
              "      <td>0</td>\n",
              "    </tr>\n",
              "    <tr>\n",
              "      <th>4153</th>\n",
              "      <td>0</td>\n",
              "    </tr>\n",
              "    <tr>\n",
              "      <th>4154</th>\n",
              "      <td>2</td>\n",
              "    </tr>\n",
              "    <tr>\n",
              "      <th>4155</th>\n",
              "      <td>0</td>\n",
              "    </tr>\n",
              "    <tr>\n",
              "      <th>4156</th>\n",
              "      <td>0</td>\n",
              "    </tr>\n",
              "  </tbody>\n",
              "</table>\n",
              "<p>4157 rows × 1 columns</p>\n",
              "</div>\n",
              "      <button class=\"colab-df-convert\" onclick=\"convertToInteractive('df-67c69e33-f445-4bc7-b5f8-4594d566cfe1')\"\n",
              "              title=\"Convert this dataframe to an interactive table.\"\n",
              "              style=\"display:none;\">\n",
              "        \n",
              "  <svg xmlns=\"http://www.w3.org/2000/svg\" height=\"24px\"viewBox=\"0 0 24 24\"\n",
              "       width=\"24px\">\n",
              "    <path d=\"M0 0h24v24H0V0z\" fill=\"none\"/>\n",
              "    <path d=\"M18.56 5.44l.94 2.06.94-2.06 2.06-.94-2.06-.94-.94-2.06-.94 2.06-2.06.94zm-11 1L8.5 8.5l.94-2.06 2.06-.94-2.06-.94L8.5 2.5l-.94 2.06-2.06.94zm10 10l.94 2.06.94-2.06 2.06-.94-2.06-.94-.94-2.06-.94 2.06-2.06.94z\"/><path d=\"M17.41 7.96l-1.37-1.37c-.4-.4-.92-.59-1.43-.59-.52 0-1.04.2-1.43.59L10.3 9.45l-7.72 7.72c-.78.78-.78 2.05 0 2.83L4 21.41c.39.39.9.59 1.41.59.51 0 1.02-.2 1.41-.59l7.78-7.78 2.81-2.81c.8-.78.8-2.07 0-2.86zM5.41 20L4 18.59l7.72-7.72 1.47 1.35L5.41 20z\"/>\n",
              "  </svg>\n",
              "      </button>\n",
              "      \n",
              "  <style>\n",
              "    .colab-df-container {\n",
              "      display:flex;\n",
              "      flex-wrap:wrap;\n",
              "      gap: 12px;\n",
              "    }\n",
              "\n",
              "    .colab-df-convert {\n",
              "      background-color: #E8F0FE;\n",
              "      border: none;\n",
              "      border-radius: 50%;\n",
              "      cursor: pointer;\n",
              "      display: none;\n",
              "      fill: #1967D2;\n",
              "      height: 32px;\n",
              "      padding: 0 0 0 0;\n",
              "      width: 32px;\n",
              "    }\n",
              "\n",
              "    .colab-df-convert:hover {\n",
              "      background-color: #E2EBFA;\n",
              "      box-shadow: 0px 1px 2px rgba(60, 64, 67, 0.3), 0px 1px 3px 1px rgba(60, 64, 67, 0.15);\n",
              "      fill: #174EA6;\n",
              "    }\n",
              "\n",
              "    [theme=dark] .colab-df-convert {\n",
              "      background-color: #3B4455;\n",
              "      fill: #D2E3FC;\n",
              "    }\n",
              "\n",
              "    [theme=dark] .colab-df-convert:hover {\n",
              "      background-color: #434B5C;\n",
              "      box-shadow: 0px 1px 3px 1px rgba(0, 0, 0, 0.15);\n",
              "      filter: drop-shadow(0px 1px 2px rgba(0, 0, 0, 0.3));\n",
              "      fill: #FFFFFF;\n",
              "    }\n",
              "  </style>\n",
              "\n",
              "      <script>\n",
              "        const buttonEl =\n",
              "          document.querySelector('#df-67c69e33-f445-4bc7-b5f8-4594d566cfe1 button.colab-df-convert');\n",
              "        buttonEl.style.display =\n",
              "          google.colab.kernel.accessAllowed ? 'block' : 'none';\n",
              "\n",
              "        async function convertToInteractive(key) {\n",
              "          const element = document.querySelector('#df-67c69e33-f445-4bc7-b5f8-4594d566cfe1');\n",
              "          const dataTable =\n",
              "            await google.colab.kernel.invokeFunction('convertToInteractive',\n",
              "                                                     [key], {});\n",
              "          if (!dataTable) return;\n",
              "\n",
              "          const docLinkHtml = 'Like what you see? Visit the ' +\n",
              "            '<a target=\"_blank\" href=https://colab.research.google.com/notebooks/data_table.ipynb>data table notebook</a>'\n",
              "            + ' to learn more about interactive tables.';\n",
              "          element.innerHTML = '';\n",
              "          dataTable['output_type'] = 'display_data';\n",
              "          await google.colab.output.renderOutput(dataTable, element);\n",
              "          const docLink = document.createElement('div');\n",
              "          docLink.innerHTML = docLinkHtml;\n",
              "          element.appendChild(docLink);\n",
              "        }\n",
              "      </script>\n",
              "    </div>\n",
              "  </div>\n",
              "  "
            ]
          },
          "metadata": {},
          "execution_count": 55
        }
      ]
    },
    {
      "cell_type": "markdown",
      "source": [
        "#### *Conclusion*"
      ],
      "metadata": {
        "id": "1SKAX79eVe4y"
      }
    },
    {
      "cell_type": "markdown",
      "source": [
        "*This project aimed to classify text paragraphs into product attribute labels. The data was meticulously cleaned and duplicates were grouped, resulting in 225 unique labels. Semantic relationships were extracted using Word2Vec and K-means, identifying the top 50 features.*\n",
        "\n",
        "*The performance of five machine learning models, namely KNN, AdaBoost, Decision Tree, Linear SVC, and Logistic Regression, was evaluated. Among them, the Linear SVC algorithm stood out as the top performer, boasting an impressive accuracy of 96%.*\n",
        "\n",
        "*Overall, this project showcases the effectiveness of employing natural language processing and machine learning techniques in accurately classifying text.*"
      ],
      "metadata": {
        "id": "r-A36myTSzbU"
      }
    },
    {
      "cell_type": "code",
      "source": [
        "import pickle\n",
        "\n",
        "pipeline = Pipeline([\n",
        "    ('Tfidf Vectorizer', TfidfVectorizer()),\n",
        "    ('ML Model', LinearSVC())\n",
        "])\n",
        "\n",
        "model_LinearSVC = pipeline.fit(X_train, y_train)\n",
        "\n",
        "with open('LabelExtractionModel', 'wb') as file:\n",
        "    pickle.dump(model_LinearSVC, file)"
      ],
      "metadata": {
        "id": "60DPr9Qbb2Sv"
      },
      "execution_count": 56,
      "outputs": []
    },
    {
      "cell_type": "code",
      "source": [
        "k = 50\n",
        "kmeans = KMeans(n_clusters=k, n_init=10, random_state=42)\n",
        "cluster_labels = kmeans.fit_predict(label_embeddings)\n",
        "final_df['cluster_labels'] = cluster_labels\n",
        "\n",
        "final_df[['cluster_labels', 'labels']].to_pickle('cluster_label_mapping.pkl')\n",
        "\n",
        "tokenized_labels = [label.split() for label in final_df['labels']]"
      ],
      "metadata": {
        "id": "nSg49q2dksSL"
      },
      "execution_count": 57,
      "outputs": []
    },
    {
      "cell_type": "code",
      "source": [
        "model = Word2Vec(tokenized_labels, vector_size=100, window=5, min_count=1, workers=4)\n",
        "\n",
        "model.save('word2vec_model.pkl')"
      ],
      "metadata": {
        "id": "tY_ZogpolV9j"
      },
      "execution_count": 58,
      "outputs": []
    },
    {
      "cell_type": "code",
      "source": [
        "with open('cluster_label_mapping.pkl', 'rb') as file:\n",
        "    cluster_label_mapping = pickle.load(file)\n",
        "\n",
        "# Check if it is a DataFrame\n",
        "if isinstance(cluster_label_mapping, pd.DataFrame):\n",
        "    print(\"cluster_label_mapping.pkl is a valid DataFrame.\")\n",
        "else:\n",
        "    print(\"cluster_label_mapping.pkl is not a valid DataFrame.\")\n",
        "\n",
        "# Load Word2Vec model\n",
        "with open('word2vec_model.pkl', 'rb') as file:\n",
        "    word2vec_model = pickle.load(file)\n",
        "\n",
        "# Check if it is a Word2Vec model\n",
        "if isinstance(word2vec_model, Word2Vec):\n",
        "    print(\"word2vec_model.pkl is a valid Word2Vec model.\")\n",
        "else:\n",
        "    print(\"word2vec_model.pkl is not a valid Word2Vec model.\")\n"
      ],
      "metadata": {
        "colab": {
          "base_uri": "https://localhost:8080/"
        },
        "id": "jAXXMphGealy",
        "outputId": "28b24ad9-3068-4984-dbdd-9928108ed804"
      },
      "execution_count": 59,
      "outputs": [
        {
          "output_type": "stream",
          "name": "stdout",
          "text": [
            "cluster_label_mapping.pkl is a valid DataFrame.\n",
            "word2vec_model.pkl is a valid Word2Vec model.\n"
          ]
        }
      ]
    }
  ],
  "metadata": {
    "colab": {
      "provenance": [],
      "include_colab_link": true
    },
    "gpuClass": "standard",
    "kernelspec": {
      "display_name": "Python 3",
      "name": "python3"
    },
    "language_info": {
      "name": "python"
    }
  },
  "nbformat": 4,
  "nbformat_minor": 0
}
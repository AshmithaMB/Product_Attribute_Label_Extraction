{
  "cells": [
    {
      "cell_type": "markdown",
      "metadata": {
        "id": "view-in-github",
        "colab_type": "text"
      },
      "source": [
        "<a href=\"https://colab.research.google.com/github/AshmithaMB/Text-Classification/blob/main/Product_Attribute_Label_Extraction.ipynb\" target=\"_parent\"><img src=\"https://colab.research.google.com/assets/colab-badge.svg\" alt=\"Open In Colab\"/></a>"
      ]
    },
    {
      "cell_type": "markdown",
      "metadata": {
        "id": "0VLd4V2GaGbt"
      },
      "source": [
        "####***Project Statement & Project Overview***\n",
        "\n",
        "> *The objective of this project is to develop a machine learning model for text classification, specifically focusing on product attributes. The model will be trained on a dataset consisting of text paragraphs describing various product features and attributes.*\n",
        "\n",
        "> *By leveraging natural language processing (NLP) techniques and advanced machine learning algorithms, the project aims to automate the categorization of product attributes, enabling efficient analysis and organization of product data*"
      ]
    },
    {
      "cell_type": "markdown",
      "metadata": {
        "id": "5ELKcydTbCR0"
      },
      "source": [
        "  ##### ***The Input file consists of two csv files:***\n",
        "\n",
        "1. ***train_data.csv:***\n",
        " > *This file is used for training and contains two fields, namely \"text\" and \"id\".*\n",
        "\n",
        " > *The \"text\" field holds the input data, while the \"id\" field is a unique number assigned to each text.*\n",
        "\n",
        " > *This \"id\" serves as a reference to link the text with its corresponding labels in the \"train_label.csv\" file.*\n",
        "\n",
        "2. ***train_label.csv :***\n",
        "\n",
        " > *This file contains two fields, \"id\" and \"label\". The \"id\" field in this file corresponds to the \"id\" field in the \"train_data.csv\" file.*\n",
        "\n",
        " > *It acts as a key to match the labels with the respective input texts.*\n",
        "\n",
        " > *The \"label\" field holds the corresponding labels for each text identified by the \"id\".*"
      ]
    },
    {
      "cell_type": "markdown",
      "metadata": {
        "id": "1RK9ywB03YEy"
      },
      "source": [
        "### ***Importing the Libraries***"
      ]
    },
    {
      "cell_type": "code",
      "execution_count": null,
      "metadata": {
        "colab": {
          "base_uri": "https://localhost:8080/"
        },
        "id": "SQcNFQOP9jox",
        "outputId": "672bf4c2-eca7-4c35-d907-efdf5e1c1376"
      },
      "outputs": [
        {
          "output_type": "stream",
          "name": "stderr",
          "text": [
            "[nltk_data] Downloading package punkt to /root/nltk_data...\n",
            "[nltk_data]   Unzipping tokenizers/punkt.zip.\n",
            "[nltk_data] Downloading package stopwords to /root/nltk_data...\n",
            "[nltk_data]   Unzipping corpora/stopwords.zip.\n",
            "[nltk_data] Downloading package wordnet to /root/nltk_data...\n"
          ]
        }
      ],
      "source": [
        "import pandas as pd\n",
        "import numpy as np\n",
        "import nltk\n",
        "nltk.download(\"punkt\")\n",
        "nltk.download(\"stopwords\")\n",
        "nltk.download('wordnet')\n",
        "from nltk.corpus import stopwords\n",
        "from nltk.tokenize import word_tokenize\n",
        "from nltk.stem import WordNetLemmatizer\n",
        "import string\n",
        "\n",
        "import matplotlib.pyplot as plt\n",
        "import seaborn as sns\n",
        "from wordcloud import WordCloud\n",
        "\n",
        "from gensim.models import Word2Vec\n",
        "\n",
        "from sklearn.cluster import KMeans\n",
        "\n",
        "from sklearn.linear_model import LogisticRegression\n",
        "from sklearn.svm import LinearSVC, SVC\n",
        "from sklearn.tree import DecisionTreeClassifier\n",
        "from sklearn.ensemble import AdaBoostClassifier\n",
        "from sklearn.neighbors import KNeighborsClassifier\n",
        "\n",
        "from sklearn.model_selection import train_test_split\n",
        "from sklearn.pipeline import Pipeline\n",
        "from sklearn.feature_extraction.text import TfidfVectorizer, TfidfTransformer, CountVectorizer\n",
        "from sklearn.metrics import accuracy_score, confusion_matrix, classification_report\n",
        "\n",
        "import warnings\n",
        "warnings.filterwarnings(\"ignore\", category=UserWarning)"
      ]
    },
    {
      "cell_type": "markdown",
      "metadata": {
        "id": "rPwbPuFZCpZt"
      },
      "source": [
        "### *Loading the CSV files*"
      ]
    },
    {
      "cell_type": "code",
      "execution_count": null,
      "metadata": {
        "colab": {
          "base_uri": "https://localhost:8080/",
          "height": 81
        },
        "id": "GbQyD2o3-Piv",
        "outputId": "751fdb82-4473-4b29-bd57-7dc3cb10fd53"
      },
      "outputs": [
        {
          "output_type": "execute_result",
          "data": {
            "text/plain": [
              "                                                text      id\n",
              "0  Keep your gloves, hats, coats and jackets toge...  122885"
            ],
            "text/html": [
              "\n",
              "  <div id=\"df-4bf78e8e-b39b-4b5d-88a8-a6142f710d79\">\n",
              "    <div class=\"colab-df-container\">\n",
              "      <div>\n",
              "<style scoped>\n",
              "    .dataframe tbody tr th:only-of-type {\n",
              "        vertical-align: middle;\n",
              "    }\n",
              "\n",
              "    .dataframe tbody tr th {\n",
              "        vertical-align: top;\n",
              "    }\n",
              "\n",
              "    .dataframe thead th {\n",
              "        text-align: right;\n",
              "    }\n",
              "</style>\n",
              "<table border=\"1\" class=\"dataframe\">\n",
              "  <thead>\n",
              "    <tr style=\"text-align: right;\">\n",
              "      <th></th>\n",
              "      <th>text</th>\n",
              "      <th>id</th>\n",
              "    </tr>\n",
              "  </thead>\n",
              "  <tbody>\n",
              "    <tr>\n",
              "      <th>0</th>\n",
              "      <td>Keep your gloves, hats, coats and jackets toge...</td>\n",
              "      <td>122885</td>\n",
              "    </tr>\n",
              "  </tbody>\n",
              "</table>\n",
              "</div>\n",
              "      <button class=\"colab-df-convert\" onclick=\"convertToInteractive('df-4bf78e8e-b39b-4b5d-88a8-a6142f710d79')\"\n",
              "              title=\"Convert this dataframe to an interactive table.\"\n",
              "              style=\"display:none;\">\n",
              "        \n",
              "  <svg xmlns=\"http://www.w3.org/2000/svg\" height=\"24px\"viewBox=\"0 0 24 24\"\n",
              "       width=\"24px\">\n",
              "    <path d=\"M0 0h24v24H0V0z\" fill=\"none\"/>\n",
              "    <path d=\"M18.56 5.44l.94 2.06.94-2.06 2.06-.94-2.06-.94-.94-2.06-.94 2.06-2.06.94zm-11 1L8.5 8.5l.94-2.06 2.06-.94-2.06-.94L8.5 2.5l-.94 2.06-2.06.94zm10 10l.94 2.06.94-2.06 2.06-.94-2.06-.94-.94-2.06-.94 2.06-2.06.94z\"/><path d=\"M17.41 7.96l-1.37-1.37c-.4-.4-.92-.59-1.43-.59-.52 0-1.04.2-1.43.59L10.3 9.45l-7.72 7.72c-.78.78-.78 2.05 0 2.83L4 21.41c.39.39.9.59 1.41.59.51 0 1.02-.2 1.41-.59l7.78-7.78 2.81-2.81c.8-.78.8-2.07 0-2.86zM5.41 20L4 18.59l7.72-7.72 1.47 1.35L5.41 20z\"/>\n",
              "  </svg>\n",
              "      </button>\n",
              "      \n",
              "  <style>\n",
              "    .colab-df-container {\n",
              "      display:flex;\n",
              "      flex-wrap:wrap;\n",
              "      gap: 12px;\n",
              "    }\n",
              "\n",
              "    .colab-df-convert {\n",
              "      background-color: #E8F0FE;\n",
              "      border: none;\n",
              "      border-radius: 50%;\n",
              "      cursor: pointer;\n",
              "      display: none;\n",
              "      fill: #1967D2;\n",
              "      height: 32px;\n",
              "      padding: 0 0 0 0;\n",
              "      width: 32px;\n",
              "    }\n",
              "\n",
              "    .colab-df-convert:hover {\n",
              "      background-color: #E2EBFA;\n",
              "      box-shadow: 0px 1px 2px rgba(60, 64, 67, 0.3), 0px 1px 3px 1px rgba(60, 64, 67, 0.15);\n",
              "      fill: #174EA6;\n",
              "    }\n",
              "\n",
              "    [theme=dark] .colab-df-convert {\n",
              "      background-color: #3B4455;\n",
              "      fill: #D2E3FC;\n",
              "    }\n",
              "\n",
              "    [theme=dark] .colab-df-convert:hover {\n",
              "      background-color: #434B5C;\n",
              "      box-shadow: 0px 1px 3px 1px rgba(0, 0, 0, 0.15);\n",
              "      filter: drop-shadow(0px 1px 2px rgba(0, 0, 0, 0.3));\n",
              "      fill: #FFFFFF;\n",
              "    }\n",
              "  </style>\n",
              "\n",
              "      <script>\n",
              "        const buttonEl =\n",
              "          document.querySelector('#df-4bf78e8e-b39b-4b5d-88a8-a6142f710d79 button.colab-df-convert');\n",
              "        buttonEl.style.display =\n",
              "          google.colab.kernel.accessAllowed ? 'block' : 'none';\n",
              "\n",
              "        async function convertToInteractive(key) {\n",
              "          const element = document.querySelector('#df-4bf78e8e-b39b-4b5d-88a8-a6142f710d79');\n",
              "          const dataTable =\n",
              "            await google.colab.kernel.invokeFunction('convertToInteractive',\n",
              "                                                     [key], {});\n",
              "          if (!dataTable) return;\n",
              "\n",
              "          const docLinkHtml = 'Like what you see? Visit the ' +\n",
              "            '<a target=\"_blank\" href=https://colab.research.google.com/notebooks/data_table.ipynb>data table notebook</a>'\n",
              "            + ' to learn more about interactive tables.';\n",
              "          element.innerHTML = '';\n",
              "          dataTable['output_type'] = 'display_data';\n",
              "          await google.colab.output.renderOutput(dataTable, element);\n",
              "          const docLink = document.createElement('div');\n",
              "          docLink.innerHTML = docLinkHtml;\n",
              "          element.appendChild(docLink);\n",
              "        }\n",
              "      </script>\n",
              "    </div>\n",
              "  </div>\n",
              "  "
            ]
          },
          "metadata": {},
          "execution_count": 2
        }
      ],
      "source": [
        "data = pd.read_csv(\"train_data.csv\", encoding='UTF-8')\n",
        "data.head(1)"
      ]
    },
    {
      "cell_type": "code",
      "execution_count": null,
      "metadata": {
        "colab": {
          "base_uri": "https://localhost:8080/",
          "height": 206
        },
        "id": "5JHNhuM0xjSE",
        "outputId": "4520377c-7a01-4086-f6d5-a48b53c76c27"
      },
      "outputs": [
        {
          "output_type": "execute_result",
          "data": {
            "text/plain": [
              "       id                  label\n",
              "0  100003                  Shape\n",
              "1  100004        Voltage (volts)\n",
              "2  100004        Wattage (watts)\n",
              "3  100006        Wattage (watts)\n",
              "4  100007  ENERGY STAR Certified"
            ],
            "text/html": [
              "\n",
              "  <div id=\"df-3c2e6d80-5a67-4553-ace0-71db70ddabea\">\n",
              "    <div class=\"colab-df-container\">\n",
              "      <div>\n",
              "<style scoped>\n",
              "    .dataframe tbody tr th:only-of-type {\n",
              "        vertical-align: middle;\n",
              "    }\n",
              "\n",
              "    .dataframe tbody tr th {\n",
              "        vertical-align: top;\n",
              "    }\n",
              "\n",
              "    .dataframe thead th {\n",
              "        text-align: right;\n",
              "    }\n",
              "</style>\n",
              "<table border=\"1\" class=\"dataframe\">\n",
              "  <thead>\n",
              "    <tr style=\"text-align: right;\">\n",
              "      <th></th>\n",
              "      <th>id</th>\n",
              "      <th>label</th>\n",
              "    </tr>\n",
              "  </thead>\n",
              "  <tbody>\n",
              "    <tr>\n",
              "      <th>0</th>\n",
              "      <td>100003</td>\n",
              "      <td>Shape</td>\n",
              "    </tr>\n",
              "    <tr>\n",
              "      <th>1</th>\n",
              "      <td>100004</td>\n",
              "      <td>Voltage (volts)</td>\n",
              "    </tr>\n",
              "    <tr>\n",
              "      <th>2</th>\n",
              "      <td>100004</td>\n",
              "      <td>Wattage (watts)</td>\n",
              "    </tr>\n",
              "    <tr>\n",
              "      <th>3</th>\n",
              "      <td>100006</td>\n",
              "      <td>Wattage (watts)</td>\n",
              "    </tr>\n",
              "    <tr>\n",
              "      <th>4</th>\n",
              "      <td>100007</td>\n",
              "      <td>ENERGY STAR Certified</td>\n",
              "    </tr>\n",
              "  </tbody>\n",
              "</table>\n",
              "</div>\n",
              "      <button class=\"colab-df-convert\" onclick=\"convertToInteractive('df-3c2e6d80-5a67-4553-ace0-71db70ddabea')\"\n",
              "              title=\"Convert this dataframe to an interactive table.\"\n",
              "              style=\"display:none;\">\n",
              "        \n",
              "  <svg xmlns=\"http://www.w3.org/2000/svg\" height=\"24px\"viewBox=\"0 0 24 24\"\n",
              "       width=\"24px\">\n",
              "    <path d=\"M0 0h24v24H0V0z\" fill=\"none\"/>\n",
              "    <path d=\"M18.56 5.44l.94 2.06.94-2.06 2.06-.94-2.06-.94-.94-2.06-.94 2.06-2.06.94zm-11 1L8.5 8.5l.94-2.06 2.06-.94-2.06-.94L8.5 2.5l-.94 2.06-2.06.94zm10 10l.94 2.06.94-2.06 2.06-.94-2.06-.94-.94-2.06-.94 2.06-2.06.94z\"/><path d=\"M17.41 7.96l-1.37-1.37c-.4-.4-.92-.59-1.43-.59-.52 0-1.04.2-1.43.59L10.3 9.45l-7.72 7.72c-.78.78-.78 2.05 0 2.83L4 21.41c.39.39.9.59 1.41.59.51 0 1.02-.2 1.41-.59l7.78-7.78 2.81-2.81c.8-.78.8-2.07 0-2.86zM5.41 20L4 18.59l7.72-7.72 1.47 1.35L5.41 20z\"/>\n",
              "  </svg>\n",
              "      </button>\n",
              "      \n",
              "  <style>\n",
              "    .colab-df-container {\n",
              "      display:flex;\n",
              "      flex-wrap:wrap;\n",
              "      gap: 12px;\n",
              "    }\n",
              "\n",
              "    .colab-df-convert {\n",
              "      background-color: #E8F0FE;\n",
              "      border: none;\n",
              "      border-radius: 50%;\n",
              "      cursor: pointer;\n",
              "      display: none;\n",
              "      fill: #1967D2;\n",
              "      height: 32px;\n",
              "      padding: 0 0 0 0;\n",
              "      width: 32px;\n",
              "    }\n",
              "\n",
              "    .colab-df-convert:hover {\n",
              "      background-color: #E2EBFA;\n",
              "      box-shadow: 0px 1px 2px rgba(60, 64, 67, 0.3), 0px 1px 3px 1px rgba(60, 64, 67, 0.15);\n",
              "      fill: #174EA6;\n",
              "    }\n",
              "\n",
              "    [theme=dark] .colab-df-convert {\n",
              "      background-color: #3B4455;\n",
              "      fill: #D2E3FC;\n",
              "    }\n",
              "\n",
              "    [theme=dark] .colab-df-convert:hover {\n",
              "      background-color: #434B5C;\n",
              "      box-shadow: 0px 1px 3px 1px rgba(0, 0, 0, 0.15);\n",
              "      filter: drop-shadow(0px 1px 2px rgba(0, 0, 0, 0.3));\n",
              "      fill: #FFFFFF;\n",
              "    }\n",
              "  </style>\n",
              "\n",
              "      <script>\n",
              "        const buttonEl =\n",
              "          document.querySelector('#df-3c2e6d80-5a67-4553-ace0-71db70ddabea button.colab-df-convert');\n",
              "        buttonEl.style.display =\n",
              "          google.colab.kernel.accessAllowed ? 'block' : 'none';\n",
              "\n",
              "        async function convertToInteractive(key) {\n",
              "          const element = document.querySelector('#df-3c2e6d80-5a67-4553-ace0-71db70ddabea');\n",
              "          const dataTable =\n",
              "            await google.colab.kernel.invokeFunction('convertToInteractive',\n",
              "                                                     [key], {});\n",
              "          if (!dataTable) return;\n",
              "\n",
              "          const docLinkHtml = 'Like what you see? Visit the ' +\n",
              "            '<a target=\"_blank\" href=https://colab.research.google.com/notebooks/data_table.ipynb>data table notebook</a>'\n",
              "            + ' to learn more about interactive tables.';\n",
              "          element.innerHTML = '';\n",
              "          dataTable['output_type'] = 'display_data';\n",
              "          await google.colab.output.renderOutput(dataTable, element);\n",
              "          const docLink = document.createElement('div');\n",
              "          docLink.innerHTML = docLinkHtml;\n",
              "          element.appendChild(docLink);\n",
              "        }\n",
              "      </script>\n",
              "    </div>\n",
              "  </div>\n",
              "  "
            ]
          },
          "metadata": {},
          "execution_count": 3
        }
      ],
      "source": [
        "datalabels = pd.read_csv(\"train_label.csv\", encoding='latin-1')\n",
        "datalabels.head(5)"
      ]
    },
    {
      "cell_type": "markdown",
      "metadata": {
        "id": "RSvjEd5I3DuW"
      },
      "source": [
        "### *Merging the DataFarmes*"
      ]
    },
    {
      "cell_type": "code",
      "execution_count": null,
      "metadata": {
        "colab": {
          "base_uri": "https://localhost:8080/",
          "height": 423
        },
        "id": "C8Mi5_i-5UyD",
        "outputId": "327cdd9a-e0b2-4ff8-bd4f-6adab2f358a9"
      },
      "outputs": [
        {
          "output_type": "execute_result",
          "data": {
            "text/plain": [
              "                                                    text      id  \\\n",
              "0      Keep your gloves, hats, coats and jackets toge...  122885   \n",
              "1      Keep your gloves, hats, coats and jackets toge...  122885   \n",
              "2      Keep your gloves, hats, coats and jackets toge...  122885   \n",
              "3      The Home Dynamix Serendipity Ivory 5 ft. 2 in....  188958   \n",
              "4      The Home Dynamix Serendipity Ivory 5 ft. 2 in....  188958   \n",
              "...                                                  ...     ...   \n",
              "75165  This industrial grade anti-fatigue mat is engi...  171764   \n",
              "75166  This industrial grade anti-fatigue mat is engi...  171764   \n",
              "75167  This industrial grade anti-fatigue mat is engi...  171764   \n",
              "75168  The Nite Ize LED Upgrade Kit converts most C/D...  117326   \n",
              "75169  For the most comprehensive selection of nails ...  160856   \n",
              "\n",
              "                          label  \n",
              "0             Assembly Required  \n",
              "1                        Finish  \n",
              "2             Hardware Included  \n",
              "3      Commercial / Residential  \n",
              "4                      Features  \n",
              "...                         ...  \n",
              "75165                  Features  \n",
              "75166     Flooring Product Type  \n",
              "75167            Indoor/Outdoor  \n",
              "75168          Package Quantity  \n",
              "75169          Package Quantity  \n",
              "\n",
              "[75170 rows x 3 columns]"
            ],
            "text/html": [
              "\n",
              "  <div id=\"df-41518856-bd54-4d6e-adfb-48c06e858f2f\">\n",
              "    <div class=\"colab-df-container\">\n",
              "      <div>\n",
              "<style scoped>\n",
              "    .dataframe tbody tr th:only-of-type {\n",
              "        vertical-align: middle;\n",
              "    }\n",
              "\n",
              "    .dataframe tbody tr th {\n",
              "        vertical-align: top;\n",
              "    }\n",
              "\n",
              "    .dataframe thead th {\n",
              "        text-align: right;\n",
              "    }\n",
              "</style>\n",
              "<table border=\"1\" class=\"dataframe\">\n",
              "  <thead>\n",
              "    <tr style=\"text-align: right;\">\n",
              "      <th></th>\n",
              "      <th>text</th>\n",
              "      <th>id</th>\n",
              "      <th>label</th>\n",
              "    </tr>\n",
              "  </thead>\n",
              "  <tbody>\n",
              "    <tr>\n",
              "      <th>0</th>\n",
              "      <td>Keep your gloves, hats, coats and jackets toge...</td>\n",
              "      <td>122885</td>\n",
              "      <td>Assembly Required</td>\n",
              "    </tr>\n",
              "    <tr>\n",
              "      <th>1</th>\n",
              "      <td>Keep your gloves, hats, coats and jackets toge...</td>\n",
              "      <td>122885</td>\n",
              "      <td>Finish</td>\n",
              "    </tr>\n",
              "    <tr>\n",
              "      <th>2</th>\n",
              "      <td>Keep your gloves, hats, coats and jackets toge...</td>\n",
              "      <td>122885</td>\n",
              "      <td>Hardware Included</td>\n",
              "    </tr>\n",
              "    <tr>\n",
              "      <th>3</th>\n",
              "      <td>The Home Dynamix Serendipity Ivory 5 ft. 2 in....</td>\n",
              "      <td>188958</td>\n",
              "      <td>Commercial / Residential</td>\n",
              "    </tr>\n",
              "    <tr>\n",
              "      <th>4</th>\n",
              "      <td>The Home Dynamix Serendipity Ivory 5 ft. 2 in....</td>\n",
              "      <td>188958</td>\n",
              "      <td>Features</td>\n",
              "    </tr>\n",
              "    <tr>\n",
              "      <th>...</th>\n",
              "      <td>...</td>\n",
              "      <td>...</td>\n",
              "      <td>...</td>\n",
              "    </tr>\n",
              "    <tr>\n",
              "      <th>75165</th>\n",
              "      <td>This industrial grade anti-fatigue mat is engi...</td>\n",
              "      <td>171764</td>\n",
              "      <td>Features</td>\n",
              "    </tr>\n",
              "    <tr>\n",
              "      <th>75166</th>\n",
              "      <td>This industrial grade anti-fatigue mat is engi...</td>\n",
              "      <td>171764</td>\n",
              "      <td>Flooring Product Type</td>\n",
              "    </tr>\n",
              "    <tr>\n",
              "      <th>75167</th>\n",
              "      <td>This industrial grade anti-fatigue mat is engi...</td>\n",
              "      <td>171764</td>\n",
              "      <td>Indoor/Outdoor</td>\n",
              "    </tr>\n",
              "    <tr>\n",
              "      <th>75168</th>\n",
              "      <td>The Nite Ize LED Upgrade Kit converts most C/D...</td>\n",
              "      <td>117326</td>\n",
              "      <td>Package Quantity</td>\n",
              "    </tr>\n",
              "    <tr>\n",
              "      <th>75169</th>\n",
              "      <td>For the most comprehensive selection of nails ...</td>\n",
              "      <td>160856</td>\n",
              "      <td>Package Quantity</td>\n",
              "    </tr>\n",
              "  </tbody>\n",
              "</table>\n",
              "<p>75170 rows × 3 columns</p>\n",
              "</div>\n",
              "      <button class=\"colab-df-convert\" onclick=\"convertToInteractive('df-41518856-bd54-4d6e-adfb-48c06e858f2f')\"\n",
              "              title=\"Convert this dataframe to an interactive table.\"\n",
              "              style=\"display:none;\">\n",
              "        \n",
              "  <svg xmlns=\"http://www.w3.org/2000/svg\" height=\"24px\"viewBox=\"0 0 24 24\"\n",
              "       width=\"24px\">\n",
              "    <path d=\"M0 0h24v24H0V0z\" fill=\"none\"/>\n",
              "    <path d=\"M18.56 5.44l.94 2.06.94-2.06 2.06-.94-2.06-.94-.94-2.06-.94 2.06-2.06.94zm-11 1L8.5 8.5l.94-2.06 2.06-.94-2.06-.94L8.5 2.5l-.94 2.06-2.06.94zm10 10l.94 2.06.94-2.06 2.06-.94-2.06-.94-.94-2.06-.94 2.06-2.06.94z\"/><path d=\"M17.41 7.96l-1.37-1.37c-.4-.4-.92-.59-1.43-.59-.52 0-1.04.2-1.43.59L10.3 9.45l-7.72 7.72c-.78.78-.78 2.05 0 2.83L4 21.41c.39.39.9.59 1.41.59.51 0 1.02-.2 1.41-.59l7.78-7.78 2.81-2.81c.8-.78.8-2.07 0-2.86zM5.41 20L4 18.59l7.72-7.72 1.47 1.35L5.41 20z\"/>\n",
              "  </svg>\n",
              "      </button>\n",
              "      \n",
              "  <style>\n",
              "    .colab-df-container {\n",
              "      display:flex;\n",
              "      flex-wrap:wrap;\n",
              "      gap: 12px;\n",
              "    }\n",
              "\n",
              "    .colab-df-convert {\n",
              "      background-color: #E8F0FE;\n",
              "      border: none;\n",
              "      border-radius: 50%;\n",
              "      cursor: pointer;\n",
              "      display: none;\n",
              "      fill: #1967D2;\n",
              "      height: 32px;\n",
              "      padding: 0 0 0 0;\n",
              "      width: 32px;\n",
              "    }\n",
              "\n",
              "    .colab-df-convert:hover {\n",
              "      background-color: #E2EBFA;\n",
              "      box-shadow: 0px 1px 2px rgba(60, 64, 67, 0.3), 0px 1px 3px 1px rgba(60, 64, 67, 0.15);\n",
              "      fill: #174EA6;\n",
              "    }\n",
              "\n",
              "    [theme=dark] .colab-df-convert {\n",
              "      background-color: #3B4455;\n",
              "      fill: #D2E3FC;\n",
              "    }\n",
              "\n",
              "    [theme=dark] .colab-df-convert:hover {\n",
              "      background-color: #434B5C;\n",
              "      box-shadow: 0px 1px 3px 1px rgba(0, 0, 0, 0.15);\n",
              "      filter: drop-shadow(0px 1px 2px rgba(0, 0, 0, 0.3));\n",
              "      fill: #FFFFFF;\n",
              "    }\n",
              "  </style>\n",
              "\n",
              "      <script>\n",
              "        const buttonEl =\n",
              "          document.querySelector('#df-41518856-bd54-4d6e-adfb-48c06e858f2f button.colab-df-convert');\n",
              "        buttonEl.style.display =\n",
              "          google.colab.kernel.accessAllowed ? 'block' : 'none';\n",
              "\n",
              "        async function convertToInteractive(key) {\n",
              "          const element = document.querySelector('#df-41518856-bd54-4d6e-adfb-48c06e858f2f');\n",
              "          const dataTable =\n",
              "            await google.colab.kernel.invokeFunction('convertToInteractive',\n",
              "                                                     [key], {});\n",
              "          if (!dataTable) return;\n",
              "\n",
              "          const docLinkHtml = 'Like what you see? Visit the ' +\n",
              "            '<a target=\"_blank\" href=https://colab.research.google.com/notebooks/data_table.ipynb>data table notebook</a>'\n",
              "            + ' to learn more about interactive tables.';\n",
              "          element.innerHTML = '';\n",
              "          dataTable['output_type'] = 'display_data';\n",
              "          await google.colab.output.renderOutput(dataTable, element);\n",
              "          const docLink = document.createElement('div');\n",
              "          docLink.innerHTML = docLinkHtml;\n",
              "          element.appendChild(docLink);\n",
              "        }\n",
              "      </script>\n",
              "    </div>\n",
              "  </div>\n",
              "  "
            ]
          },
          "metadata": {},
          "execution_count": 4
        }
      ],
      "source": [
        "df = pd.merge(data, datalabels, on='id')\n",
        "df"
      ]
    },
    {
      "cell_type": "markdown",
      "source": [
        "#### *Data Cleaning*\n",
        "* *The original dataframe contained duplicated texts with unique labels associated with them.*\n",
        "\n",
        "* *To address this, I grouped the dataframe based on the texts and aggregated the labels.*\n",
        "\n",
        "* *This allowed to create a new dataframe with unique text values and their corresponding aggregated labels.*\n",
        "\n",
        "* *Initially, the original dataframe had 15 unique labels. However, due to the duplication of texts, the new dataframe may have additional unique labels.*\n",
        "\n",
        "* *The IDs associated with the texts were not necessary for building the model, so they were not included in the new dataframe.*\n",
        "> *The resulting dataframe would have unique texts, but the labels might not be unique.*"
      ],
      "metadata": {
        "id": "VI9xZvh5bmj1"
      }
    },
    {
      "cell_type": "code",
      "source": [
        "df_grouped = df.groupby('text').agg({'id': list, 'label': lambda x: ', '.join(set(x))}).reset_index()\n",
        "df_grouped['labels'] = df_grouped['label']\n",
        "final_df = df_grouped[['text', 'labels']]"
      ],
      "metadata": {
        "id": "9np_HH-8Mcvf"
      },
      "execution_count": null,
      "outputs": []
    },
    {
      "cell_type": "code",
      "source": [
        "final_df"
      ],
      "metadata": {
        "colab": {
          "base_uri": "https://localhost:8080/",
          "height": 423
        },
        "id": "CKXPwRk_MeYi",
        "outputId": "69acae5d-1348-47c0-f797-f6f70149a6b3"
      },
      "execution_count": null,
      "outputs": [
        {
          "output_type": "execute_result",
          "data": {
            "text/plain": [
              "                                                    text  \\\n",
              "0      \"Constructor\" Prelude door locks feature moder...   \n",
              "1      \"Constructor\" Prelude door locks feature moder...   \n",
              "2      \"Constructor\" offers premium classic style doo...   \n",
              "3      \"Constructor\" offers premium classic style doo...   \n",
              "4      \"Constructor\" offers premium classic style doo...   \n",
              "...                                                  ...   \n",
              "41564  the great outdoors by Minka Lavery Irvington M...   \n",
              "41565  the great outdoors by Minka Lavery Irvington M...   \n",
              "41566  the great outdoors by Minka Lavery Irvington M...   \n",
              "41567  the great outdoors by Minka Lavery Irvington M...   \n",
              "41568  the great outdoors by Minka Lavery Irvington M...   \n",
              "\n",
              "                                       labels  \n",
              "0                   Hardware Included, Finish  \n",
              "1                   Hardware Included, Finish  \n",
              "2                   Hardware Included, Finish  \n",
              "3                   Hardware Included, Finish  \n",
              "4                   Hardware Included, Finish  \n",
              "...                                       ...  \n",
              "41564  Wattage (watts), ENERGY STAR Certified  \n",
              "41565  Wattage (watts), ENERGY STAR Certified  \n",
              "41566  Wattage (watts), ENERGY STAR Certified  \n",
              "41567  Wattage (watts), ENERGY STAR Certified  \n",
              "41568  Wattage (watts), ENERGY STAR Certified  \n",
              "\n",
              "[41569 rows x 2 columns]"
            ],
            "text/html": [
              "\n",
              "  <div id=\"df-6aa8a6c2-e243-4f04-a8fb-d04210b49dd4\">\n",
              "    <div class=\"colab-df-container\">\n",
              "      <div>\n",
              "<style scoped>\n",
              "    .dataframe tbody tr th:only-of-type {\n",
              "        vertical-align: middle;\n",
              "    }\n",
              "\n",
              "    .dataframe tbody tr th {\n",
              "        vertical-align: top;\n",
              "    }\n",
              "\n",
              "    .dataframe thead th {\n",
              "        text-align: right;\n",
              "    }\n",
              "</style>\n",
              "<table border=\"1\" class=\"dataframe\">\n",
              "  <thead>\n",
              "    <tr style=\"text-align: right;\">\n",
              "      <th></th>\n",
              "      <th>text</th>\n",
              "      <th>labels</th>\n",
              "    </tr>\n",
              "  </thead>\n",
              "  <tbody>\n",
              "    <tr>\n",
              "      <th>0</th>\n",
              "      <td>\"Constructor\" Prelude door locks feature moder...</td>\n",
              "      <td>Hardware Included, Finish</td>\n",
              "    </tr>\n",
              "    <tr>\n",
              "      <th>1</th>\n",
              "      <td>\"Constructor\" Prelude door locks feature moder...</td>\n",
              "      <td>Hardware Included, Finish</td>\n",
              "    </tr>\n",
              "    <tr>\n",
              "      <th>2</th>\n",
              "      <td>\"Constructor\" offers premium classic style doo...</td>\n",
              "      <td>Hardware Included, Finish</td>\n",
              "    </tr>\n",
              "    <tr>\n",
              "      <th>3</th>\n",
              "      <td>\"Constructor\" offers premium classic style doo...</td>\n",
              "      <td>Hardware Included, Finish</td>\n",
              "    </tr>\n",
              "    <tr>\n",
              "      <th>4</th>\n",
              "      <td>\"Constructor\" offers premium classic style doo...</td>\n",
              "      <td>Hardware Included, Finish</td>\n",
              "    </tr>\n",
              "    <tr>\n",
              "      <th>...</th>\n",
              "      <td>...</td>\n",
              "      <td>...</td>\n",
              "    </tr>\n",
              "    <tr>\n",
              "      <th>41564</th>\n",
              "      <td>the great outdoors by Minka Lavery Irvington M...</td>\n",
              "      <td>Wattage (watts), ENERGY STAR Certified</td>\n",
              "    </tr>\n",
              "    <tr>\n",
              "      <th>41565</th>\n",
              "      <td>the great outdoors by Minka Lavery Irvington M...</td>\n",
              "      <td>Wattage (watts), ENERGY STAR Certified</td>\n",
              "    </tr>\n",
              "    <tr>\n",
              "      <th>41566</th>\n",
              "      <td>the great outdoors by Minka Lavery Irvington M...</td>\n",
              "      <td>Wattage (watts), ENERGY STAR Certified</td>\n",
              "    </tr>\n",
              "    <tr>\n",
              "      <th>41567</th>\n",
              "      <td>the great outdoors by Minka Lavery Irvington M...</td>\n",
              "      <td>Wattage (watts), ENERGY STAR Certified</td>\n",
              "    </tr>\n",
              "    <tr>\n",
              "      <th>41568</th>\n",
              "      <td>the great outdoors by Minka Lavery Irvington M...</td>\n",
              "      <td>Wattage (watts), ENERGY STAR Certified</td>\n",
              "    </tr>\n",
              "  </tbody>\n",
              "</table>\n",
              "<p>41569 rows × 2 columns</p>\n",
              "</div>\n",
              "      <button class=\"colab-df-convert\" onclick=\"convertToInteractive('df-6aa8a6c2-e243-4f04-a8fb-d04210b49dd4')\"\n",
              "              title=\"Convert this dataframe to an interactive table.\"\n",
              "              style=\"display:none;\">\n",
              "        \n",
              "  <svg xmlns=\"http://www.w3.org/2000/svg\" height=\"24px\"viewBox=\"0 0 24 24\"\n",
              "       width=\"24px\">\n",
              "    <path d=\"M0 0h24v24H0V0z\" fill=\"none\"/>\n",
              "    <path d=\"M18.56 5.44l.94 2.06.94-2.06 2.06-.94-2.06-.94-.94-2.06-.94 2.06-2.06.94zm-11 1L8.5 8.5l.94-2.06 2.06-.94-2.06-.94L8.5 2.5l-.94 2.06-2.06.94zm10 10l.94 2.06.94-2.06 2.06-.94-2.06-.94-.94-2.06-.94 2.06-2.06.94z\"/><path d=\"M17.41 7.96l-1.37-1.37c-.4-.4-.92-.59-1.43-.59-.52 0-1.04.2-1.43.59L10.3 9.45l-7.72 7.72c-.78.78-.78 2.05 0 2.83L4 21.41c.39.39.9.59 1.41.59.51 0 1.02-.2 1.41-.59l7.78-7.78 2.81-2.81c.8-.78.8-2.07 0-2.86zM5.41 20L4 18.59l7.72-7.72 1.47 1.35L5.41 20z\"/>\n",
              "  </svg>\n",
              "      </button>\n",
              "      \n",
              "  <style>\n",
              "    .colab-df-container {\n",
              "      display:flex;\n",
              "      flex-wrap:wrap;\n",
              "      gap: 12px;\n",
              "    }\n",
              "\n",
              "    .colab-df-convert {\n",
              "      background-color: #E8F0FE;\n",
              "      border: none;\n",
              "      border-radius: 50%;\n",
              "      cursor: pointer;\n",
              "      display: none;\n",
              "      fill: #1967D2;\n",
              "      height: 32px;\n",
              "      padding: 0 0 0 0;\n",
              "      width: 32px;\n",
              "    }\n",
              "\n",
              "    .colab-df-convert:hover {\n",
              "      background-color: #E2EBFA;\n",
              "      box-shadow: 0px 1px 2px rgba(60, 64, 67, 0.3), 0px 1px 3px 1px rgba(60, 64, 67, 0.15);\n",
              "      fill: #174EA6;\n",
              "    }\n",
              "\n",
              "    [theme=dark] .colab-df-convert {\n",
              "      background-color: #3B4455;\n",
              "      fill: #D2E3FC;\n",
              "    }\n",
              "\n",
              "    [theme=dark] .colab-df-convert:hover {\n",
              "      background-color: #434B5C;\n",
              "      box-shadow: 0px 1px 3px 1px rgba(0, 0, 0, 0.15);\n",
              "      filter: drop-shadow(0px 1px 2px rgba(0, 0, 0, 0.3));\n",
              "      fill: #FFFFFF;\n",
              "    }\n",
              "  </style>\n",
              "\n",
              "      <script>\n",
              "        const buttonEl =\n",
              "          document.querySelector('#df-6aa8a6c2-e243-4f04-a8fb-d04210b49dd4 button.colab-df-convert');\n",
              "        buttonEl.style.display =\n",
              "          google.colab.kernel.accessAllowed ? 'block' : 'none';\n",
              "\n",
              "        async function convertToInteractive(key) {\n",
              "          const element = document.querySelector('#df-6aa8a6c2-e243-4f04-a8fb-d04210b49dd4');\n",
              "          const dataTable =\n",
              "            await google.colab.kernel.invokeFunction('convertToInteractive',\n",
              "                                                     [key], {});\n",
              "          if (!dataTable) return;\n",
              "\n",
              "          const docLinkHtml = 'Like what you see? Visit the ' +\n",
              "            '<a target=\"_blank\" href=https://colab.research.google.com/notebooks/data_table.ipynb>data table notebook</a>'\n",
              "            + ' to learn more about interactive tables.';\n",
              "          element.innerHTML = '';\n",
              "          dataTable['output_type'] = 'display_data';\n",
              "          await google.colab.output.renderOutput(dataTable, element);\n",
              "          const docLink = document.createElement('div');\n",
              "          docLink.innerHTML = docLinkHtml;\n",
              "          element.appendChild(docLink);\n",
              "        }\n",
              "      </script>\n",
              "    </div>\n",
              "  </div>\n",
              "  "
            ]
          },
          "metadata": {},
          "execution_count": 6
        }
      ]
    },
    {
      "cell_type": "code",
      "execution_count": null,
      "metadata": {
        "colab": {
          "base_uri": "https://localhost:8080/"
        },
        "id": "WuX-MQTsSXMQ",
        "outputId": "bf7b500e-fae7-4aa6-944d-e264c223a162"
      },
      "outputs": [
        {
          "output_type": "stream",
          "name": "stdout",
          "text": [
            "<class 'pandas.core.frame.DataFrame'>\n",
            "RangeIndex: 41569 entries, 0 to 41568\n",
            "Data columns (total 2 columns):\n",
            " #   Column  Non-Null Count  Dtype \n",
            "---  ------  --------------  ----- \n",
            " 0   text    41569 non-null  object\n",
            " 1   labels  41569 non-null  object\n",
            "dtypes: object(2)\n",
            "memory usage: 649.6+ KB\n"
          ]
        }
      ],
      "source": [
        "final_df.info()"
      ]
    },
    {
      "cell_type": "markdown",
      "metadata": {
        "id": "6DlAR7qVGEj7"
      },
      "source": [
        "### *Exploratory Data Analysis*"
      ]
    },
    {
      "cell_type": "markdown",
      "metadata": {
        "id": "24v70qx_Obxr"
      },
      "source": [
        "#### *Analyzing `Label` Column*"
      ]
    },
    {
      "cell_type": "code",
      "source": [
        "label_counts = final_df['labels'].value_counts()\n",
        "unique_labels = len(label_counts)\n",
        "print(\"Number of unique labels:\", unique_labels)"
      ],
      "metadata": {
        "colab": {
          "base_uri": "https://localhost:8080/"
        },
        "id": "IbeP39eFS7Dz",
        "outputId": "40c8861b-1af4-4eac-facc-5ef3d4fadb42"
      },
      "execution_count": null,
      "outputs": [
        {
          "output_type": "stream",
          "name": "stdout",
          "text": [
            "Number of unique labels: 225\n"
          ]
        }
      ]
    },
    {
      "cell_type": "code",
      "source": [
        "label_counts"
      ],
      "metadata": {
        "colab": {
          "base_uri": "https://localhost:8080/"
        },
        "id": "yX19ZeLESSkD",
        "outputId": "fa7e4a3d-6aef-4b71-a768-c8bb6142da51"
      },
      "execution_count": null,
      "outputs": [
        {
          "output_type": "execute_result",
          "data": {
            "text/plain": [
              "Tools Product Type                                                                  3369\n",
              "Package Quantity                                                                    2303\n",
              "Color                                                                               2157\n",
              "Assembly Required                                                                   2014\n",
              "Commercial / Residential, Indoor/Outdoor, Flooring Product Type                     1755\n",
              "                                                                                    ... \n",
              "Color, Indoor/Outdoor, ENERGY STAR Certified                                           1\n",
              "Commercial / Residential, Indoor/Outdoor, ENERGY STAR Certified                        1\n",
              "Voltage (volts), Commercial / Residential, Indoor/Outdoor, ENERGY STAR Certified       1\n",
              "Package Quantity, Included, Shape                                                      1\n",
              "Assembly Required, Color, Indoor/Outdoor, Hardware Included                            1\n",
              "Name: labels, Length: 225, dtype: int64"
            ]
          },
          "metadata": {},
          "execution_count": 9
        }
      ]
    },
    {
      "cell_type": "code",
      "source": [
        "highest_count = label_counts.max()\n",
        "lowest_count = label_counts.min()\n",
        "average_count = label_counts.mean()\n",
        "\n",
        "print(\"Highest Label Count:\", highest_count)\n",
        "print(\"Lowest Label Count:\", lowest_count)\n",
        "print(\"Average Label Count:\", average_count)"
      ],
      "metadata": {
        "colab": {
          "base_uri": "https://localhost:8080/"
        },
        "id": "AvRZRA7tZ5_y",
        "outputId": "079e8685-1ff1-4242-9e7d-cfdb8310ba7d"
      },
      "execution_count": null,
      "outputs": [
        {
          "output_type": "stream",
          "name": "stdout",
          "text": [
            "Highest Label Count: 3369\n",
            "Lowest Label Count: 1\n",
            "Average Label Count: 184.7511111111111\n"
          ]
        }
      ]
    },
    {
      "cell_type": "code",
      "source": [
        "quartiles = np.percentile(label_counts, [25, 50, 75])\n",
        "iqr_25 = quartiles[0]\n",
        "iqr_50 = quartiles[1]\n",
        "iqr_75 = quartiles[2]\n",
        "\n",
        "print(\"IQR at 25% :\", iqr_25)\n",
        "print(\"IQR 50% :\", iqr_50)\n",
        "print(\"IQR at 75% :\", iqr_75)"
      ],
      "metadata": {
        "colab": {
          "base_uri": "https://localhost:8080/"
        },
        "id": "PJuAHs5cgdDQ",
        "outputId": "5a2ea07c-b580-41e2-c653-f2c3fe583052"
      },
      "execution_count": null,
      "outputs": [
        {
          "output_type": "stream",
          "name": "stdout",
          "text": [
            "IQR at 25% : 2.0\n",
            "IQR 50% : 15.0\n",
            "IQR at 75% : 126.0\n"
          ]
        }
      ]
    },
    {
      "cell_type": "markdown",
      "source": [
        "* *The label counts in the data show a significant imbalance. On average, each label appears around 184 times, but looking at the middle value (50th percentile) of the label counts, it drops down to just 15. This suggests that a few labels are appearing much more frequently than others.*\n",
        "* *The highest label count reaches 3369, which is considerably higher than the 75th percentile value of 126. This wide range between the highest count and the upper quartile indicates a significant imbalance in label distribution.*"
      ],
      "metadata": {
        "id": "H1WqRSU-g1OT"
      }
    },
    {
      "cell_type": "code",
      "source": [
        "label_counts"
      ],
      "metadata": {
        "colab": {
          "base_uri": "https://localhost:8080/"
        },
        "id": "h1J0EgPMUKF_",
        "outputId": "10806b83-0a55-40d0-ebbd-a97fa5ed2e3e"
      },
      "execution_count": null,
      "outputs": [
        {
          "output_type": "execute_result",
          "data": {
            "text/plain": [
              "Tools Product Type                                                                  3369\n",
              "Package Quantity                                                                    2303\n",
              "Color                                                                               2157\n",
              "Assembly Required                                                                   2014\n",
              "Commercial / Residential, Indoor/Outdoor, Flooring Product Type                     1755\n",
              "                                                                                    ... \n",
              "Color, Indoor/Outdoor, ENERGY STAR Certified                                           1\n",
              "Commercial / Residential, Indoor/Outdoor, ENERGY STAR Certified                        1\n",
              "Voltage (volts), Commercial / Residential, Indoor/Outdoor, ENERGY STAR Certified       1\n",
              "Package Quantity, Included, Shape                                                      1\n",
              "Assembly Required, Color, Indoor/Outdoor, Hardware Included                            1\n",
              "Name: labels, Length: 225, dtype: int64"
            ]
          },
          "metadata": {},
          "execution_count": 12
        }
      ]
    },
    {
      "cell_type": "code",
      "execution_count": null,
      "metadata": {
        "colab": {
          "base_uri": "https://localhost:8080/",
          "height": 684
        },
        "id": "TPRNJEKuQtQ6",
        "outputId": "fccc90c6-c5fb-4b83-e59f-b461d0f03580"
      },
      "outputs": [
        {
          "output_type": "display_data",
          "data": {
            "text/plain": [
              "<Figure size 1300x1200 with 2 Axes>"
            ],
            "image/png": "[encoded data removed]"
          },
          "metadata": {}
        }
      ],
      "source": [
        "top_n = 20\n",
        "\n",
        "top_frequent_labels = label_counts.sort_values(ascending=False).head(top_n)\n",
        "top_least_frequent_labels = label_counts.sort_values(ascending=True).head(top_n)\n",
        "\n",
        "fig, (ax1, ax2) = plt.subplots(2, 1, figsize=(13, 12))\n",
        "\n",
        "colors = sns.color_palette('Set3', n_colors=top_n)\n",
        "\n",
        "sns.barplot(y=top_frequent_labels.index, x=top_frequent_labels, ax=ax1, palette=colors)\n",
        "ax1.set_title(f'Top {top_n} Most Frequent Labels')\n",
        "ax1.set_xlabel('Frequency')\n",
        "\n",
        "sns.barplot(y=top_least_frequent_labels.index, x=top_least_frequent_labels, ax=ax2, palette=colors)\n",
        "ax2.set_title(f'Top {top_n} Least Frequent Labels')\n",
        "ax2.set_xlabel('Frequency')\n",
        "\n",
        "plt.subplots_adjust(hspace=0.3)\n"
      ]
    },
    {
      "cell_type": "markdown",
      "source": [
        "* The label `Tools Product Type` is the most repeated label, appearing over 3400 times in the dataset.\n",
        "* Following closely are the labels \"Package Quantity\" and \"Color,\" which are repeated around 2300-2400 times.\n",
        "* The top 15 most frequent labels consist mainly 11 out of 15 original labels, with only 4 newer aggregated labels which resulted from combining multiple labels from the original set.\n",
        "* This could be because 11 out of 15 original labels, had duplicated texts associated with them, resulting in a larger number of occurrences for those labels.\n",
        "* In contrast, the least frequent labels are exclusively composed of these newly aggregated labels.\n",
        "* Since these labels combine different variations and categories from the original set, their occurrence is limited to just one instance.\n"
      ],
      "metadata": {
        "id": "sgsG6cJzkUhk"
      }
    },
    {
      "cell_type": "markdown",
      "metadata": {
        "id": "3LVqPUotQ9z_"
      },
      "source": [
        "#### *Analyzing `Text` Column*"
      ]
    },
    {
      "cell_type": "code",
      "source": [
        "dff = final_df.groupby('labels')['text'].apply(list).reset_index(name='Texts')\n",
        "dff['Paragraphs'] = dff['Texts'].apply(lambda x: len(x))\n",
        "dff['Words'] = dff['Texts'].apply(lambda x: len(' '.join(x).split()))\n",
        "dff"
      ],
      "metadata": {
        "colab": {
          "base_uri": "https://localhost:8080/",
          "height": 423
        },
        "id": "X1m1Si4Iwdzl",
        "outputId": "90861e00-3795-44b3-fe2a-15ebdb22a327"
      },
      "execution_count": null,
      "outputs": [
        {
          "output_type": "execute_result",
          "data": {
            "text/plain": [
              "                                                labels  \\\n",
              "0                                    Assembly Required   \n",
              "1                             Assembly Required, Color   \n",
              "2                     Assembly Required, Color, Finish   \n",
              "3    Assembly Required, Color, Finish, Hardware Inc...   \n",
              "4              Assembly Required, Color, Finish, Shape   \n",
              "..                                                 ...   \n",
              "220             Wattage (watts), ENERGY STAR Certified   \n",
              "221  Wattage (watts), ENERGY STAR Certified, Includ...   \n",
              "222  Wattage (watts), Included, Shape, Voltage (vol...   \n",
              "223  Wattage (watts), Included, Voltage (volts), Shape   \n",
              "224  Wattage (watts), Indoor/Outdoor, Features, Vol...   \n",
              "\n",
              "                                                 Texts  Paragraphs   Words  \n",
              "0    [3-Piece Bistro Set Includes Outdoor Dining Ta...        2014  313561  \n",
              "1    [A fun way to bake individual deep dish pizzas...         251   31838  \n",
              "2    [Add classic elegance to your bedroom with thi...          19    1950  \n",
              "3    [This multi-purpose boot tray is as versatile ...           2     399  \n",
              "4    [4000 series deluxe mail slots are made of bra...           4     416  \n",
              "..                                                 ...         ...     ...  \n",
              "220  [100 watt metal halide outdoor area light with...         988  105390  \n",
              "221  [The cornerstone of the Lenor Collection is qu...           1      86  \n",
              "222  [American Standard Whirlpools, air baths and c...           1     101  \n",
              "223  [A one-of-a-kind Whirlpool for 2. This unique,...         135   21410  \n",
              "224  [Bring warmth and comfort to your home with th...           8     861  \n",
              "\n",
              "[225 rows x 4 columns]"
            ],
            "text/html": [
              "\n",
              "  <div id=\"df-034d94c0-1575-4514-a856-a83fb50222ed\">\n",
              "    <div class=\"colab-df-container\">\n",
              "      <div>\n",
              "<style scoped>\n",
              "    .dataframe tbody tr th:only-of-type {\n",
              "        vertical-align: middle;\n",
              "    }\n",
              "\n",
              "    .dataframe tbody tr th {\n",
              "        vertical-align: top;\n",
              "    }\n",
              "\n",
              "    .dataframe thead th {\n",
              "        text-align: right;\n",
              "    }\n",
              "</style>\n",
              "<table border=\"1\" class=\"dataframe\">\n",
              "  <thead>\n",
              "    <tr style=\"text-align: right;\">\n",
              "      <th></th>\n",
              "      <th>labels</th>\n",
              "      <th>Texts</th>\n",
              "      <th>Paragraphs</th>\n",
              "      <th>Words</th>\n",
              "    </tr>\n",
              "  </thead>\n",
              "  <tbody>\n",
              "    <tr>\n",
              "      <th>0</th>\n",
              "      <td>Assembly Required</td>\n",
              "      <td>[3-Piece Bistro Set Includes Outdoor Dining Ta...</td>\n",
              "      <td>2014</td>\n",
              "      <td>313561</td>\n",
              "    </tr>\n",
              "    <tr>\n",
              "      <th>1</th>\n",
              "      <td>Assembly Required, Color</td>\n",
              "      <td>[A fun way to bake individual deep dish pizzas...</td>\n",
              "      <td>251</td>\n",
              "      <td>31838</td>\n",
              "    </tr>\n",
              "    <tr>\n",
              "      <th>2</th>\n",
              "      <td>Assembly Required, Color, Finish</td>\n",
              "      <td>[Add classic elegance to your bedroom with thi...</td>\n",
              "      <td>19</td>\n",
              "      <td>1950</td>\n",
              "    </tr>\n",
              "    <tr>\n",
              "      <th>3</th>\n",
              "      <td>Assembly Required, Color, Finish, Hardware Inc...</td>\n",
              "      <td>[This multi-purpose boot tray is as versatile ...</td>\n",
              "      <td>2</td>\n",
              "      <td>399</td>\n",
              "    </tr>\n",
              "    <tr>\n",
              "      <th>4</th>\n",
              "      <td>Assembly Required, Color, Finish, Shape</td>\n",
              "      <td>[4000 series deluxe mail slots are made of bra...</td>\n",
              "      <td>4</td>\n",
              "      <td>416</td>\n",
              "    </tr>\n",
              "    <tr>\n",
              "      <th>...</th>\n",
              "      <td>...</td>\n",
              "      <td>...</td>\n",
              "      <td>...</td>\n",
              "      <td>...</td>\n",
              "    </tr>\n",
              "    <tr>\n",
              "      <th>220</th>\n",
              "      <td>Wattage (watts), ENERGY STAR Certified</td>\n",
              "      <td>[100 watt metal halide outdoor area light with...</td>\n",
              "      <td>988</td>\n",
              "      <td>105390</td>\n",
              "    </tr>\n",
              "    <tr>\n",
              "      <th>221</th>\n",
              "      <td>Wattage (watts), ENERGY STAR Certified, Includ...</td>\n",
              "      <td>[The cornerstone of the Lenor Collection is qu...</td>\n",
              "      <td>1</td>\n",
              "      <td>86</td>\n",
              "    </tr>\n",
              "    <tr>\n",
              "      <th>222</th>\n",
              "      <td>Wattage (watts), Included, Shape, Voltage (vol...</td>\n",
              "      <td>[American Standard Whirlpools, air baths and c...</td>\n",
              "      <td>1</td>\n",
              "      <td>101</td>\n",
              "    </tr>\n",
              "    <tr>\n",
              "      <th>223</th>\n",
              "      <td>Wattage (watts), Included, Voltage (volts), Shape</td>\n",
              "      <td>[A one-of-a-kind Whirlpool for 2. This unique,...</td>\n",
              "      <td>135</td>\n",
              "      <td>21410</td>\n",
              "    </tr>\n",
              "    <tr>\n",
              "      <th>224</th>\n",
              "      <td>Wattage (watts), Indoor/Outdoor, Features, Vol...</td>\n",
              "      <td>[Bring warmth and comfort to your home with th...</td>\n",
              "      <td>8</td>\n",
              "      <td>861</td>\n",
              "    </tr>\n",
              "  </tbody>\n",
              "</table>\n",
              "<p>225 rows × 4 columns</p>\n",
              "</div>\n",
              "      <button class=\"colab-df-convert\" onclick=\"convertToInteractive('df-034d94c0-1575-4514-a856-a83fb50222ed')\"\n",
              "              title=\"Convert this dataframe to an interactive table.\"\n",
              "              style=\"display:none;\">\n",
              "        \n",
              "  <svg xmlns=\"http://www.w3.org/2000/svg\" height=\"24px\"viewBox=\"0 0 24 24\"\n",
              "       width=\"24px\">\n",
              "    <path d=\"M0 0h24v24H0V0z\" fill=\"none\"/>\n",
              "    <path d=\"M18.56 5.44l.94 2.06.94-2.06 2.06-.94-2.06-.94-.94-2.06-.94 2.06-2.06.94zm-11 1L8.5 8.5l.94-2.06 2.06-.94-2.06-.94L8.5 2.5l-.94 2.06-2.06.94zm10 10l.94 2.06.94-2.06 2.06-.94-2.06-.94-.94-2.06-.94 2.06-2.06.94z\"/><path d=\"M17.41 7.96l-1.37-1.37c-.4-.4-.92-.59-1.43-.59-.52 0-1.04.2-1.43.59L10.3 9.45l-7.72 7.72c-.78.78-.78 2.05 0 2.83L4 21.41c.39.39.9.59 1.41.59.51 0 1.02-.2 1.41-.59l7.78-7.78 2.81-2.81c.8-.78.8-2.07 0-2.86zM5.41 20L4 18.59l7.72-7.72 1.47 1.35L5.41 20z\"/>\n",
              "  </svg>\n",
              "      </button>\n",
              "      \n",
              "  <style>\n",
              "    .colab-df-container {\n",
              "      display:flex;\n",
              "      flex-wrap:wrap;\n",
              "      gap: 12px;\n",
              "    }\n",
              "\n",
              "    .colab-df-convert {\n",
              "      background-color: #E8F0FE;\n",
              "      border: none;\n",
              "      border-radius: 50%;\n",
              "      cursor: pointer;\n",
              "      display: none;\n",
              "      fill: #1967D2;\n",
              "      height: 32px;\n",
              "      padding: 0 0 0 0;\n",
              "      width: 32px;\n",
              "    }\n",
              "\n",
              "    .colab-df-convert:hover {\n",
              "      background-color: #E2EBFA;\n",
              "      box-shadow: 0px 1px 2px rgba(60, 64, 67, 0.3), 0px 1px 3px 1px rgba(60, 64, 67, 0.15);\n",
              "      fill: #174EA6;\n",
              "    }\n",
              "\n",
              "    [theme=dark] .colab-df-convert {\n",
              "      background-color: #3B4455;\n",
              "      fill: #D2E3FC;\n",
              "    }\n",
              "\n",
              "    [theme=dark] .colab-df-convert:hover {\n",
              "      background-color: #434B5C;\n",
              "      box-shadow: 0px 1px 3px 1px rgba(0, 0, 0, 0.15);\n",
              "      filter: drop-shadow(0px 1px 2px rgba(0, 0, 0, 0.3));\n",
              "      fill: #FFFFFF;\n",
              "    }\n",
              "  </style>\n",
              "\n",
              "      <script>\n",
              "        const buttonEl =\n",
              "          document.querySelector('#df-034d94c0-1575-4514-a856-a83fb50222ed button.colab-df-convert');\n",
              "        buttonEl.style.display =\n",
              "          google.colab.kernel.accessAllowed ? 'block' : 'none';\n",
              "\n",
              "        async function convertToInteractive(key) {\n",
              "          const element = document.querySelector('#df-034d94c0-1575-4514-a856-a83fb50222ed');\n",
              "          const dataTable =\n",
              "            await google.colab.kernel.invokeFunction('convertToInteractive',\n",
              "                                                     [key], {});\n",
              "          if (!dataTable) return;\n",
              "\n",
              "          const docLinkHtml = 'Like what you see? Visit the ' +\n",
              "            '<a target=\"_blank\" href=https://colab.research.google.com/notebooks/data_table.ipynb>data table notebook</a>'\n",
              "            + ' to learn more about interactive tables.';\n",
              "          element.innerHTML = '';\n",
              "          dataTable['output_type'] = 'display_data';\n",
              "          await google.colab.output.renderOutput(dataTable, element);\n",
              "          const docLink = document.createElement('div');\n",
              "          docLink.innerHTML = docLinkHtml;\n",
              "          element.appendChild(docLink);\n",
              "        }\n",
              "      </script>\n",
              "    </div>\n",
              "  </div>\n",
              "  "
            ]
          },
          "metadata": {},
          "execution_count": 14
        }
      ]
    },
    {
      "cell_type": "markdown",
      "source": [
        "* *The `Texts` column shows the list of all the texts grouped by their corresponding labels.*\n",
        "\n",
        "* *The `Paragraphs` column represents the count of individual text for each label.*\n",
        "\n",
        "* *The `Words` column displays the count of words for each label.*\n",
        "\n",
        "  > *By using these columns, we can understand how many texts (paragraphs) and words are associated with each label in the dataset.*"
      ],
      "metadata": {
        "id": "ZMwGiqJitFpr"
      }
    },
    {
      "cell_type": "code",
      "source": [
        "top_n = 20\n",
        "\n",
        "top_labels = label_counts.sort_values(ascending=False)[:top_n]\n",
        "total_occurrences = top_labels.sum()\n",
        "print(\"Total Occurrences of Top 20 Labels:\", total_occurrences)\n",
        "\n",
        "total_occurrences = label_counts.sum()\n",
        "print(\"Total Occurrences of All the 225 Labels:\", total_occurrences)"
      ],
      "metadata": {
        "colab": {
          "base_uri": "https://localhost:8080/"
        },
        "id": "N6HWP8lQ4-Dg",
        "outputId": "043f1d78-167b-40f9-ebf7-b460508bdb49"
      },
      "execution_count": null,
      "outputs": [
        {
          "output_type": "stream",
          "name": "stdout",
          "text": [
            "Total Occurrences of Top 20 Labels: 27610\n",
            "Total Occurrences of All the 225 Labels: 41569\n"
          ]
        }
      ]
    },
    {
      "cell_type": "markdown",
      "source": [
        "\n",
        "* *Analyzing the top 20 labels, out of the total of 225, as they have a combined count of 27610, which accounts for about 66.43% of the total count of 41569.*"
      ],
      "metadata": {
        "id": "x6kYq5028STS"
      }
    },
    {
      "cell_type": "code",
      "source": [
        "top_20_labels = dff.nlargest(20, 'Paragraphs')\n",
        "\n",
        "fig, axes = plt.subplots(nrows=1, ncols=2, figsize=(13, 5))\n",
        "\n",
        "sns.histplot(top_20_labels['Paragraphs'], bins=20, color='orange', kde = True, ax=axes[0])\n",
        "axes[0].set_title('Paragraph Length for Top 20 Labels')\n",
        "axes[0].set_xlabel('Number of Paragraphs in Each Label')\n",
        "axes[0].set_ylabel(\"Label Count\")\n",
        "\n",
        "sns.histplot(top_20_labels['Words'], bins=20, color='green', kde = True, ax=axes[1])\n",
        "axes[1].set_title('Word Length for Top 20 Labels')\n",
        "axes[1].set_xlabel('Number of Words in Each Paragraph')\n",
        "axes[1].set_ylabel(\"Paragraph Count\")\n",
        "\n",
        "plt.tight_layout()"
      ],
      "metadata": {
        "colab": {
          "base_uri": "https://localhost:8080/",
          "height": 440
        },
        "id": "kgVQR4Wm966D",
        "outputId": "e0541f5d-b6e4-4c0c-90ea-1ba723626036"
      },
      "execution_count": null,
      "outputs": [
        {
          "output_type": "display_data",
          "data": {
            "text/plain": [
              "<Figure size 1300x500 with 2 Axes>"
            ],
            "image/png": "[encoded data removed]"
          },
          "metadata": {}
        }
      ]
    },
    {
      "cell_type": "markdown",
      "source": [
        "\n",
        "*Analysis of Top 20 Labels:*\n",
        "\n",
        "***Paragraph Length:***\n",
        "\n",
        "* 12 labels have 500-1200 paragraphs.\n",
        "* 7 labels have 1500-2250 paragraphs.\n",
        "* Only 1 label has 3500 paragraphs.\n",
        "\n",
        "***Word Length:***\n",
        "\n",
        "* 10 out of 20 labels have a word count of 50,000 to 150,000.\n",
        "* 5 labels have 200,000-250,000 words.\n",
        "* Only 3 out of 20 labels have 300,000-370,000 words."
      ],
      "metadata": {
        "id": "EKYY7qUz_VrI"
      }
    },
    {
      "cell_type": "code",
      "source": [
        "top_n = 200\n",
        "\n",
        "top_labels = label_counts.sort_values(ascending=True)[:top_n]\n",
        "total_occurrences = top_labels.sum()\n",
        "print(\"Total Occurrences of Top 200 Labels:\", total_occurrences)\n",
        "\n",
        "total_occurrences = label_counts.sum()\n",
        "print(\"Total Occurrences of All the 225 Labels:\", total_occurrences)"
      ],
      "metadata": {
        "colab": {
          "base_uri": "https://localhost:8080/"
        },
        "id": "cD0laKJsQYug",
        "outputId": "e1caca70-cba8-4dad-e350-2cffd11b49d7"
      },
      "execution_count": null,
      "outputs": [
        {
          "output_type": "stream",
          "name": "stdout",
          "text": [
            "Total Occurrences of Top 200 Labels: 10994\n",
            "Total Occurrences of All the 225 Labels: 41569\n"
          ]
        }
      ]
    },
    {
      "cell_type": "code",
      "source": [
        "least_100_labels = dff.nsmallest(200, 'Paragraphs')\n",
        "\n",
        "fig, (ax1, ax2) = plt.subplots(1, 2, figsize=(12, 6))\n",
        "\n",
        "sns.violinplot(y=least_100_labels['Paragraphs'], color='lightblue', ax=ax1)\n",
        "ax1.set_title('Paragraph Length for 200 Least Occurring Labels')\n",
        "ax1.set_ylabel('Number of Paragraphs')\n",
        "ax1.set_ylim(bottom=0)\n",
        "\n",
        "sns.violinplot(y=least_100_labels['Words'], color='lightpink', ax=ax2)\n",
        "ax2.set_title('Word Length for 200 Least Occurring Labels')\n",
        "ax2.set_ylabel('Number of Words')\n",
        "ax2.set_ylim(bottom=0)\n",
        "\n",
        "plt.tight_layout();"
      ],
      "metadata": {
        "colab": {
          "base_uri": "https://localhost:8080/",
          "height": 569
        },
        "id": "nCchdW_jJX6N",
        "outputId": "f59c0b21-9b78-4673-91b0-6d182623c8d5"
      },
      "execution_count": null,
      "outputs": [
        {
          "output_type": "display_data",
          "data": {
            "text/plain": [
              "<Figure size 1200x600 with 2 Axes>"
            ],
            "image/png": "[encoded data removed]"
          },
          "metadata": {}
        }
      ]
    },
    {
      "cell_type": "markdown",
      "source": [
        "##### *Analysis of Paragraph and Word Length for 200 Least Occurring Labels*\n",
        "\n",
        "\n",
        "***Paragraph Length***\n",
        " * *The majority of labels in this subset have less than 100 paragraphs*\n",
        " * *However, a small number of labels have a paragraph count ranging from 100 to 300.*\n",
        " * *The maximum count observed is 550, but these higher counts are extremely rare, with only 1 or 2 labels having such occurrences.*\n",
        "\n",
        "***Word Length***\n",
        "* *Majority of the labels among the least occurring 200 labels have a word count below 200,000.*\n",
        "* *Another small group of labels fall within the word count range of 200,000 to 600,000*\n",
        "* *However, labels with word counts above 600,000 are with only a negligible number of occurrences.*"
      ],
      "metadata": {
        "id": "x6anT5dnMK_S"
      }
    },
    {
      "cell_type": "markdown",
      "metadata": {
        "id": "vg43hpXX_e_m"
      },
      "source": [
        "### ***Text Preprocessing***"
      ]
    },
    {
      "cell_type": "markdown",
      "metadata": {
        "id": "kKuuppffDEQY"
      },
      "source": [
        "* *Punctuation Removal*\n",
        "* *Lower - casing*\n",
        "* *Tokenization*\n",
        "* *Stopwords Removal*\n",
        "* *Lemmatization*\n"
      ]
    },
    {
      "cell_type": "code",
      "execution_count": null,
      "metadata": {
        "id": "JXUgBVWDRtFJ"
      },
      "outputs": [],
      "source": [
        "stop_words = set(stopwords.words('english'))\n",
        "lemmatizer = WordNetLemmatizer()"
      ]
    },
    {
      "cell_type": "code",
      "source": [
        "def preprocess_text(text):\n",
        "    tokens = word_tokenize(text.lower())\n",
        "    filtered_tokens = [token for token in tokens if token not in stop_words and token not in string.punctuation]\n",
        "    lemmatized_tokens = [lemmatizer.lemmatize(token) for token in filtered_tokens]\n",
        "    processed_text = ' '.join(lemmatized_tokens)\n",
        "    return processed_text"
      ],
      "metadata": {
        "id": "Bw3k9pcm--oj"
      },
      "execution_count": null,
      "outputs": []
    },
    {
      "cell_type": "code",
      "source": [
        "final_df['processed_text'] = final_df['text'].apply(preprocess_text)"
      ],
      "metadata": {
        "colab": {
          "base_uri": "https://localhost:8080/"
        },
        "id": "4-sFLbf1WjJn",
        "outputId": "7e4abfb5-b44c-4486-a8fc-9bb8ed06b37e"
      },
      "execution_count": null,
      "outputs": [
        {
          "output_type": "stream",
          "name": "stderr",
          "text": [
            "<ipython-input-21-739c49fadc34>:1: SettingWithCopyWarning: \n",
            "A value is trying to be set on a copy of a slice from a DataFrame.\n",
            "Try using .loc[row_indexer,col_indexer] = value instead\n",
            "\n",
            "See the caveats in the documentation: https://pandas.pydata.org/pandas-docs/stable/user_guide/indexing.html#returning-a-view-versus-a-copy\n",
            "  final_df['processed_text'] = final_df['text'].apply(preprocess_text)\n"
          ]
        }
      ]
    },
    {
      "cell_type": "code",
      "source": [
        "tokenized_texts = final_df['processed_text'].apply(lambda x: x.split())\n",
        "final_df"
      ],
      "metadata": {
        "colab": {
          "base_uri": "https://localhost:8080/",
          "height": 423
        },
        "id": "3MA3q7IQ_Coa",
        "outputId": "b2cb345f-f642-48cf-bf1b-c6b6ab28b692"
      },
      "execution_count": null,
      "outputs": [
        {
          "output_type": "execute_result",
          "data": {
            "text/plain": [
              "                                                    text  \\\n",
              "0      \"Constructor\" Prelude door locks feature moder...   \n",
              "1      \"Constructor\" Prelude door locks feature moder...   \n",
              "2      \"Constructor\" offers premium classic style doo...   \n",
              "3      \"Constructor\" offers premium classic style doo...   \n",
              "4      \"Constructor\" offers premium classic style doo...   \n",
              "...                                                  ...   \n",
              "41564  the great outdoors by Minka Lavery Irvington M...   \n",
              "41565  the great outdoors by Minka Lavery Irvington M...   \n",
              "41566  the great outdoors by Minka Lavery Irvington M...   \n",
              "41567  the great outdoors by Minka Lavery Irvington M...   \n",
              "41568  the great outdoors by Minka Lavery Irvington M...   \n",
              "\n",
              "                                       labels  \\\n",
              "0                   Hardware Included, Finish   \n",
              "1                   Hardware Included, Finish   \n",
              "2                   Hardware Included, Finish   \n",
              "3                   Hardware Included, Finish   \n",
              "4                   Hardware Included, Finish   \n",
              "...                                       ...   \n",
              "41564  Wattage (watts), ENERGY STAR Certified   \n",
              "41565  Wattage (watts), ENERGY STAR Certified   \n",
              "41566  Wattage (watts), ENERGY STAR Certified   \n",
              "41567  Wattage (watts), ENERGY STAR Certified   \n",
              "41568  Wattage (watts), ENERGY STAR Certified   \n",
              "\n",
              "                                          processed_text  \n",
              "0      `` constructor '' prelude door lock feature mo...  \n",
              "1      `` constructor '' prelude door lock feature mo...  \n",
              "2      `` constructor '' offer premium classic style ...  \n",
              "3      `` constructor '' offer premium classic style ...  \n",
              "4      `` constructor '' offer premium classic style ...  \n",
              "...                                                  ...  \n",
              "41564  great outdoors minka lavery irvington manor 1-...  \n",
              "41565  great outdoors minka lavery irvington manor 2-...  \n",
              "41566  great outdoors minka lavery irvington manor 3-...  \n",
              "41567  great outdoors minka lavery irvington manor 3-...  \n",
              "41568  great outdoors minka lavery irvington manor 4-...  \n",
              "\n",
              "[41569 rows x 3 columns]"
            ],
            "text/html": [
              "\n",
              "  <div id=\"df-f54a1fc7-6e58-467c-a1c7-e2be71fff84a\">\n",
              "    <div class=\"colab-df-container\">\n",
              "      <div>\n",
              "<style scoped>\n",
              "    .dataframe tbody tr th:only-of-type {\n",
              "        vertical-align: middle;\n",
              "    }\n",
              "\n",
              "    .dataframe tbody tr th {\n",
              "        vertical-align: top;\n",
              "    }\n",
              "\n",
              "    .dataframe thead th {\n",
              "        text-align: right;\n",
              "    }\n",
              "</style>\n",
              "<table border=\"1\" class=\"dataframe\">\n",
              "  <thead>\n",
              "    <tr style=\"text-align: right;\">\n",
              "      <th></th>\n",
              "      <th>text</th>\n",
              "      <th>labels</th>\n",
              "      <th>processed_text</th>\n",
              "    </tr>\n",
              "  </thead>\n",
              "  <tbody>\n",
              "    <tr>\n",
              "      <th>0</th>\n",
              "      <td>\"Constructor\" Prelude door locks feature moder...</td>\n",
              "      <td>Hardware Included, Finish</td>\n",
              "      <td>`` constructor '' prelude door lock feature mo...</td>\n",
              "    </tr>\n",
              "    <tr>\n",
              "      <th>1</th>\n",
              "      <td>\"Constructor\" Prelude door locks feature moder...</td>\n",
              "      <td>Hardware Included, Finish</td>\n",
              "      <td>`` constructor '' prelude door lock feature mo...</td>\n",
              "    </tr>\n",
              "    <tr>\n",
              "      <th>2</th>\n",
              "      <td>\"Constructor\" offers premium classic style doo...</td>\n",
              "      <td>Hardware Included, Finish</td>\n",
              "      <td>`` constructor '' offer premium classic style ...</td>\n",
              "    </tr>\n",
              "    <tr>\n",
              "      <th>3</th>\n",
              "      <td>\"Constructor\" offers premium classic style doo...</td>\n",
              "      <td>Hardware Included, Finish</td>\n",
              "      <td>`` constructor '' offer premium classic style ...</td>\n",
              "    </tr>\n",
              "    <tr>\n",
              "      <th>4</th>\n",
              "      <td>\"Constructor\" offers premium classic style doo...</td>\n",
              "      <td>Hardware Included, Finish</td>\n",
              "      <td>`` constructor '' offer premium classic style ...</td>\n",
              "    </tr>\n",
              "    <tr>\n",
              "      <th>...</th>\n",
              "      <td>...</td>\n",
              "      <td>...</td>\n",
              "      <td>...</td>\n",
              "    </tr>\n",
              "    <tr>\n",
              "      <th>41564</th>\n",
              "      <td>the great outdoors by Minka Lavery Irvington M...</td>\n",
              "      <td>Wattage (watts), ENERGY STAR Certified</td>\n",
              "      <td>great outdoors minka lavery irvington manor 1-...</td>\n",
              "    </tr>\n",
              "    <tr>\n",
              "      <th>41565</th>\n",
              "      <td>the great outdoors by Minka Lavery Irvington M...</td>\n",
              "      <td>Wattage (watts), ENERGY STAR Certified</td>\n",
              "      <td>great outdoors minka lavery irvington manor 2-...</td>\n",
              "    </tr>\n",
              "    <tr>\n",
              "      <th>41566</th>\n",
              "      <td>the great outdoors by Minka Lavery Irvington M...</td>\n",
              "      <td>Wattage (watts), ENERGY STAR Certified</td>\n",
              "      <td>great outdoors minka lavery irvington manor 3-...</td>\n",
              "    </tr>\n",
              "    <tr>\n",
              "      <th>41567</th>\n",
              "      <td>the great outdoors by Minka Lavery Irvington M...</td>\n",
              "      <td>Wattage (watts), ENERGY STAR Certified</td>\n",
              "      <td>great outdoors minka lavery irvington manor 3-...</td>\n",
              "    </tr>\n",
              "    <tr>\n",
              "      <th>41568</th>\n",
              "      <td>the great outdoors by Minka Lavery Irvington M...</td>\n",
              "      <td>Wattage (watts), ENERGY STAR Certified</td>\n",
              "      <td>great outdoors minka lavery irvington manor 4-...</td>\n",
              "    </tr>\n",
              "  </tbody>\n",
              "</table>\n",
              "<p>41569 rows × 3 columns</p>\n",
              "</div>\n",
              "      <button class=\"colab-df-convert\" onclick=\"convertToInteractive('df-f54a1fc7-6e58-467c-a1c7-e2be71fff84a')\"\n",
              "              title=\"Convert this dataframe to an interactive table.\"\n",
              "              style=\"display:none;\">\n",
              "        \n",
              "  <svg xmlns=\"http://www.w3.org/2000/svg\" height=\"24px\"viewBox=\"0 0 24 24\"\n",
              "       width=\"24px\">\n",
              "    <path d=\"M0 0h24v24H0V0z\" fill=\"none\"/>\n",
              "    <path d=\"M18.56 5.44l.94 2.06.94-2.06 2.06-.94-2.06-.94-.94-2.06-.94 2.06-2.06.94zm-11 1L8.5 8.5l.94-2.06 2.06-.94-2.06-.94L8.5 2.5l-.94 2.06-2.06.94zm10 10l.94 2.06.94-2.06 2.06-.94-2.06-.94-.94-2.06-.94 2.06-2.06.94z\"/><path d=\"M17.41 7.96l-1.37-1.37c-.4-.4-.92-.59-1.43-.59-.52 0-1.04.2-1.43.59L10.3 9.45l-7.72 7.72c-.78.78-.78 2.05 0 2.83L4 21.41c.39.39.9.59 1.41.59.51 0 1.02-.2 1.41-.59l7.78-7.78 2.81-2.81c.8-.78.8-2.07 0-2.86zM5.41 20L4 18.59l7.72-7.72 1.47 1.35L5.41 20z\"/>\n",
              "  </svg>\n",
              "      </button>\n",
              "      \n",
              "  <style>\n",
              "    .colab-df-container {\n",
              "      display:flex;\n",
              "      flex-wrap:wrap;\n",
              "      gap: 12px;\n",
              "    }\n",
              "\n",
              "    .colab-df-convert {\n",
              "      background-color: #E8F0FE;\n",
              "      border: none;\n",
              "      border-radius: 50%;\n",
              "      cursor: pointer;\n",
              "      display: none;\n",
              "      fill: #1967D2;\n",
              "      height: 32px;\n",
              "      padding: 0 0 0 0;\n",
              "      width: 32px;\n",
              "    }\n",
              "\n",
              "    .colab-df-convert:hover {\n",
              "      background-color: #E2EBFA;\n",
              "      box-shadow: 0px 1px 2px rgba(60, 64, 67, 0.3), 0px 1px 3px 1px rgba(60, 64, 67, 0.15);\n",
              "      fill: #174EA6;\n",
              "    }\n",
              "\n",
              "    [theme=dark] .colab-df-convert {\n",
              "      background-color: #3B4455;\n",
              "      fill: #D2E3FC;\n",
              "    }\n",
              "\n",
              "    [theme=dark] .colab-df-convert:hover {\n",
              "      background-color: #434B5C;\n",
              "      box-shadow: 0px 1px 3px 1px rgba(0, 0, 0, 0.15);\n",
              "      filter: drop-shadow(0px 1px 2px rgba(0, 0, 0, 0.3));\n",
              "      fill: #FFFFFF;\n",
              "    }\n",
              "  </style>\n",
              "\n",
              "      <script>\n",
              "        const buttonEl =\n",
              "          document.querySelector('#df-f54a1fc7-6e58-467c-a1c7-e2be71fff84a button.colab-df-convert');\n",
              "        buttonEl.style.display =\n",
              "          google.colab.kernel.accessAllowed ? 'block' : 'none';\n",
              "\n",
              "        async function convertToInteractive(key) {\n",
              "          const element = document.querySelector('#df-f54a1fc7-6e58-467c-a1c7-e2be71fff84a');\n",
              "          const dataTable =\n",
              "            await google.colab.kernel.invokeFunction('convertToInteractive',\n",
              "                                                     [key], {});\n",
              "          if (!dataTable) return;\n",
              "\n",
              "          const docLinkHtml = 'Like what you see? Visit the ' +\n",
              "            '<a target=\"_blank\" href=https://colab.research.google.com/notebooks/data_table.ipynb>data table notebook</a>'\n",
              "            + ' to learn more about interactive tables.';\n",
              "          element.innerHTML = '';\n",
              "          dataTable['output_type'] = 'display_data';\n",
              "          await google.colab.output.renderOutput(dataTable, element);\n",
              "          const docLink = document.createElement('div');\n",
              "          docLink.innerHTML = docLinkHtml;\n",
              "          element.appendChild(docLink);\n",
              "        }\n",
              "      </script>\n",
              "    </div>\n",
              "  </div>\n",
              "  "
            ]
          },
          "metadata": {},
          "execution_count": 22
        }
      ]
    },
    {
      "cell_type": "code",
      "source": [
        "tokenized_labels = [label.split() for label in final_df['labels']]"
      ],
      "metadata": {
        "id": "QNd8Ku8eWKjX"
      },
      "execution_count": null,
      "outputs": []
    },
    {
      "cell_type": "code",
      "source": [
        "model = Word2Vec(tokenized_labels, vector_size=100, window=5, min_count=1, workers=4)"
      ],
      "metadata": {
        "id": "bVfVFHtdWO4L"
      },
      "execution_count": null,
      "outputs": []
    },
    {
      "cell_type": "code",
      "source": [
        "label_embeddings = []\n",
        "\n",
        "for label in final_df['labels']:\n",
        "    if label in model.wv:\n",
        "        label_embeddings.append(model.wv[label])\n",
        "    else:\n",
        "        label_embeddings.append([0] * 100)"
      ],
      "metadata": {
        "id": "1SfZcnEeukQX"
      },
      "execution_count": null,
      "outputs": []
    },
    {
      "cell_type": "code",
      "source": [
        "k = 50\n",
        "kmeans = KMeans(n_clusters=k, n_init=10, random_state=42)\n",
        "cluster_labels = kmeans.fit_predict(label_embeddings)"
      ],
      "metadata": {
        "id": "m4EF6sM6vfs5"
      },
      "execution_count": null,
      "outputs": []
    },
    {
      "cell_type": "code",
      "source": [
        "final_df['cluster_labels'] = cluster_labels"
      ],
      "metadata": {
        "id": "KqCLlynlaEsD"
      },
      "execution_count": null,
      "outputs": []
    },
    {
      "cell_type": "code",
      "source": [
        "final_df"
      ],
      "metadata": {
        "colab": {
          "base_uri": "https://localhost:8080/",
          "height": 467
        },
        "id": "DkZQRcUimGY5",
        "outputId": "06050c5a-108c-4113-f3d4-b21d68ea982b"
      },
      "execution_count": null,
      "outputs": [
        {
          "output_type": "execute_result",
          "data": {
            "text/plain": [
              "                                                    text  \\\n",
              "0      \"Constructor\" Prelude door locks feature moder...   \n",
              "1      \"Constructor\" Prelude door locks feature moder...   \n",
              "2      \"Constructor\" offers premium classic style doo...   \n",
              "3      \"Constructor\" offers premium classic style doo...   \n",
              "4      \"Constructor\" offers premium classic style doo...   \n",
              "...                                                  ...   \n",
              "41564  the great outdoors by Minka Lavery Irvington M...   \n",
              "41565  the great outdoors by Minka Lavery Irvington M...   \n",
              "41566  the great outdoors by Minka Lavery Irvington M...   \n",
              "41567  the great outdoors by Minka Lavery Irvington M...   \n",
              "41568  the great outdoors by Minka Lavery Irvington M...   \n",
              "\n",
              "                                       labels  \\\n",
              "0                   Hardware Included, Finish   \n",
              "1                   Hardware Included, Finish   \n",
              "2                   Hardware Included, Finish   \n",
              "3                   Hardware Included, Finish   \n",
              "4                   Hardware Included, Finish   \n",
              "...                                       ...   \n",
              "41564  Wattage (watts), ENERGY STAR Certified   \n",
              "41565  Wattage (watts), ENERGY STAR Certified   \n",
              "41566  Wattage (watts), ENERGY STAR Certified   \n",
              "41567  Wattage (watts), ENERGY STAR Certified   \n",
              "41568  Wattage (watts), ENERGY STAR Certified   \n",
              "\n",
              "                                          processed_text  cluster_labels  \n",
              "0      `` constructor '' prelude door lock feature mo...               0  \n",
              "1      `` constructor '' prelude door lock feature mo...               0  \n",
              "2      `` constructor '' offer premium classic style ...               0  \n",
              "3      `` constructor '' offer premium classic style ...               0  \n",
              "4      `` constructor '' offer premium classic style ...               0  \n",
              "...                                                  ...             ...  \n",
              "41564  great outdoors minka lavery irvington manor 1-...               0  \n",
              "41565  great outdoors minka lavery irvington manor 2-...               0  \n",
              "41566  great outdoors minka lavery irvington manor 3-...               0  \n",
              "41567  great outdoors minka lavery irvington manor 3-...               0  \n",
              "41568  great outdoors minka lavery irvington manor 4-...               0  \n",
              "\n",
              "[41569 rows x 4 columns]"
            ],
            "text/html": [
              "\n",
              "  <div id=\"df-34ef3566-d7bd-4fe6-8d80-79e349ae29d7\">\n",
              "    <div class=\"colab-df-container\">\n",
              "      <div>\n",
              "<style scoped>\n",
              "    .dataframe tbody tr th:only-of-type {\n",
              "        vertical-align: middle;\n",
              "    }\n",
              "\n",
              "    .dataframe tbody tr th {\n",
              "        vertical-align: top;\n",
              "    }\n",
              "\n",
              "    .dataframe thead th {\n",
              "        text-align: right;\n",
              "    }\n",
              "</style>\n",
              "<table border=\"1\" class=\"dataframe\">\n",
              "  <thead>\n",
              "    <tr style=\"text-align: right;\">\n",
              "      <th></th>\n",
              "      <th>text</th>\n",
              "      <th>labels</th>\n",
              "      <th>processed_text</th>\n",
              "      <th>cluster_labels</th>\n",
              "    </tr>\n",
              "  </thead>\n",
              "  <tbody>\n",
              "    <tr>\n",
              "      <th>0</th>\n",
              "      <td>\"Constructor\" Prelude door locks feature moder...</td>\n",
              "      <td>Hardware Included, Finish</td>\n",
              "      <td>`` constructor '' prelude door lock feature mo...</td>\n",
              "      <td>0</td>\n",
              "    </tr>\n",
              "    <tr>\n",
              "      <th>1</th>\n",
              "      <td>\"Constructor\" Prelude door locks feature moder...</td>\n",
              "      <td>Hardware Included, Finish</td>\n",
              "      <td>`` constructor '' prelude door lock feature mo...</td>\n",
              "      <td>0</td>\n",
              "    </tr>\n",
              "    <tr>\n",
              "      <th>2</th>\n",
              "      <td>\"Constructor\" offers premium classic style doo...</td>\n",
              "      <td>Hardware Included, Finish</td>\n",
              "      <td>`` constructor '' offer premium classic style ...</td>\n",
              "      <td>0</td>\n",
              "    </tr>\n",
              "    <tr>\n",
              "      <th>3</th>\n",
              "      <td>\"Constructor\" offers premium classic style doo...</td>\n",
              "      <td>Hardware Included, Finish</td>\n",
              "      <td>`` constructor '' offer premium classic style ...</td>\n",
              "      <td>0</td>\n",
              "    </tr>\n",
              "    <tr>\n",
              "      <th>4</th>\n",
              "      <td>\"Constructor\" offers premium classic style doo...</td>\n",
              "      <td>Hardware Included, Finish</td>\n",
              "      <td>`` constructor '' offer premium classic style ...</td>\n",
              "      <td>0</td>\n",
              "    </tr>\n",
              "    <tr>\n",
              "      <th>...</th>\n",
              "      <td>...</td>\n",
              "      <td>...</td>\n",
              "      <td>...</td>\n",
              "      <td>...</td>\n",
              "    </tr>\n",
              "    <tr>\n",
              "      <th>41564</th>\n",
              "      <td>the great outdoors by Minka Lavery Irvington M...</td>\n",
              "      <td>Wattage (watts), ENERGY STAR Certified</td>\n",
              "      <td>great outdoors minka lavery irvington manor 1-...</td>\n",
              "      <td>0</td>\n",
              "    </tr>\n",
              "    <tr>\n",
              "      <th>41565</th>\n",
              "      <td>the great outdoors by Minka Lavery Irvington M...</td>\n",
              "      <td>Wattage (watts), ENERGY STAR Certified</td>\n",
              "      <td>great outdoors minka lavery irvington manor 2-...</td>\n",
              "      <td>0</td>\n",
              "    </tr>\n",
              "    <tr>\n",
              "      <th>41566</th>\n",
              "      <td>the great outdoors by Minka Lavery Irvington M...</td>\n",
              "      <td>Wattage (watts), ENERGY STAR Certified</td>\n",
              "      <td>great outdoors minka lavery irvington manor 3-...</td>\n",
              "      <td>0</td>\n",
              "    </tr>\n",
              "    <tr>\n",
              "      <th>41567</th>\n",
              "      <td>the great outdoors by Minka Lavery Irvington M...</td>\n",
              "      <td>Wattage (watts), ENERGY STAR Certified</td>\n",
              "      <td>great outdoors minka lavery irvington manor 3-...</td>\n",
              "      <td>0</td>\n",
              "    </tr>\n",
              "    <tr>\n",
              "      <th>41568</th>\n",
              "      <td>the great outdoors by Minka Lavery Irvington M...</td>\n",
              "      <td>Wattage (watts), ENERGY STAR Certified</td>\n",
              "      <td>great outdoors minka lavery irvington manor 4-...</td>\n",
              "      <td>0</td>\n",
              "    </tr>\n",
              "  </tbody>\n",
              "</table>\n",
              "<p>41569 rows × 4 columns</p>\n",
              "</div>\n",
              "      <button class=\"colab-df-convert\" onclick=\"convertToInteractive('df-34ef3566-d7bd-4fe6-8d80-79e349ae29d7')\"\n",
              "              title=\"Convert this dataframe to an interactive table.\"\n",
              "              style=\"display:none;\">\n",
              "        \n",
              "  <svg xmlns=\"http://www.w3.org/2000/svg\" height=\"24px\"viewBox=\"0 0 24 24\"\n",
              "       width=\"24px\">\n",
              "    <path d=\"M0 0h24v24H0V0z\" fill=\"none\"/>\n",
              "    <path d=\"M18.56 5.44l.94 2.06.94-2.06 2.06-.94-2.06-.94-.94-2.06-.94 2.06-2.06.94zm-11 1L8.5 8.5l.94-2.06 2.06-.94-2.06-.94L8.5 2.5l-.94 2.06-2.06.94zm10 10l.94 2.06.94-2.06 2.06-.94-2.06-.94-.94-2.06-.94 2.06-2.06.94z\"/><path d=\"M17.41 7.96l-1.37-1.37c-.4-.4-.92-.59-1.43-.59-.52 0-1.04.2-1.43.59L10.3 9.45l-7.72 7.72c-.78.78-.78 2.05 0 2.83L4 21.41c.39.39.9.59 1.41.59.51 0 1.02-.2 1.41-.59l7.78-7.78 2.81-2.81c.8-.78.8-2.07 0-2.86zM5.41 20L4 18.59l7.72-7.72 1.47 1.35L5.41 20z\"/>\n",
              "  </svg>\n",
              "      </button>\n",
              "      \n",
              "  <style>\n",
              "    .colab-df-container {\n",
              "      display:flex;\n",
              "      flex-wrap:wrap;\n",
              "      gap: 12px;\n",
              "    }\n",
              "\n",
              "    .colab-df-convert {\n",
              "      background-color: #E8F0FE;\n",
              "      border: none;\n",
              "      border-radius: 50%;\n",
              "      cursor: pointer;\n",
              "      display: none;\n",
              "      fill: #1967D2;\n",
              "      height: 32px;\n",
              "      padding: 0 0 0 0;\n",
              "      width: 32px;\n",
              "    }\n",
              "\n",
              "    .colab-df-convert:hover {\n",
              "      background-color: #E2EBFA;\n",
              "      box-shadow: 0px 1px 2px rgba(60, 64, 67, 0.3), 0px 1px 3px 1px rgba(60, 64, 67, 0.15);\n",
              "      fill: #174EA6;\n",
              "    }\n",
              "\n",
              "    [theme=dark] .colab-df-convert {\n",
              "      background-color: #3B4455;\n",
              "      fill: #D2E3FC;\n",
              "    }\n",
              "\n",
              "    [theme=dark] .colab-df-convert:hover {\n",
              "      background-color: #434B5C;\n",
              "      box-shadow: 0px 1px 3px 1px rgba(0, 0, 0, 0.15);\n",
              "      filter: drop-shadow(0px 1px 2px rgba(0, 0, 0, 0.3));\n",
              "      fill: #FFFFFF;\n",
              "    }\n",
              "  </style>\n",
              "\n",
              "      <script>\n",
              "        const buttonEl =\n",
              "          document.querySelector('#df-34ef3566-d7bd-4fe6-8d80-79e349ae29d7 button.colab-df-convert');\n",
              "        buttonEl.style.display =\n",
              "          google.colab.kernel.accessAllowed ? 'block' : 'none';\n",
              "\n",
              "        async function convertToInteractive(key) {\n",
              "          const element = document.querySelector('#df-34ef3566-d7bd-4fe6-8d80-79e349ae29d7');\n",
              "          const dataTable =\n",
              "            await google.colab.kernel.invokeFunction('convertToInteractive',\n",
              "                                                     [key], {});\n",
              "          if (!dataTable) return;\n",
              "\n",
              "          const docLinkHtml = 'Like what you see? Visit the ' +\n",
              "            '<a target=\"_blank\" href=https://colab.research.google.com/notebooks/data_table.ipynb>data table notebook</a>'\n",
              "            + ' to learn more about interactive tables.';\n",
              "          element.innerHTML = '';\n",
              "          dataTable['output_type'] = 'display_data';\n",
              "          await google.colab.output.renderOutput(dataTable, element);\n",
              "          const docLink = document.createElement('div');\n",
              "          docLink.innerHTML = docLinkHtml;\n",
              "          element.appendChild(docLink);\n",
              "        }\n",
              "      </script>\n",
              "    </div>\n",
              "  </div>\n",
              "  "
            ]
          },
          "metadata": {},
          "execution_count": 37
        }
      ]
    },
    {
      "cell_type": "code",
      "source": [
        "cluster_label_mapping = final_df[['cluster_labels', 'labels']].drop_duplicates().sort_values('cluster_labels')\n",
        "cluster_label_mapping.head(11)"
      ],
      "metadata": {
        "colab": {
          "base_uri": "https://localhost:8080/",
          "height": 394
        },
        "id": "a6SsYZtQjDUb",
        "outputId": "93d6cbb4-8c3a-4e25-cb05-615b20a9b714"
      },
      "execution_count": 67,
      "outputs": [
        {
          "output_type": "execute_result",
          "data": {
            "text/plain": [
              "      cluster_labels                                             labels\n",
              "0                  0                          Hardware Included, Finish\n",
              "4758               0                    Indoor/Outdoor, Wattage (watts)\n",
              "4784               0  Hardware Included, Wattage (watts), ENERGY STA...\n",
              "4837               0  Voltage (volts), Wattage (watts), Shape, ENERG...\n",
              "5105               0                                    Color, Features\n",
              "5120               0  Assembly Required, Hardware Included, Indoor/O...\n",
              "5477               0                Included, Voltage (volts), Features\n",
              "5675               0                             Voltage (volts), Color\n",
              "5859               0            Included, Color, Wattage (watts), Shape\n",
              "6422               0  Voltage (volts), Commercial / Residential, Wat...\n",
              "6615               0                    Package Quantity, Color, Finish"
            ],
            "text/html": [
              "\n",
              "  <div id=\"df-ec3ee3b7-25d2-4a92-aeff-1ee77fdfdcc6\">\n",
              "    <div class=\"colab-df-container\">\n",
              "      <div>\n",
              "<style scoped>\n",
              "    .dataframe tbody tr th:only-of-type {\n",
              "        vertical-align: middle;\n",
              "    }\n",
              "\n",
              "    .dataframe tbody tr th {\n",
              "        vertical-align: top;\n",
              "    }\n",
              "\n",
              "    .dataframe thead th {\n",
              "        text-align: right;\n",
              "    }\n",
              "</style>\n",
              "<table border=\"1\" class=\"dataframe\">\n",
              "  <thead>\n",
              "    <tr style=\"text-align: right;\">\n",
              "      <th></th>\n",
              "      <th>cluster_labels</th>\n",
              "      <th>labels</th>\n",
              "    </tr>\n",
              "  </thead>\n",
              "  <tbody>\n",
              "    <tr>\n",
              "      <th>0</th>\n",
              "      <td>0</td>\n",
              "      <td>Hardware Included, Finish</td>\n",
              "    </tr>\n",
              "    <tr>\n",
              "      <th>4758</th>\n",
              "      <td>0</td>\n",
              "      <td>Indoor/Outdoor, Wattage (watts)</td>\n",
              "    </tr>\n",
              "    <tr>\n",
              "      <th>4784</th>\n",
              "      <td>0</td>\n",
              "      <td>Hardware Included, Wattage (watts), ENERGY STA...</td>\n",
              "    </tr>\n",
              "    <tr>\n",
              "      <th>4837</th>\n",
              "      <td>0</td>\n",
              "      <td>Voltage (volts), Wattage (watts), Shape, ENERG...</td>\n",
              "    </tr>\n",
              "    <tr>\n",
              "      <th>5105</th>\n",
              "      <td>0</td>\n",
              "      <td>Color, Features</td>\n",
              "    </tr>\n",
              "    <tr>\n",
              "      <th>5120</th>\n",
              "      <td>0</td>\n",
              "      <td>Assembly Required, Hardware Included, Indoor/O...</td>\n",
              "    </tr>\n",
              "    <tr>\n",
              "      <th>5477</th>\n",
              "      <td>0</td>\n",
              "      <td>Included, Voltage (volts), Features</td>\n",
              "    </tr>\n",
              "    <tr>\n",
              "      <th>5675</th>\n",
              "      <td>0</td>\n",
              "      <td>Voltage (volts), Color</td>\n",
              "    </tr>\n",
              "    <tr>\n",
              "      <th>5859</th>\n",
              "      <td>0</td>\n",
              "      <td>Included, Color, Wattage (watts), Shape</td>\n",
              "    </tr>\n",
              "    <tr>\n",
              "      <th>6422</th>\n",
              "      <td>0</td>\n",
              "      <td>Voltage (volts), Commercial / Residential, Wat...</td>\n",
              "    </tr>\n",
              "    <tr>\n",
              "      <th>6615</th>\n",
              "      <td>0</td>\n",
              "      <td>Package Quantity, Color, Finish</td>\n",
              "    </tr>\n",
              "  </tbody>\n",
              "</table>\n",
              "</div>\n",
              "      <button class=\"colab-df-convert\" onclick=\"convertToInteractive('df-ec3ee3b7-25d2-4a92-aeff-1ee77fdfdcc6')\"\n",
              "              title=\"Convert this dataframe to an interactive table.\"\n",
              "              style=\"display:none;\">\n",
              "        \n",
              "  <svg xmlns=\"http://www.w3.org/2000/svg\" height=\"24px\"viewBox=\"0 0 24 24\"\n",
              "       width=\"24px\">\n",
              "    <path d=\"M0 0h24v24H0V0z\" fill=\"none\"/>\n",
              "    <path d=\"M18.56 5.44l.94 2.06.94-2.06 2.06-.94-2.06-.94-.94-2.06-.94 2.06-2.06.94zm-11 1L8.5 8.5l.94-2.06 2.06-.94-2.06-.94L8.5 2.5l-.94 2.06-2.06.94zm10 10l.94 2.06.94-2.06 2.06-.94-2.06-.94-.94-2.06-.94 2.06-2.06.94z\"/><path d=\"M17.41 7.96l-1.37-1.37c-.4-.4-.92-.59-1.43-.59-.52 0-1.04.2-1.43.59L10.3 9.45l-7.72 7.72c-.78.78-.78 2.05 0 2.83L4 21.41c.39.39.9.59 1.41.59.51 0 1.02-.2 1.41-.59l7.78-7.78 2.81-2.81c.8-.78.8-2.07 0-2.86zM5.41 20L4 18.59l7.72-7.72 1.47 1.35L5.41 20z\"/>\n",
              "  </svg>\n",
              "      </button>\n",
              "      \n",
              "  <style>\n",
              "    .colab-df-container {\n",
              "      display:flex;\n",
              "      flex-wrap:wrap;\n",
              "      gap: 12px;\n",
              "    }\n",
              "\n",
              "    .colab-df-convert {\n",
              "      background-color: #E8F0FE;\n",
              "      border: none;\n",
              "      border-radius: 50%;\n",
              "      cursor: pointer;\n",
              "      display: none;\n",
              "      fill: #1967D2;\n",
              "      height: 32px;\n",
              "      padding: 0 0 0 0;\n",
              "      width: 32px;\n",
              "    }\n",
              "\n",
              "    .colab-df-convert:hover {\n",
              "      background-color: #E2EBFA;\n",
              "      box-shadow: 0px 1px 2px rgba(60, 64, 67, 0.3), 0px 1px 3px 1px rgba(60, 64, 67, 0.15);\n",
              "      fill: #174EA6;\n",
              "    }\n",
              "\n",
              "    [theme=dark] .colab-df-convert {\n",
              "      background-color: #3B4455;\n",
              "      fill: #D2E3FC;\n",
              "    }\n",
              "\n",
              "    [theme=dark] .colab-df-convert:hover {\n",
              "      background-color: #434B5C;\n",
              "      box-shadow: 0px 1px 3px 1px rgba(0, 0, 0, 0.15);\n",
              "      filter: drop-shadow(0px 1px 2px rgba(0, 0, 0, 0.3));\n",
              "      fill: #FFFFFF;\n",
              "    }\n",
              "  </style>\n",
              "\n",
              "      <script>\n",
              "        const buttonEl =\n",
              "          document.querySelector('#df-ec3ee3b7-25d2-4a92-aeff-1ee77fdfdcc6 button.colab-df-convert');\n",
              "        buttonEl.style.display =\n",
              "          google.colab.kernel.accessAllowed ? 'block' : 'none';\n",
              "\n",
              "        async function convertToInteractive(key) {\n",
              "          const element = document.querySelector('#df-ec3ee3b7-25d2-4a92-aeff-1ee77fdfdcc6');\n",
              "          const dataTable =\n",
              "            await google.colab.kernel.invokeFunction('convertToInteractive',\n",
              "                                                     [key], {});\n",
              "          if (!dataTable) return;\n",
              "\n",
              "          const docLinkHtml = 'Like what you see? Visit the ' +\n",
              "            '<a target=\"_blank\" href=https://colab.research.google.com/notebooks/data_table.ipynb>data table notebook</a>'\n",
              "            + ' to learn more about interactive tables.';\n",
              "          element.innerHTML = '';\n",
              "          dataTable['output_type'] = 'display_data';\n",
              "          await google.colab.output.renderOutput(dataTable, element);\n",
              "          const docLink = document.createElement('div');\n",
              "          docLink.innerHTML = docLinkHtml;\n",
              "          element.appendChild(docLink);\n",
              "        }\n",
              "      </script>\n",
              "    </div>\n",
              "  </div>\n",
              "  "
            ]
          },
          "metadata": {},
          "execution_count": 67
        }
      ]
    },
    {
      "cell_type": "markdown",
      "metadata": {
        "id": "Xv5qHqhcBijJ"
      },
      "source": [
        "### *Building the Model*"
      ]
    },
    {
      "cell_type": "code",
      "source": [
        "X_train, X_test, y_train, y_test = train_test_split(final_df['processed_text'],\n",
        "                                                    final_df['cluster_labels'],\n",
        "                                                    test_size=0.1,\n",
        "                                                    random_state=444)"
      ],
      "metadata": {
        "id": "R55F_V3bv_ec"
      },
      "execution_count": null,
      "outputs": []
    },
    {
      "cell_type": "markdown",
      "source": [
        "#### *Linear Support Vector Classifier*"
      ],
      "metadata": {
        "id": "rKxVZxOXOhI5"
      }
    },
    {
      "cell_type": "code",
      "source": [
        "%%time\n",
        "pipeline = Pipeline([\n",
        "    ('Tfidf Vectorizer', TfidfVectorizer()),\n",
        "    ('ML Model', LinearSVC())])\n",
        "\n",
        "model_LinearSVC = pipeline.fit(X_train, y_train)\n",
        "predictions = model_LinearSVC.predict(X_test)\n",
        "\n",
        "print('ML Model - Linear SVC\\n')\n",
        "\n",
        "accuracy_LinearSVC = accuracy_score(y_test, predictions)\n",
        "print(f\"Accuracy Score: {round(accuracy_LinearSVC * 100, 2)}%\")\n",
        "\n",
        "print('\\nConfusion Matrix')\n",
        "print(confusion_matrix(y_test, predictions))\n",
        "\n",
        "print(\"\\nClassification Report\")\n",
        "print(classification_report(y_test, predictions))\n"
      ],
      "metadata": {
        "colab": {
          "base_uri": "https://localhost:8080/"
        },
        "id": "fIYpnsEQw4W3",
        "outputId": "5bd79634-b912-457d-cfc6-3ceb5cfc4d63"
      },
      "execution_count": null,
      "outputs": [
        {
          "output_type": "stream",
          "name": "stdout",
          "text": [
            "ML Model - Linear SVC\n",
            "\n",
            "Accuracy Score: 95.81%\n",
            "\n",
            "Confusion Matrix\n",
            "[[3473   11    4    2   19    3    5]\n",
            " [  18   94    0    0    0    0    1]\n",
            " [  23    0   65    0    2    0    0]\n",
            " [  11    0    0   39    0    0    0]\n",
            " [  38    0    0    0  159    0    1]\n",
            " [  12    0    0    0    0   25    0]\n",
            " [  22    0    0    0    2    0  128]]\n",
            "\n",
            "Classification Report\n",
            "              precision    recall  f1-score   support\n",
            "\n",
            "           0       0.97      0.99      0.98      3517\n",
            "           1       0.90      0.83      0.86       113\n",
            "           3       0.94      0.72      0.82        90\n",
            "           4       0.95      0.78      0.86        50\n",
            "           5       0.87      0.80      0.84       198\n",
            "           6       0.89      0.68      0.77        37\n",
            "           9       0.95      0.84      0.89       152\n",
            "\n",
            "    accuracy                           0.96      4157\n",
            "   macro avg       0.92      0.81      0.86      4157\n",
            "weighted avg       0.96      0.96      0.96      4157\n",
            "\n",
            "CPU times: user 6.58 s, sys: 57.6 ms, total: 6.64 s\n",
            "Wall time: 7.75 s\n"
          ]
        }
      ]
    },
    {
      "cell_type": "markdown",
      "source": [
        "#### *K-Nearest Neighbors Classifier*"
      ],
      "metadata": {
        "id": "04PM01kKWVIe"
      }
    },
    {
      "cell_type": "code",
      "source": [
        "%%time\n",
        "pipeline = Pipeline([\n",
        "    ('CountVectorizer', CountVectorizer()),\n",
        "    ('Tfidf Vectorizer', TfidfTransformer()),\n",
        "    ('ML Model', KNeighborsClassifier(n_neighbors=10, weights='distance'))])\n",
        "\n",
        "model_KNN1 = pipeline.fit(X_train, y_train)\n",
        "predictions = model_KNN1.predict(X_test)\n",
        "print('ML Model - K Nearest Neighbors\\n')\n",
        "\n",
        "accuracy_KNN1 = accuracy_score(y_test, predictions)\n",
        "print(f\"Accuracy Score: {round(accuracy_KNN1 * 100, 2)}%\")\n",
        "\n",
        "print('\\nConfusion Matrix')\n",
        "print(confusion_matrix(y_test, predictions))\n",
        "\n",
        "print(\"\\nClassification Report\")\n",
        "print(classification_report(y_test, predictions))"
      ],
      "metadata": {
        "id": "t-1bPfpATi_Y",
        "colab": {
          "base_uri": "https://localhost:8080/"
        },
        "outputId": "7363fbca-2da4-41a4-91cb-b89e9b5fee5e"
      },
      "execution_count": null,
      "outputs": [
        {
          "output_type": "stream",
          "name": "stdout",
          "text": [
            "ML Model - K Nearest Neighbors\n",
            "\n",
            "Accuracy Score: 95.45%\n",
            "\n",
            "Confusion Matrix\n",
            "[[3466   15    7    3   16    5    5]\n",
            " [  23   86    1    0    2    0    1]\n",
            " [  26    2   61    0    0    1    0]\n",
            " [  11    0    0   38    1    0    0]\n",
            " [  35    0    1    0  161    1    0]\n",
            " [   8    0    0    0    0   29    0]\n",
            " [  23    0    0    0    2    0  127]]\n",
            "\n",
            "Classification Report\n",
            "              precision    recall  f1-score   support\n",
            "\n",
            "           0       0.96      0.99      0.98      3517\n",
            "           1       0.83      0.76      0.80       113\n",
            "           3       0.87      0.68      0.76        90\n",
            "           4       0.93      0.76      0.84        50\n",
            "           5       0.88      0.81      0.85       198\n",
            "           6       0.81      0.78      0.79        37\n",
            "           9       0.95      0.84      0.89       152\n",
            "\n",
            "    accuracy                           0.95      4157\n",
            "   macro avg       0.89      0.80      0.84      4157\n",
            "weighted avg       0.95      0.95      0.95      4157\n",
            "\n",
            "CPU times: user 22min 47s, sys: 834 ms, total: 22min 48s\n",
            "Wall time: 14min 16s\n"
          ]
        }
      ]
    },
    {
      "cell_type": "markdown",
      "source": [
        "#### *Logistic Reggression*"
      ],
      "metadata": {
        "id": "5Si-A9epOY6N"
      }
    },
    {
      "cell_type": "code",
      "source": [
        "%%time\n",
        "pipeline = Pipeline([\n",
        "    ('CountVectorizer', CountVectorizer()),\n",
        "    ('Tfidf Vectorizer', TfidfTransformer()),\n",
        "    ('ML Model', LogisticRegression())])\n",
        "\n",
        "model_LogR = pipeline.fit(X_train, y_train)\n",
        "\n",
        "\n",
        "predictions = model_LogR.predict(X_test)\n",
        "\n",
        "accuracy_LogR = accuracy_score(y_test, predictions)\n",
        "print(f\"Accuracy Score: {round(accuracy_LogR * 100, 2)}%\")\n",
        "\n",
        "print('\\nConfusion Matrix')\n",
        "print(confusion_matrix(y_test, predictions))\n",
        "\n",
        "print(\"\\nClassification Report\")\n",
        "print(classification_report(y_test, predictions))"
      ],
      "metadata": {
        "colab": {
          "base_uri": "https://localhost:8080/"
        },
        "id": "TFul9rek_JUm",
        "outputId": "27dba380-c90f-434e-da52-b8bc049a0a69"
      },
      "execution_count": null,
      "outputs": [
        {
          "output_type": "stream",
          "name": "stdout",
          "text": [
            "Accuracy Score: 93.17%\n",
            "\n",
            "Confusion Matrix\n",
            "[[3484    8    2    1   17    4    1]\n",
            " [  45   64    0    1    3    0    0]\n",
            " [  38    0   51    0    1    0    0]\n",
            " [  26    0    0   24    0    0    0]\n",
            " [  63    0    0    0  134    0    1]\n",
            " [  23    0    0    0    0   14    0]\n",
            " [  47    0    0    0    3    0  102]]\n",
            "\n",
            "Classification Report\n",
            "              precision    recall  f1-score   support\n",
            "\n",
            "           0       0.94      0.99      0.96      3517\n",
            "           1       0.89      0.57      0.69       113\n",
            "           3       0.96      0.57      0.71        90\n",
            "           4       0.92      0.48      0.63        50\n",
            "           5       0.85      0.68      0.75       198\n",
            "           6       0.78      0.38      0.51        37\n",
            "           9       0.98      0.67      0.80       152\n",
            "\n",
            "    accuracy                           0.93      4157\n",
            "   macro avg       0.90      0.62      0.72      4157\n",
            "weighted avg       0.93      0.93      0.93      4157\n",
            "\n",
            "CPU times: user 39.9 s, sys: 23.3 s, total: 1min 3s\n",
            "Wall time: 38.9 s\n"
          ]
        }
      ]
    },
    {
      "cell_type": "markdown",
      "source": [
        "#### *Decision Tree Classifier*"
      ],
      "metadata": {
        "id": "Umow8hvAOv8f"
      }
    },
    {
      "cell_type": "code",
      "source": [
        "%%time\n",
        "pipeline = Pipeline([\n",
        "    ('CountVectorizer', CountVectorizer()),\n",
        "    ('Tfidf Vectorizer', TfidfTransformer()),\n",
        "    ('ML Model', DecisionTreeClassifier(criterion='entropy',\n",
        "                                        splitter='best',\n",
        "                                        max_depth=10,\n",
        "                                        random_state=33))])\n",
        "\n",
        "model_DT = pipeline.fit(X_train, y_train)\n",
        "predictions = model_DT.predict(X_test)\n",
        "print('ML Model - Decision Tree\\n')\n",
        "\n",
        "accuracy_DT = accuracy_score(y_test, predictions)\n",
        "print(f\"Accuracy Score: {round(accuracy_DT * 100, 2)}%\")\n",
        "\n",
        "print('\\nConfusion Matrix')\n",
        "print(confusion_matrix(y_test, predictions))\n",
        "\n",
        "print(\"\\nClassification Report\")\n",
        "print(classification_report(y_test, predictions))"
      ],
      "metadata": {
        "colab": {
          "base_uri": "https://localhost:8080/"
        },
        "id": "3PtnB-2Kz5WE",
        "outputId": "f24c938b-ed83-4d2b-9a13-573bc291ce2c"
      },
      "execution_count": null,
      "outputs": [
        {
          "output_type": "stream",
          "name": "stdout",
          "text": [
            "ML Model - Decision Tree\n",
            "\n",
            "Accuracy Score: 87.44%\n",
            "\n",
            "Confusion Matrix\n",
            "[[3494    3    2    4   10    1    3]\n",
            " [  93   20    0    0    0    0    0]\n",
            " [  54    1   35    0    0    0    0]\n",
            " [  28    0    0   19    2    0    1]\n",
            " [ 158    0    2    0   38    0    0]\n",
            " [  33    0    0    0    0    4    0]\n",
            " [ 126    0    0    0    1    0   25]]\n",
            "\n",
            "Classification Report\n",
            "              precision    recall  f1-score   support\n",
            "\n",
            "           0       0.88      0.99      0.93      3517\n",
            "           1       0.83      0.18      0.29       113\n",
            "           3       0.90      0.39      0.54        90\n",
            "           4       0.83      0.38      0.52        50\n",
            "           5       0.75      0.19      0.31       198\n",
            "           6       0.80      0.11      0.19        37\n",
            "           9       0.86      0.16      0.28       152\n",
            "\n",
            "    accuracy                           0.87      4157\n",
            "   macro avg       0.83      0.34      0.44      4157\n",
            "weighted avg       0.87      0.87      0.84      4157\n",
            "\n",
            "CPU times: user 15.6 s, sys: 50.1 ms, total: 15.7 s\n",
            "Wall time: 18.7 s\n"
          ]
        }
      ]
    },
    {
      "cell_type": "markdown",
      "source": [
        "#### *AdaBoost Classifier*"
      ],
      "metadata": {
        "id": "Tj5qk20PO29e"
      }
    },
    {
      "cell_type": "code",
      "source": [
        "%%time\n",
        "pipeline = Pipeline([\n",
        "    ('CountVectorizer', CountVectorizer()),\n",
        "    ('Tfidf Vectorizer', TfidfTransformer()),\n",
        "    ('ML Model', AdaBoostClassifier(n_estimators=10, random_state=33))\n",
        "])\n",
        "\n",
        "model_AB1 = pipeline.fit(X_train, y_train)\n",
        "predictions = model_AB1.predict(X_test)\n",
        "print('ML Model - AdaBoost\\n')\n",
        "\n",
        "accuracy_AB1 = accuracy_score(y_test, predictions)\n",
        "print(f\"Accuracy Score: {round(accuracy_AB1 * 100, 2)}%\")\n",
        "\n",
        "print('\\nConfusion Matrix')\n",
        "print(confusion_matrix(y_test, predictions))\n",
        "\n",
        "print(\"\\nClassification Report\")\n",
        "print(classification_report(y_test, predictions, zero_division=1))"
      ],
      "metadata": {
        "colab": {
          "base_uri": "https://localhost:8080/"
        },
        "id": "vrI4FjsECkCN",
        "outputId": "b3d9f68f-54b2-4333-d1d5-381ab5b541a8"
      },
      "execution_count": null,
      "outputs": [
        {
          "output_type": "stream",
          "name": "stdout",
          "text": [
            "ML Model - AdaBoost\n",
            "\n",
            "Accuracy Score: 84.92%\n",
            "\n",
            "Confusion Matrix\n",
            "[[3507    3    0    3    0    0    4]\n",
            " [ 113    0    0    0    0    0    0]\n",
            " [  90    0    0    0    0    0    0]\n",
            " [  46    0    0    4    0    0    0]\n",
            " [ 198    0    0    0    0    0    0]\n",
            " [  37    0    0    0    0    0    0]\n",
            " [ 133    0    0    0    0    0   19]]\n",
            "\n",
            "Classification Report\n",
            "              precision    recall  f1-score   support\n",
            "\n",
            "           0       0.85      1.00      0.92      3517\n",
            "           1       0.00      0.00      0.00       113\n",
            "           3       1.00      0.00      0.00        90\n",
            "           4       0.57      0.08      0.14        50\n",
            "           5       1.00      0.00      0.00       198\n",
            "           6       1.00      0.00      0.00        37\n",
            "           9       0.83      0.12      0.22       152\n",
            "\n",
            "    accuracy                           0.85      4157\n",
            "   macro avg       0.75      0.17      0.18      4157\n",
            "weighted avg       0.83      0.85      0.79      4157\n",
            "\n",
            "CPU times: user 9.75 s, sys: 26.9 ms, total: 9.77 s\n",
            "Wall time: 9.78 s\n"
          ]
        }
      ]
    },
    {
      "cell_type": "markdown",
      "source": [
        "#### *Predictions*"
      ],
      "metadata": {
        "id": "cX6fDJrs-aZj"
      }
    },
    {
      "cell_type": "code",
      "source": [
        "y_predicted = model_LinearSVC.predict(X_test)\n",
        "y_predicted"
      ],
      "metadata": {
        "id": "Kf6AhlndDBxg",
        "colab": {
          "base_uri": "https://localhost:8080/"
        },
        "outputId": "bc94c6e7-ec27-4c6b-84a5-b2494cdfb51e"
      },
      "execution_count": 63,
      "outputs": [
        {
          "output_type": "execute_result",
          "data": {
            "text/plain": [
              "array([9, 0, 0, ..., 5, 0, 0], dtype=int32)"
            ]
          },
          "metadata": {},
          "execution_count": 63
        }
      ]
    },
    {
      "cell_type": "code",
      "source": [
        "predictions = pd.DataFrame(y_predicted)\n",
        "predictions"
      ],
      "metadata": {
        "id": "mfvP5viGDCPF",
        "colab": {
          "base_uri": "https://localhost:8080/",
          "height": 423
        },
        "outputId": "7665e259-e5e7-410c-a7ee-3f8192c4d188"
      },
      "execution_count": 64,
      "outputs": [
        {
          "output_type": "execute_result",
          "data": {
            "text/plain": [
              "      0\n",
              "0     9\n",
              "1     0\n",
              "2     0\n",
              "3     0\n",
              "4     0\n",
              "...  ..\n",
              "4152  0\n",
              "4153  0\n",
              "4154  5\n",
              "4155  0\n",
              "4156  0\n",
              "\n",
              "[4157 rows x 1 columns]"
            ],
            "text/html": [
              "\n",
              "  <div id=\"df-030ed6d9-8f60-4685-a199-5e3c912b3c28\">\n",
              "    <div class=\"colab-df-container\">\n",
              "      <div>\n",
              "<style scoped>\n",
              "    .dataframe tbody tr th:only-of-type {\n",
              "        vertical-align: middle;\n",
              "    }\n",
              "\n",
              "    .dataframe tbody tr th {\n",
              "        vertical-align: top;\n",
              "    }\n",
              "\n",
              "    .dataframe thead th {\n",
              "        text-align: right;\n",
              "    }\n",
              "</style>\n",
              "<table border=\"1\" class=\"dataframe\">\n",
              "  <thead>\n",
              "    <tr style=\"text-align: right;\">\n",
              "      <th></th>\n",
              "      <th>0</th>\n",
              "    </tr>\n",
              "  </thead>\n",
              "  <tbody>\n",
              "    <tr>\n",
              "      <th>0</th>\n",
              "      <td>9</td>\n",
              "    </tr>\n",
              "    <tr>\n",
              "      <th>1</th>\n",
              "      <td>0</td>\n",
              "    </tr>\n",
              "    <tr>\n",
              "      <th>2</th>\n",
              "      <td>0</td>\n",
              "    </tr>\n",
              "    <tr>\n",
              "      <th>3</th>\n",
              "      <td>0</td>\n",
              "    </tr>\n",
              "    <tr>\n",
              "      <th>4</th>\n",
              "      <td>0</td>\n",
              "    </tr>\n",
              "    <tr>\n",
              "      <th>...</th>\n",
              "      <td>...</td>\n",
              "    </tr>\n",
              "    <tr>\n",
              "      <th>4152</th>\n",
              "      <td>0</td>\n",
              "    </tr>\n",
              "    <tr>\n",
              "      <th>4153</th>\n",
              "      <td>0</td>\n",
              "    </tr>\n",
              "    <tr>\n",
              "      <th>4154</th>\n",
              "      <td>5</td>\n",
              "    </tr>\n",
              "    <tr>\n",
              "      <th>4155</th>\n",
              "      <td>0</td>\n",
              "    </tr>\n",
              "    <tr>\n",
              "      <th>4156</th>\n",
              "      <td>0</td>\n",
              "    </tr>\n",
              "  </tbody>\n",
              "</table>\n",
              "<p>4157 rows × 1 columns</p>\n",
              "</div>\n",
              "      <button class=\"colab-df-convert\" onclick=\"convertToInteractive('df-030ed6d9-8f60-4685-a199-5e3c912b3c28')\"\n",
              "              title=\"Convert this dataframe to an interactive table.\"\n",
              "              style=\"display:none;\">\n",
              "        \n",
              "  <svg xmlns=\"http://www.w3.org/2000/svg\" height=\"24px\"viewBox=\"0 0 24 24\"\n",
              "       width=\"24px\">\n",
              "    <path d=\"M0 0h24v24H0V0z\" fill=\"none\"/>\n",
              "    <path d=\"M18.56 5.44l.94 2.06.94-2.06 2.06-.94-2.06-.94-.94-2.06-.94 2.06-2.06.94zm-11 1L8.5 8.5l.94-2.06 2.06-.94-2.06-.94L8.5 2.5l-.94 2.06-2.06.94zm10 10l.94 2.06.94-2.06 2.06-.94-2.06-.94-.94-2.06-.94 2.06-2.06.94z\"/><path d=\"M17.41 7.96l-1.37-1.37c-.4-.4-.92-.59-1.43-.59-.52 0-1.04.2-1.43.59L10.3 9.45l-7.72 7.72c-.78.78-.78 2.05 0 2.83L4 21.41c.39.39.9.59 1.41.59.51 0 1.02-.2 1.41-.59l7.78-7.78 2.81-2.81c.8-.78.8-2.07 0-2.86zM5.41 20L4 18.59l7.72-7.72 1.47 1.35L5.41 20z\"/>\n",
              "  </svg>\n",
              "      </button>\n",
              "      \n",
              "  <style>\n",
              "    .colab-df-container {\n",
              "      display:flex;\n",
              "      flex-wrap:wrap;\n",
              "      gap: 12px;\n",
              "    }\n",
              "\n",
              "    .colab-df-convert {\n",
              "      background-color: #E8F0FE;\n",
              "      border: none;\n",
              "      border-radius: 50%;\n",
              "      cursor: pointer;\n",
              "      display: none;\n",
              "      fill: #1967D2;\n",
              "      height: 32px;\n",
              "      padding: 0 0 0 0;\n",
              "      width: 32px;\n",
              "    }\n",
              "\n",
              "    .colab-df-convert:hover {\n",
              "      background-color: #E2EBFA;\n",
              "      box-shadow: 0px 1px 2px rgba(60, 64, 67, 0.3), 0px 1px 3px 1px rgba(60, 64, 67, 0.15);\n",
              "      fill: #174EA6;\n",
              "    }\n",
              "\n",
              "    [theme=dark] .colab-df-convert {\n",
              "      background-color: #3B4455;\n",
              "      fill: #D2E3FC;\n",
              "    }\n",
              "\n",
              "    [theme=dark] .colab-df-convert:hover {\n",
              "      background-color: #434B5C;\n",
              "      box-shadow: 0px 1px 3px 1px rgba(0, 0, 0, 0.15);\n",
              "      filter: drop-shadow(0px 1px 2px rgba(0, 0, 0, 0.3));\n",
              "      fill: #FFFFFF;\n",
              "    }\n",
              "  </style>\n",
              "\n",
              "      <script>\n",
              "        const buttonEl =\n",
              "          document.querySelector('#df-030ed6d9-8f60-4685-a199-5e3c912b3c28 button.colab-df-convert');\n",
              "        buttonEl.style.display =\n",
              "          google.colab.kernel.accessAllowed ? 'block' : 'none';\n",
              "\n",
              "        async function convertToInteractive(key) {\n",
              "          const element = document.querySelector('#df-030ed6d9-8f60-4685-a199-5e3c912b3c28');\n",
              "          const dataTable =\n",
              "            await google.colab.kernel.invokeFunction('convertToInteractive',\n",
              "                                                     [key], {});\n",
              "          if (!dataTable) return;\n",
              "\n",
              "          const docLinkHtml = 'Like what you see? Visit the ' +\n",
              "            '<a target=\"_blank\" href=https://colab.research.google.com/notebooks/data_table.ipynb>data table notebook</a>'\n",
              "            + ' to learn more about interactive tables.';\n",
              "          element.innerHTML = '';\n",
              "          dataTable['output_type'] = 'display_data';\n",
              "          await google.colab.output.renderOutput(dataTable, element);\n",
              "          const docLink = document.createElement('div');\n",
              "          docLink.innerHTML = docLinkHtml;\n",
              "          element.appendChild(docLink);\n",
              "        }\n",
              "      </script>\n",
              "    </div>\n",
              "  </div>\n",
              "  "
            ]
          },
          "metadata": {},
          "execution_count": 64
        }
      ]
    },
    {
      "cell_type": "markdown",
      "source": [
        "#### *Conclusion*"
      ],
      "metadata": {
        "id": "1SKAX79eVe4y"
      }
    },
    {
      "cell_type": "markdown",
      "source": [
        "*This project aimed to classify text paragraphs into product attribute labels. The data was meticulously cleaned and duplicates were grouped, resulting in 225 unique labels. Semantic relationships were extracted using Word2Vec and K-means, identifying the top 50 features.*\n",
        "\n",
        "*The performance of five machine learning models, namely KNN, AdaBoost, Decision Tree, Linear SVC, and Logistic Regression, was evaluated. Among them, the Linear SVC algorithm stood out as the top performer, boasting an impressive accuracy of 96%.*\n",
        "\n",
        "*Overall, this project showcases the effectiveness of employing natural language processing and machine learning techniques in accurately classifying text.*"
      ],
      "metadata": {
        "id": "r-A36myTSzbU"
      }
    }
  ],
  "metadata": {
    "colab": {
      "provenance": [],
      "include_colab_link": true
    },
    "gpuClass": "standard",
    "kernelspec": {
      "display_name": "Python 3",
      "name": "python3"
    },
    "language_info": {
      "name": "python"
    }
  },
  "nbformat": 4,
  "nbformat_minor": 0
}
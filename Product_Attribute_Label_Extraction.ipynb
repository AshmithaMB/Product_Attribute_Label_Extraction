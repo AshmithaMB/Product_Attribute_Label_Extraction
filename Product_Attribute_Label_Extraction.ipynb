{
  "cells": [
    {
      "cell_type": "markdown",
      "metadata": {
        "id": "view-in-github",
        "colab_type": "text"
      },
      "source": [
        "<a href=\"https://colab.research.google.com/github/AshmithaMB/Text-Classification/blob/main/Product_Attribute_Label_Extraction.ipynb\" target=\"_parent\"><img src=\"https://colab.research.google.com/assets/colab-badge.svg\" alt=\"Open In Colab\"/></a>"
      ]
    },
    {
      "cell_type": "markdown",
      "metadata": {
        "id": "0VLd4V2GaGbt"
      },
      "source": [
        "####***Project Statement & Project Overview***\n",
        "\n",
        "> *The objective of this project is to develop a machine learning model for text classification, specifically focusing on product attributes. The model will be trained on a dataset consisting of text paragraphs describing various product features and attributes.*\n",
        "\n",
        "> *By leveraging natural language processing (NLP) techniques and advanced machine learning algorithms, the project aims to automate the categorization of product attributes, enabling efficient analysis and organization of product data*"
      ]
    },
    {
      "cell_type": "markdown",
      "metadata": {
        "id": "5ELKcydTbCR0"
      },
      "source": [
        "  ##### ***The Input file consists of two csv files:***\n",
        "\n",
        "1. ***train_data.csv:***\n",
        " > *This file is used for training and contains two fields, namely \"text\" and \"id\".*\n",
        "\n",
        " > *The \"text\" field holds the input data, while the \"id\" field is a unique number assigned to each text.*\n",
        "\n",
        " > *This \"id\" serves as a reference to link the text with its corresponding labels in the \"train_label.csv\" file.*\n",
        "\n",
        "2. ***train_label.csv :***\n",
        "\n",
        " > *This file contains two fields, \"id\" and \"label\". The \"id\" field in this file corresponds to the \"id\" field in the \"train_data.csv\" file.*\n",
        "\n",
        " > *It acts as a key to match the labels with the respective input texts.*\n",
        "\n",
        " > *The \"label\" field holds the corresponding labels for each text identified by the \"id\".*"
      ]
    },
    {
      "cell_type": "markdown",
      "metadata": {
        "id": "1RK9ywB03YEy"
      },
      "source": [
        "### ***Importing the Libraries***"
      ]
    },
    {
      "cell_type": "code",
      "execution_count": 1,
      "metadata": {
        "colab": {
          "base_uri": "https://localhost:8080/"
        },
        "id": "SQcNFQOP9jox",
        "outputId": "dbd27ebc-f6d6-4fed-ad82-47033297315f"
      },
      "outputs": [
        {
          "output_type": "stream",
          "name": "stderr",
          "text": [
            "[nltk_data] Downloading package punkt to /root/nltk_data...\n",
            "[nltk_data]   Unzipping tokenizers/punkt.zip.\n",
            "[nltk_data] Downloading package stopwords to /root/nltk_data...\n",
            "[nltk_data]   Unzipping corpora/stopwords.zip.\n",
            "[nltk_data] Downloading package wordnet to /root/nltk_data...\n"
          ]
        }
      ],
      "source": [
        "import pandas as pd\n",
        "import numpy as np\n",
        "import nltk\n",
        "nltk.download(\"punkt\")\n",
        "nltk.download(\"stopwords\")\n",
        "nltk.download('wordnet')\n",
        "from nltk.corpus import stopwords\n",
        "from nltk.tokenize import word_tokenize\n",
        "from nltk.stem import WordNetLemmatizer\n",
        "import string\n",
        "\n",
        "import matplotlib.pyplot as plt\n",
        "import seaborn as sns\n",
        "from wordcloud import WordCloud\n",
        "\n",
        "from gensim.models import Word2Vec\n",
        "\n",
        "from sklearn.cluster import KMeans\n",
        "\n",
        "from sklearn.linear_model import LogisticRegression\n",
        "from sklearn.svm import LinearSVC, SVC\n",
        "from sklearn.tree import DecisionTreeClassifier\n",
        "from sklearn.ensemble import AdaBoostClassifier\n",
        "from sklearn.neighbors import KNeighborsClassifier\n",
        "\n",
        "from sklearn.model_selection import train_test_split\n",
        "from sklearn.pipeline import Pipeline\n",
        "from sklearn.feature_extraction.text import TfidfVectorizer, TfidfTransformer, CountVectorizer\n",
        "from sklearn.metrics import accuracy_score, confusion_matrix, classification_report\n",
        "\n",
        "import warnings\n",
        "warnings.filterwarnings(\"ignore\", category=UserWarning)"
      ]
    },
    {
      "cell_type": "markdown",
      "metadata": {
        "id": "rPwbPuFZCpZt"
      },
      "source": [
        "### *Loading the CSV files*"
      ]
    },
    {
      "cell_type": "code",
      "execution_count": 2,
      "metadata": {
        "colab": {
          "base_uri": "https://localhost:8080/",
          "height": 81
        },
        "id": "GbQyD2o3-Piv",
        "outputId": "b0944e55-e13c-4801-bc1d-bc410753d465"
      },
      "outputs": [
        {
          "output_type": "execute_result",
          "data": {
            "text/plain": [
              "                                                text      id\n",
              "0  Keep your gloves, hats, coats and jackets toge...  122885"
            ],
            "text/html": [
              "\n",
              "  <div id=\"df-5c5787fd-e3fd-40bb-9622-e78eec0d9b5e\">\n",
              "    <div class=\"colab-df-container\">\n",
              "      <div>\n",
              "<style scoped>\n",
              "    .dataframe tbody tr th:only-of-type {\n",
              "        vertical-align: middle;\n",
              "    }\n",
              "\n",
              "    .dataframe tbody tr th {\n",
              "        vertical-align: top;\n",
              "    }\n",
              "\n",
              "    .dataframe thead th {\n",
              "        text-align: right;\n",
              "    }\n",
              "</style>\n",
              "<table border=\"1\" class=\"dataframe\">\n",
              "  <thead>\n",
              "    <tr style=\"text-align: right;\">\n",
              "      <th></th>\n",
              "      <th>text</th>\n",
              "      <th>id</th>\n",
              "    </tr>\n",
              "  </thead>\n",
              "  <tbody>\n",
              "    <tr>\n",
              "      <th>0</th>\n",
              "      <td>Keep your gloves, hats, coats and jackets toge...</td>\n",
              "      <td>122885</td>\n",
              "    </tr>\n",
              "  </tbody>\n",
              "</table>\n",
              "</div>\n",
              "      <button class=\"colab-df-convert\" onclick=\"convertToInteractive('df-5c5787fd-e3fd-40bb-9622-e78eec0d9b5e')\"\n",
              "              title=\"Convert this dataframe to an interactive table.\"\n",
              "              style=\"display:none;\">\n",
              "        \n",
              "  <svg xmlns=\"http://www.w3.org/2000/svg\" height=\"24px\"viewBox=\"0 0 24 24\"\n",
              "       width=\"24px\">\n",
              "    <path d=\"M0 0h24v24H0V0z\" fill=\"none\"/>\n",
              "    <path d=\"M18.56 5.44l.94 2.06.94-2.06 2.06-.94-2.06-.94-.94-2.06-.94 2.06-2.06.94zm-11 1L8.5 8.5l.94-2.06 2.06-.94-2.06-.94L8.5 2.5l-.94 2.06-2.06.94zm10 10l.94 2.06.94-2.06 2.06-.94-2.06-.94-.94-2.06-.94 2.06-2.06.94z\"/><path d=\"M17.41 7.96l-1.37-1.37c-.4-.4-.92-.59-1.43-.59-.52 0-1.04.2-1.43.59L10.3 9.45l-7.72 7.72c-.78.78-.78 2.05 0 2.83L4 21.41c.39.39.9.59 1.41.59.51 0 1.02-.2 1.41-.59l7.78-7.78 2.81-2.81c.8-.78.8-2.07 0-2.86zM5.41 20L4 18.59l7.72-7.72 1.47 1.35L5.41 20z\"/>\n",
              "  </svg>\n",
              "      </button>\n",
              "      \n",
              "  <style>\n",
              "    .colab-df-container {\n",
              "      display:flex;\n",
              "      flex-wrap:wrap;\n",
              "      gap: 12px;\n",
              "    }\n",
              "\n",
              "    .colab-df-convert {\n",
              "      background-color: #E8F0FE;\n",
              "      border: none;\n",
              "      border-radius: 50%;\n",
              "      cursor: pointer;\n",
              "      display: none;\n",
              "      fill: #1967D2;\n",
              "      height: 32px;\n",
              "      padding: 0 0 0 0;\n",
              "      width: 32px;\n",
              "    }\n",
              "\n",
              "    .colab-df-convert:hover {\n",
              "      background-color: #E2EBFA;\n",
              "      box-shadow: 0px 1px 2px rgba(60, 64, 67, 0.3), 0px 1px 3px 1px rgba(60, 64, 67, 0.15);\n",
              "      fill: #174EA6;\n",
              "    }\n",
              "\n",
              "    [theme=dark] .colab-df-convert {\n",
              "      background-color: #3B4455;\n",
              "      fill: #D2E3FC;\n",
              "    }\n",
              "\n",
              "    [theme=dark] .colab-df-convert:hover {\n",
              "      background-color: #434B5C;\n",
              "      box-shadow: 0px 1px 3px 1px rgba(0, 0, 0, 0.15);\n",
              "      filter: drop-shadow(0px 1px 2px rgba(0, 0, 0, 0.3));\n",
              "      fill: #FFFFFF;\n",
              "    }\n",
              "  </style>\n",
              "\n",
              "      <script>\n",
              "        const buttonEl =\n",
              "          document.querySelector('#df-5c5787fd-e3fd-40bb-9622-e78eec0d9b5e button.colab-df-convert');\n",
              "        buttonEl.style.display =\n",
              "          google.colab.kernel.accessAllowed ? 'block' : 'none';\n",
              "\n",
              "        async function convertToInteractive(key) {\n",
              "          const element = document.querySelector('#df-5c5787fd-e3fd-40bb-9622-e78eec0d9b5e');\n",
              "          const dataTable =\n",
              "            await google.colab.kernel.invokeFunction('convertToInteractive',\n",
              "                                                     [key], {});\n",
              "          if (!dataTable) return;\n",
              "\n",
              "          const docLinkHtml = 'Like what you see? Visit the ' +\n",
              "            '<a target=\"_blank\" href=https://colab.research.google.com/notebooks/data_table.ipynb>data table notebook</a>'\n",
              "            + ' to learn more about interactive tables.';\n",
              "          element.innerHTML = '';\n",
              "          dataTable['output_type'] = 'display_data';\n",
              "          await google.colab.output.renderOutput(dataTable, element);\n",
              "          const docLink = document.createElement('div');\n",
              "          docLink.innerHTML = docLinkHtml;\n",
              "          element.appendChild(docLink);\n",
              "        }\n",
              "      </script>\n",
              "    </div>\n",
              "  </div>\n",
              "  "
            ]
          },
          "metadata": {},
          "execution_count": 2
        }
      ],
      "source": [
        "data = pd.read_csv(\"train_data.csv\", encoding='UTF-8')\n",
        "data.head(1)"
      ]
    },
    {
      "cell_type": "code",
      "execution_count": 3,
      "metadata": {
        "colab": {
          "base_uri": "https://localhost:8080/",
          "height": 206
        },
        "id": "5JHNhuM0xjSE",
        "outputId": "236a2521-ded0-41ca-e9c3-d8627277e7df"
      },
      "outputs": [
        {
          "output_type": "execute_result",
          "data": {
            "text/plain": [
              "       id                  label\n",
              "0  100003                  Shape\n",
              "1  100004        Voltage (volts)\n",
              "2  100004        Wattage (watts)\n",
              "3  100006        Wattage (watts)\n",
              "4  100007  ENERGY STAR Certified"
            ],
            "text/html": [
              "\n",
              "  <div id=\"df-8f53791b-4c7d-4f9b-a703-fd7d76592e29\">\n",
              "    <div class=\"colab-df-container\">\n",
              "      <div>\n",
              "<style scoped>\n",
              "    .dataframe tbody tr th:only-of-type {\n",
              "        vertical-align: middle;\n",
              "    }\n",
              "\n",
              "    .dataframe tbody tr th {\n",
              "        vertical-align: top;\n",
              "    }\n",
              "\n",
              "    .dataframe thead th {\n",
              "        text-align: right;\n",
              "    }\n",
              "</style>\n",
              "<table border=\"1\" class=\"dataframe\">\n",
              "  <thead>\n",
              "    <tr style=\"text-align: right;\">\n",
              "      <th></th>\n",
              "      <th>id</th>\n",
              "      <th>label</th>\n",
              "    </tr>\n",
              "  </thead>\n",
              "  <tbody>\n",
              "    <tr>\n",
              "      <th>0</th>\n",
              "      <td>100003</td>\n",
              "      <td>Shape</td>\n",
              "    </tr>\n",
              "    <tr>\n",
              "      <th>1</th>\n",
              "      <td>100004</td>\n",
              "      <td>Voltage (volts)</td>\n",
              "    </tr>\n",
              "    <tr>\n",
              "      <th>2</th>\n",
              "      <td>100004</td>\n",
              "      <td>Wattage (watts)</td>\n",
              "    </tr>\n",
              "    <tr>\n",
              "      <th>3</th>\n",
              "      <td>100006</td>\n",
              "      <td>Wattage (watts)</td>\n",
              "    </tr>\n",
              "    <tr>\n",
              "      <th>4</th>\n",
              "      <td>100007</td>\n",
              "      <td>ENERGY STAR Certified</td>\n",
              "    </tr>\n",
              "  </tbody>\n",
              "</table>\n",
              "</div>\n",
              "      <button class=\"colab-df-convert\" onclick=\"convertToInteractive('df-8f53791b-4c7d-4f9b-a703-fd7d76592e29')\"\n",
              "              title=\"Convert this dataframe to an interactive table.\"\n",
              "              style=\"display:none;\">\n",
              "        \n",
              "  <svg xmlns=\"http://www.w3.org/2000/svg\" height=\"24px\"viewBox=\"0 0 24 24\"\n",
              "       width=\"24px\">\n",
              "    <path d=\"M0 0h24v24H0V0z\" fill=\"none\"/>\n",
              "    <path d=\"M18.56 5.44l.94 2.06.94-2.06 2.06-.94-2.06-.94-.94-2.06-.94 2.06-2.06.94zm-11 1L8.5 8.5l.94-2.06 2.06-.94-2.06-.94L8.5 2.5l-.94 2.06-2.06.94zm10 10l.94 2.06.94-2.06 2.06-.94-2.06-.94-.94-2.06-.94 2.06-2.06.94z\"/><path d=\"M17.41 7.96l-1.37-1.37c-.4-.4-.92-.59-1.43-.59-.52 0-1.04.2-1.43.59L10.3 9.45l-7.72 7.72c-.78.78-.78 2.05 0 2.83L4 21.41c.39.39.9.59 1.41.59.51 0 1.02-.2 1.41-.59l7.78-7.78 2.81-2.81c.8-.78.8-2.07 0-2.86zM5.41 20L4 18.59l7.72-7.72 1.47 1.35L5.41 20z\"/>\n",
              "  </svg>\n",
              "      </button>\n",
              "      \n",
              "  <style>\n",
              "    .colab-df-container {\n",
              "      display:flex;\n",
              "      flex-wrap:wrap;\n",
              "      gap: 12px;\n",
              "    }\n",
              "\n",
              "    .colab-df-convert {\n",
              "      background-color: #E8F0FE;\n",
              "      border: none;\n",
              "      border-radius: 50%;\n",
              "      cursor: pointer;\n",
              "      display: none;\n",
              "      fill: #1967D2;\n",
              "      height: 32px;\n",
              "      padding: 0 0 0 0;\n",
              "      width: 32px;\n",
              "    }\n",
              "\n",
              "    .colab-df-convert:hover {\n",
              "      background-color: #E2EBFA;\n",
              "      box-shadow: 0px 1px 2px rgba(60, 64, 67, 0.3), 0px 1px 3px 1px rgba(60, 64, 67, 0.15);\n",
              "      fill: #174EA6;\n",
              "    }\n",
              "\n",
              "    [theme=dark] .colab-df-convert {\n",
              "      background-color: #3B4455;\n",
              "      fill: #D2E3FC;\n",
              "    }\n",
              "\n",
              "    [theme=dark] .colab-df-convert:hover {\n",
              "      background-color: #434B5C;\n",
              "      box-shadow: 0px 1px 3px 1px rgba(0, 0, 0, 0.15);\n",
              "      filter: drop-shadow(0px 1px 2px rgba(0, 0, 0, 0.3));\n",
              "      fill: #FFFFFF;\n",
              "    }\n",
              "  </style>\n",
              "\n",
              "      <script>\n",
              "        const buttonEl =\n",
              "          document.querySelector('#df-8f53791b-4c7d-4f9b-a703-fd7d76592e29 button.colab-df-convert');\n",
              "        buttonEl.style.display =\n",
              "          google.colab.kernel.accessAllowed ? 'block' : 'none';\n",
              "\n",
              "        async function convertToInteractive(key) {\n",
              "          const element = document.querySelector('#df-8f53791b-4c7d-4f9b-a703-fd7d76592e29');\n",
              "          const dataTable =\n",
              "            await google.colab.kernel.invokeFunction('convertToInteractive',\n",
              "                                                     [key], {});\n",
              "          if (!dataTable) return;\n",
              "\n",
              "          const docLinkHtml = 'Like what you see? Visit the ' +\n",
              "            '<a target=\"_blank\" href=https://colab.research.google.com/notebooks/data_table.ipynb>data table notebook</a>'\n",
              "            + ' to learn more about interactive tables.';\n",
              "          element.innerHTML = '';\n",
              "          dataTable['output_type'] = 'display_data';\n",
              "          await google.colab.output.renderOutput(dataTable, element);\n",
              "          const docLink = document.createElement('div');\n",
              "          docLink.innerHTML = docLinkHtml;\n",
              "          element.appendChild(docLink);\n",
              "        }\n",
              "      </script>\n",
              "    </div>\n",
              "  </div>\n",
              "  "
            ]
          },
          "metadata": {},
          "execution_count": 3
        }
      ],
      "source": [
        "datalabels = pd.read_csv(\"train_label.csv\", encoding='latin-1')\n",
        "datalabels.head(5)"
      ]
    },
    {
      "cell_type": "markdown",
      "metadata": {
        "id": "RSvjEd5I3DuW"
      },
      "source": [
        "### *Merging the DataFarmes*"
      ]
    },
    {
      "cell_type": "code",
      "execution_count": 4,
      "metadata": {
        "colab": {
          "base_uri": "https://localhost:8080/",
          "height": 423
        },
        "id": "C8Mi5_i-5UyD",
        "outputId": "4cd395f8-3294-449a-d093-5e2337df61e5"
      },
      "outputs": [
        {
          "output_type": "execute_result",
          "data": {
            "text/plain": [
              "                                                    text      id  \\\n",
              "0      Keep your gloves, hats, coats and jackets toge...  122885   \n",
              "1      Keep your gloves, hats, coats and jackets toge...  122885   \n",
              "2      Keep your gloves, hats, coats and jackets toge...  122885   \n",
              "3      The Home Dynamix Serendipity Ivory 5 ft. 2 in....  188958   \n",
              "4      The Home Dynamix Serendipity Ivory 5 ft. 2 in....  188958   \n",
              "...                                                  ...     ...   \n",
              "75165  This industrial grade anti-fatigue mat is engi...  171764   \n",
              "75166  This industrial grade anti-fatigue mat is engi...  171764   \n",
              "75167  This industrial grade anti-fatigue mat is engi...  171764   \n",
              "75168  The Nite Ize LED Upgrade Kit converts most C/D...  117326   \n",
              "75169  For the most comprehensive selection of nails ...  160856   \n",
              "\n",
              "                          label  \n",
              "0             Assembly Required  \n",
              "1                        Finish  \n",
              "2             Hardware Included  \n",
              "3      Commercial / Residential  \n",
              "4                      Features  \n",
              "...                         ...  \n",
              "75165                  Features  \n",
              "75166     Flooring Product Type  \n",
              "75167            Indoor/Outdoor  \n",
              "75168          Package Quantity  \n",
              "75169          Package Quantity  \n",
              "\n",
              "[75170 rows x 3 columns]"
            ],
            "text/html": [
              "\n",
              "  <div id=\"df-79c618c9-863c-4ea6-ba35-efaf7923c123\">\n",
              "    <div class=\"colab-df-container\">\n",
              "      <div>\n",
              "<style scoped>\n",
              "    .dataframe tbody tr th:only-of-type {\n",
              "        vertical-align: middle;\n",
              "    }\n",
              "\n",
              "    .dataframe tbody tr th {\n",
              "        vertical-align: top;\n",
              "    }\n",
              "\n",
              "    .dataframe thead th {\n",
              "        text-align: right;\n",
              "    }\n",
              "</style>\n",
              "<table border=\"1\" class=\"dataframe\">\n",
              "  <thead>\n",
              "    <tr style=\"text-align: right;\">\n",
              "      <th></th>\n",
              "      <th>text</th>\n",
              "      <th>id</th>\n",
              "      <th>label</th>\n",
              "    </tr>\n",
              "  </thead>\n",
              "  <tbody>\n",
              "    <tr>\n",
              "      <th>0</th>\n",
              "      <td>Keep your gloves, hats, coats and jackets toge...</td>\n",
              "      <td>122885</td>\n",
              "      <td>Assembly Required</td>\n",
              "    </tr>\n",
              "    <tr>\n",
              "      <th>1</th>\n",
              "      <td>Keep your gloves, hats, coats and jackets toge...</td>\n",
              "      <td>122885</td>\n",
              "      <td>Finish</td>\n",
              "    </tr>\n",
              "    <tr>\n",
              "      <th>2</th>\n",
              "      <td>Keep your gloves, hats, coats and jackets toge...</td>\n",
              "      <td>122885</td>\n",
              "      <td>Hardware Included</td>\n",
              "    </tr>\n",
              "    <tr>\n",
              "      <th>3</th>\n",
              "      <td>The Home Dynamix Serendipity Ivory 5 ft. 2 in....</td>\n",
              "      <td>188958</td>\n",
              "      <td>Commercial / Residential</td>\n",
              "    </tr>\n",
              "    <tr>\n",
              "      <th>4</th>\n",
              "      <td>The Home Dynamix Serendipity Ivory 5 ft. 2 in....</td>\n",
              "      <td>188958</td>\n",
              "      <td>Features</td>\n",
              "    </tr>\n",
              "    <tr>\n",
              "      <th>...</th>\n",
              "      <td>...</td>\n",
              "      <td>...</td>\n",
              "      <td>...</td>\n",
              "    </tr>\n",
              "    <tr>\n",
              "      <th>75165</th>\n",
              "      <td>This industrial grade anti-fatigue mat is engi...</td>\n",
              "      <td>171764</td>\n",
              "      <td>Features</td>\n",
              "    </tr>\n",
              "    <tr>\n",
              "      <th>75166</th>\n",
              "      <td>This industrial grade anti-fatigue mat is engi...</td>\n",
              "      <td>171764</td>\n",
              "      <td>Flooring Product Type</td>\n",
              "    </tr>\n",
              "    <tr>\n",
              "      <th>75167</th>\n",
              "      <td>This industrial grade anti-fatigue mat is engi...</td>\n",
              "      <td>171764</td>\n",
              "      <td>Indoor/Outdoor</td>\n",
              "    </tr>\n",
              "    <tr>\n",
              "      <th>75168</th>\n",
              "      <td>The Nite Ize LED Upgrade Kit converts most C/D...</td>\n",
              "      <td>117326</td>\n",
              "      <td>Package Quantity</td>\n",
              "    </tr>\n",
              "    <tr>\n",
              "      <th>75169</th>\n",
              "      <td>For the most comprehensive selection of nails ...</td>\n",
              "      <td>160856</td>\n",
              "      <td>Package Quantity</td>\n",
              "    </tr>\n",
              "  </tbody>\n",
              "</table>\n",
              "<p>75170 rows × 3 columns</p>\n",
              "</div>\n",
              "      <button class=\"colab-df-convert\" onclick=\"convertToInteractive('df-79c618c9-863c-4ea6-ba35-efaf7923c123')\"\n",
              "              title=\"Convert this dataframe to an interactive table.\"\n",
              "              style=\"display:none;\">\n",
              "        \n",
              "  <svg xmlns=\"http://www.w3.org/2000/svg\" height=\"24px\"viewBox=\"0 0 24 24\"\n",
              "       width=\"24px\">\n",
              "    <path d=\"M0 0h24v24H0V0z\" fill=\"none\"/>\n",
              "    <path d=\"M18.56 5.44l.94 2.06.94-2.06 2.06-.94-2.06-.94-.94-2.06-.94 2.06-2.06.94zm-11 1L8.5 8.5l.94-2.06 2.06-.94-2.06-.94L8.5 2.5l-.94 2.06-2.06.94zm10 10l.94 2.06.94-2.06 2.06-.94-2.06-.94-.94-2.06-.94 2.06-2.06.94z\"/><path d=\"M17.41 7.96l-1.37-1.37c-.4-.4-.92-.59-1.43-.59-.52 0-1.04.2-1.43.59L10.3 9.45l-7.72 7.72c-.78.78-.78 2.05 0 2.83L4 21.41c.39.39.9.59 1.41.59.51 0 1.02-.2 1.41-.59l7.78-7.78 2.81-2.81c.8-.78.8-2.07 0-2.86zM5.41 20L4 18.59l7.72-7.72 1.47 1.35L5.41 20z\"/>\n",
              "  </svg>\n",
              "      </button>\n",
              "      \n",
              "  <style>\n",
              "    .colab-df-container {\n",
              "      display:flex;\n",
              "      flex-wrap:wrap;\n",
              "      gap: 12px;\n",
              "    }\n",
              "\n",
              "    .colab-df-convert {\n",
              "      background-color: #E8F0FE;\n",
              "      border: none;\n",
              "      border-radius: 50%;\n",
              "      cursor: pointer;\n",
              "      display: none;\n",
              "      fill: #1967D2;\n",
              "      height: 32px;\n",
              "      padding: 0 0 0 0;\n",
              "      width: 32px;\n",
              "    }\n",
              "\n",
              "    .colab-df-convert:hover {\n",
              "      background-color: #E2EBFA;\n",
              "      box-shadow: 0px 1px 2px rgba(60, 64, 67, 0.3), 0px 1px 3px 1px rgba(60, 64, 67, 0.15);\n",
              "      fill: #174EA6;\n",
              "    }\n",
              "\n",
              "    [theme=dark] .colab-df-convert {\n",
              "      background-color: #3B4455;\n",
              "      fill: #D2E3FC;\n",
              "    }\n",
              "\n",
              "    [theme=dark] .colab-df-convert:hover {\n",
              "      background-color: #434B5C;\n",
              "      box-shadow: 0px 1px 3px 1px rgba(0, 0, 0, 0.15);\n",
              "      filter: drop-shadow(0px 1px 2px rgba(0, 0, 0, 0.3));\n",
              "      fill: #FFFFFF;\n",
              "    }\n",
              "  </style>\n",
              "\n",
              "      <script>\n",
              "        const buttonEl =\n",
              "          document.querySelector('#df-79c618c9-863c-4ea6-ba35-efaf7923c123 button.colab-df-convert');\n",
              "        buttonEl.style.display =\n",
              "          google.colab.kernel.accessAllowed ? 'block' : 'none';\n",
              "\n",
              "        async function convertToInteractive(key) {\n",
              "          const element = document.querySelector('#df-79c618c9-863c-4ea6-ba35-efaf7923c123');\n",
              "          const dataTable =\n",
              "            await google.colab.kernel.invokeFunction('convertToInteractive',\n",
              "                                                     [key], {});\n",
              "          if (!dataTable) return;\n",
              "\n",
              "          const docLinkHtml = 'Like what you see? Visit the ' +\n",
              "            '<a target=\"_blank\" href=https://colab.research.google.com/notebooks/data_table.ipynb>data table notebook</a>'\n",
              "            + ' to learn more about interactive tables.';\n",
              "          element.innerHTML = '';\n",
              "          dataTable['output_type'] = 'display_data';\n",
              "          await google.colab.output.renderOutput(dataTable, element);\n",
              "          const docLink = document.createElement('div');\n",
              "          docLink.innerHTML = docLinkHtml;\n",
              "          element.appendChild(docLink);\n",
              "        }\n",
              "      </script>\n",
              "    </div>\n",
              "  </div>\n",
              "  "
            ]
          },
          "metadata": {},
          "execution_count": 4
        }
      ],
      "source": [
        "df = pd.merge(data, datalabels, on='id')\n",
        "df"
      ]
    },
    {
      "cell_type": "markdown",
      "source": [
        "#### *Data Cleaning*\n",
        "* *The original dataframe contained duplicated texts with unique labels associated with them.*\n",
        "\n",
        "* *To address this, I grouped the dataframe based on the texts and aggregated the labels.*\n",
        "\n",
        "* *This allowed to create a new dataframe with unique text values and their corresponding aggregated labels.*\n",
        "\n",
        "* *Initially, the original dataframe had 15 unique labels. However, due to the duplication of texts, the new dataframe may have additional unique labels.*\n",
        "\n",
        "* *The IDs associated with the texts were not necessary for building the model, so they were not included in the new dataframe.*\n",
        "> *The resulting dataframe would have unique texts, but the labels might not be unique.*"
      ],
      "metadata": {
        "id": "VI9xZvh5bmj1"
      }
    },
    {
      "cell_type": "code",
      "source": [
        "df_grouped = df.groupby('text').agg({'id': list, 'label': lambda x: ', '.join(set(x))}).reset_index()\n",
        "df_grouped['labels'] = df_grouped['label']\n",
        "final_df = df_grouped[['text', 'labels']]"
      ],
      "metadata": {
        "id": "9np_HH-8Mcvf"
      },
      "execution_count": 5,
      "outputs": []
    },
    {
      "cell_type": "code",
      "source": [
        "final_df"
      ],
      "metadata": {
        "colab": {
          "base_uri": "https://localhost:8080/",
          "height": 423
        },
        "id": "CKXPwRk_MeYi",
        "outputId": "b8406830-aa15-4fc6-d7f7-88f47cf061dc"
      },
      "execution_count": 6,
      "outputs": [
        {
          "output_type": "execute_result",
          "data": {
            "text/plain": [
              "                                                    text  \\\n",
              "0      \"Constructor\" Prelude door locks feature moder...   \n",
              "1      \"Constructor\" Prelude door locks feature moder...   \n",
              "2      \"Constructor\" offers premium classic style doo...   \n",
              "3      \"Constructor\" offers premium classic style doo...   \n",
              "4      \"Constructor\" offers premium classic style doo...   \n",
              "...                                                  ...   \n",
              "41564  the great outdoors by Minka Lavery Irvington M...   \n",
              "41565  the great outdoors by Minka Lavery Irvington M...   \n",
              "41566  the great outdoors by Minka Lavery Irvington M...   \n",
              "41567  the great outdoors by Minka Lavery Irvington M...   \n",
              "41568  the great outdoors by Minka Lavery Irvington M...   \n",
              "\n",
              "                                       labels  \n",
              "0                   Hardware Included, Finish  \n",
              "1                   Hardware Included, Finish  \n",
              "2                   Hardware Included, Finish  \n",
              "3                   Hardware Included, Finish  \n",
              "4                   Hardware Included, Finish  \n",
              "...                                       ...  \n",
              "41564  ENERGY STAR Certified, Wattage (watts)  \n",
              "41565  ENERGY STAR Certified, Wattage (watts)  \n",
              "41566  ENERGY STAR Certified, Wattage (watts)  \n",
              "41567  ENERGY STAR Certified, Wattage (watts)  \n",
              "41568  ENERGY STAR Certified, Wattage (watts)  \n",
              "\n",
              "[41569 rows x 2 columns]"
            ],
            "text/html": [
              "\n",
              "  <div id=\"df-77ccebc5-3e9f-4c73-893b-ccc09506607d\">\n",
              "    <div class=\"colab-df-container\">\n",
              "      <div>\n",
              "<style scoped>\n",
              "    .dataframe tbody tr th:only-of-type {\n",
              "        vertical-align: middle;\n",
              "    }\n",
              "\n",
              "    .dataframe tbody tr th {\n",
              "        vertical-align: top;\n",
              "    }\n",
              "\n",
              "    .dataframe thead th {\n",
              "        text-align: right;\n",
              "    }\n",
              "</style>\n",
              "<table border=\"1\" class=\"dataframe\">\n",
              "  <thead>\n",
              "    <tr style=\"text-align: right;\">\n",
              "      <th></th>\n",
              "      <th>text</th>\n",
              "      <th>labels</th>\n",
              "    </tr>\n",
              "  </thead>\n",
              "  <tbody>\n",
              "    <tr>\n",
              "      <th>0</th>\n",
              "      <td>\"Constructor\" Prelude door locks feature moder...</td>\n",
              "      <td>Hardware Included, Finish</td>\n",
              "    </tr>\n",
              "    <tr>\n",
              "      <th>1</th>\n",
              "      <td>\"Constructor\" Prelude door locks feature moder...</td>\n",
              "      <td>Hardware Included, Finish</td>\n",
              "    </tr>\n",
              "    <tr>\n",
              "      <th>2</th>\n",
              "      <td>\"Constructor\" offers premium classic style doo...</td>\n",
              "      <td>Hardware Included, Finish</td>\n",
              "    </tr>\n",
              "    <tr>\n",
              "      <th>3</th>\n",
              "      <td>\"Constructor\" offers premium classic style doo...</td>\n",
              "      <td>Hardware Included, Finish</td>\n",
              "    </tr>\n",
              "    <tr>\n",
              "      <th>4</th>\n",
              "      <td>\"Constructor\" offers premium classic style doo...</td>\n",
              "      <td>Hardware Included, Finish</td>\n",
              "    </tr>\n",
              "    <tr>\n",
              "      <th>...</th>\n",
              "      <td>...</td>\n",
              "      <td>...</td>\n",
              "    </tr>\n",
              "    <tr>\n",
              "      <th>41564</th>\n",
              "      <td>the great outdoors by Minka Lavery Irvington M...</td>\n",
              "      <td>ENERGY STAR Certified, Wattage (watts)</td>\n",
              "    </tr>\n",
              "    <tr>\n",
              "      <th>41565</th>\n",
              "      <td>the great outdoors by Minka Lavery Irvington M...</td>\n",
              "      <td>ENERGY STAR Certified, Wattage (watts)</td>\n",
              "    </tr>\n",
              "    <tr>\n",
              "      <th>41566</th>\n",
              "      <td>the great outdoors by Minka Lavery Irvington M...</td>\n",
              "      <td>ENERGY STAR Certified, Wattage (watts)</td>\n",
              "    </tr>\n",
              "    <tr>\n",
              "      <th>41567</th>\n",
              "      <td>the great outdoors by Minka Lavery Irvington M...</td>\n",
              "      <td>ENERGY STAR Certified, Wattage (watts)</td>\n",
              "    </tr>\n",
              "    <tr>\n",
              "      <th>41568</th>\n",
              "      <td>the great outdoors by Minka Lavery Irvington M...</td>\n",
              "      <td>ENERGY STAR Certified, Wattage (watts)</td>\n",
              "    </tr>\n",
              "  </tbody>\n",
              "</table>\n",
              "<p>41569 rows × 2 columns</p>\n",
              "</div>\n",
              "      <button class=\"colab-df-convert\" onclick=\"convertToInteractive('df-77ccebc5-3e9f-4c73-893b-ccc09506607d')\"\n",
              "              title=\"Convert this dataframe to an interactive table.\"\n",
              "              style=\"display:none;\">\n",
              "        \n",
              "  <svg xmlns=\"http://www.w3.org/2000/svg\" height=\"24px\"viewBox=\"0 0 24 24\"\n",
              "       width=\"24px\">\n",
              "    <path d=\"M0 0h24v24H0V0z\" fill=\"none\"/>\n",
              "    <path d=\"M18.56 5.44l.94 2.06.94-2.06 2.06-.94-2.06-.94-.94-2.06-.94 2.06-2.06.94zm-11 1L8.5 8.5l.94-2.06 2.06-.94-2.06-.94L8.5 2.5l-.94 2.06-2.06.94zm10 10l.94 2.06.94-2.06 2.06-.94-2.06-.94-.94-2.06-.94 2.06-2.06.94z\"/><path d=\"M17.41 7.96l-1.37-1.37c-.4-.4-.92-.59-1.43-.59-.52 0-1.04.2-1.43.59L10.3 9.45l-7.72 7.72c-.78.78-.78 2.05 0 2.83L4 21.41c.39.39.9.59 1.41.59.51 0 1.02-.2 1.41-.59l7.78-7.78 2.81-2.81c.8-.78.8-2.07 0-2.86zM5.41 20L4 18.59l7.72-7.72 1.47 1.35L5.41 20z\"/>\n",
              "  </svg>\n",
              "      </button>\n",
              "      \n",
              "  <style>\n",
              "    .colab-df-container {\n",
              "      display:flex;\n",
              "      flex-wrap:wrap;\n",
              "      gap: 12px;\n",
              "    }\n",
              "\n",
              "    .colab-df-convert {\n",
              "      background-color: #E8F0FE;\n",
              "      border: none;\n",
              "      border-radius: 50%;\n",
              "      cursor: pointer;\n",
              "      display: none;\n",
              "      fill: #1967D2;\n",
              "      height: 32px;\n",
              "      padding: 0 0 0 0;\n",
              "      width: 32px;\n",
              "    }\n",
              "\n",
              "    .colab-df-convert:hover {\n",
              "      background-color: #E2EBFA;\n",
              "      box-shadow: 0px 1px 2px rgba(60, 64, 67, 0.3), 0px 1px 3px 1px rgba(60, 64, 67, 0.15);\n",
              "      fill: #174EA6;\n",
              "    }\n",
              "\n",
              "    [theme=dark] .colab-df-convert {\n",
              "      background-color: #3B4455;\n",
              "      fill: #D2E3FC;\n",
              "    }\n",
              "\n",
              "    [theme=dark] .colab-df-convert:hover {\n",
              "      background-color: #434B5C;\n",
              "      box-shadow: 0px 1px 3px 1px rgba(0, 0, 0, 0.15);\n",
              "      filter: drop-shadow(0px 1px 2px rgba(0, 0, 0, 0.3));\n",
              "      fill: #FFFFFF;\n",
              "    }\n",
              "  </style>\n",
              "\n",
              "      <script>\n",
              "        const buttonEl =\n",
              "          document.querySelector('#df-77ccebc5-3e9f-4c73-893b-ccc09506607d button.colab-df-convert');\n",
              "        buttonEl.style.display =\n",
              "          google.colab.kernel.accessAllowed ? 'block' : 'none';\n",
              "\n",
              "        async function convertToInteractive(key) {\n",
              "          const element = document.querySelector('#df-77ccebc5-3e9f-4c73-893b-ccc09506607d');\n",
              "          const dataTable =\n",
              "            await google.colab.kernel.invokeFunction('convertToInteractive',\n",
              "                                                     [key], {});\n",
              "          if (!dataTable) return;\n",
              "\n",
              "          const docLinkHtml = 'Like what you see? Visit the ' +\n",
              "            '<a target=\"_blank\" href=https://colab.research.google.com/notebooks/data_table.ipynb>data table notebook</a>'\n",
              "            + ' to learn more about interactive tables.';\n",
              "          element.innerHTML = '';\n",
              "          dataTable['output_type'] = 'display_data';\n",
              "          await google.colab.output.renderOutput(dataTable, element);\n",
              "          const docLink = document.createElement('div');\n",
              "          docLink.innerHTML = docLinkHtml;\n",
              "          element.appendChild(docLink);\n",
              "        }\n",
              "      </script>\n",
              "    </div>\n",
              "  </div>\n",
              "  "
            ]
          },
          "metadata": {},
          "execution_count": 6
        }
      ]
    },
    {
      "cell_type": "code",
      "execution_count": 7,
      "metadata": {
        "colab": {
          "base_uri": "https://localhost:8080/"
        },
        "id": "WuX-MQTsSXMQ",
        "outputId": "c66e4930-0e30-4461-bdc6-8105f42fbe08"
      },
      "outputs": [
        {
          "output_type": "stream",
          "name": "stdout",
          "text": [
            "<class 'pandas.core.frame.DataFrame'>\n",
            "RangeIndex: 41569 entries, 0 to 41568\n",
            "Data columns (total 2 columns):\n",
            " #   Column  Non-Null Count  Dtype \n",
            "---  ------  --------------  ----- \n",
            " 0   text    41569 non-null  object\n",
            " 1   labels  41569 non-null  object\n",
            "dtypes: object(2)\n",
            "memory usage: 649.6+ KB\n"
          ]
        }
      ],
      "source": [
        "final_df.info()"
      ]
    },
    {
      "cell_type": "markdown",
      "metadata": {
        "id": "6DlAR7qVGEj7"
      },
      "source": [
        "### *Exploratory Data Analysis*"
      ]
    },
    {
      "cell_type": "markdown",
      "metadata": {
        "id": "24v70qx_Obxr"
      },
      "source": [
        "#### *Analyzing `Label` Column*"
      ]
    },
    {
      "cell_type": "code",
      "source": [
        "label_counts = final_df['labels'].value_counts()\n",
        "unique_labels = len(label_counts)\n",
        "print(\"Number of unique labels:\", unique_labels)"
      ],
      "metadata": {
        "colab": {
          "base_uri": "https://localhost:8080/"
        },
        "id": "IbeP39eFS7Dz",
        "outputId": "8f400aef-6dae-4326-8272-351d5100f9fc"
      },
      "execution_count": 8,
      "outputs": [
        {
          "output_type": "stream",
          "name": "stdout",
          "text": [
            "Number of unique labels: 225\n"
          ]
        }
      ]
    },
    {
      "cell_type": "code",
      "source": [
        "label_counts"
      ],
      "metadata": {
        "colab": {
          "base_uri": "https://localhost:8080/"
        },
        "id": "yX19ZeLESSkD",
        "outputId": "c2f9af56-3053-4f7e-f0b9-e6bafe2a3f84"
      },
      "execution_count": 9,
      "outputs": [
        {
          "output_type": "execute_result",
          "data": {
            "text/plain": [
              "Tools Product Type                                                                  3369\n",
              "Package Quantity                                                                    2303\n",
              "Color                                                                               2157\n",
              "Assembly Required                                                                   2014\n",
              "Flooring Product Type, Indoor/Outdoor, Commercial / Residential                     1755\n",
              "                                                                                    ... \n",
              "Indoor/Outdoor, Color, ENERGY STAR Certified                                           1\n",
              "Indoor/Outdoor, Commercial / Residential, ENERGY STAR Certified                        1\n",
              "Indoor/Outdoor, Voltage (volts), Commercial / Residential, ENERGY STAR Certified       1\n",
              "Shape, Included, Package Quantity                                                      1\n",
              "Hardware Included, Indoor/Outdoor, Assembly Required, Color                            1\n",
              "Name: labels, Length: 225, dtype: int64"
            ]
          },
          "metadata": {},
          "execution_count": 9
        }
      ]
    },
    {
      "cell_type": "code",
      "source": [
        "highest_count = label_counts.max()\n",
        "lowest_count = label_counts.min()\n",
        "average_count = label_counts.mean()\n",
        "\n",
        "print(\"Highest Label Count:\", highest_count)\n",
        "print(\"Lowest Label Count:\", lowest_count)\n",
        "print(\"Average Label Count:\", average_count)"
      ],
      "metadata": {
        "colab": {
          "base_uri": "https://localhost:8080/"
        },
        "id": "AvRZRA7tZ5_y",
        "outputId": "d6e96c73-1b2f-4f1d-f924-72f4c8421002"
      },
      "execution_count": 10,
      "outputs": [
        {
          "output_type": "stream",
          "name": "stdout",
          "text": [
            "Highest Label Count: 3369\n",
            "Lowest Label Count: 1\n",
            "Average Label Count: 184.7511111111111\n"
          ]
        }
      ]
    },
    {
      "cell_type": "code",
      "source": [
        "quartiles = np.percentile(label_counts, [25, 50, 75])\n",
        "iqr_25 = quartiles[0]\n",
        "iqr_50 = quartiles[1]\n",
        "iqr_75 = quartiles[2]\n",
        "\n",
        "print(\"IQR at 25% :\", iqr_25)\n",
        "print(\"IQR 50% :\", iqr_50)\n",
        "print(\"IQR at 75% :\", iqr_75)"
      ],
      "metadata": {
        "colab": {
          "base_uri": "https://localhost:8080/"
        },
        "id": "PJuAHs5cgdDQ",
        "outputId": "5f9b1251-f219-430d-c438-ffbbc16d9642"
      },
      "execution_count": 11,
      "outputs": [
        {
          "output_type": "stream",
          "name": "stdout",
          "text": [
            "IQR at 25% : 2.0\n",
            "IQR 50% : 15.0\n",
            "IQR at 75% : 126.0\n"
          ]
        }
      ]
    },
    {
      "cell_type": "markdown",
      "source": [
        "* *The label counts in the data show a significant imbalance. On average, each label appears around 184 times, but looking at the middle value (50th percentile) of the label counts, it drops down to just 15. This suggests that a few labels are appearing much more frequently than others.*\n",
        "* *The highest label count reaches 3369, which is considerably higher than the 75th percentile value of 126. This wide range between the highest count and the upper quartile indicates a significant imbalance in label distribution.*"
      ],
      "metadata": {
        "id": "H1WqRSU-g1OT"
      }
    },
    {
      "cell_type": "code",
      "source": [
        "label_counts"
      ],
      "metadata": {
        "colab": {
          "base_uri": "https://localhost:8080/"
        },
        "id": "h1J0EgPMUKF_",
        "outputId": "fd33f3de-4166-4783-f182-6b0b236680b8"
      },
      "execution_count": 12,
      "outputs": [
        {
          "output_type": "execute_result",
          "data": {
            "text/plain": [
              "Tools Product Type                                                                  3369\n",
              "Package Quantity                                                                    2303\n",
              "Color                                                                               2157\n",
              "Assembly Required                                                                   2014\n",
              "Flooring Product Type, Indoor/Outdoor, Commercial / Residential                     1755\n",
              "                                                                                    ... \n",
              "Indoor/Outdoor, Color, ENERGY STAR Certified                                           1\n",
              "Indoor/Outdoor, Commercial / Residential, ENERGY STAR Certified                        1\n",
              "Indoor/Outdoor, Voltage (volts), Commercial / Residential, ENERGY STAR Certified       1\n",
              "Shape, Included, Package Quantity                                                      1\n",
              "Hardware Included, Indoor/Outdoor, Assembly Required, Color                            1\n",
              "Name: labels, Length: 225, dtype: int64"
            ]
          },
          "metadata": {},
          "execution_count": 12
        }
      ]
    },
    {
      "cell_type": "code",
      "execution_count": 13,
      "metadata": {
        "colab": {
          "base_uri": "https://localhost:8080/",
          "height": 684
        },
        "id": "TPRNJEKuQtQ6",
        "outputId": "e6448b2d-833e-4209-b3cc-b13f25cd264c"
      },
      "outputs": [
        {
          "output_type": "display_data",
          "data": {
            "text/plain": [
              "<Figure size 1300x1200 with 2 Axes>"
            ],
            "image/png": "[encoded data removed]"
          },
          "metadata": {}
        }
      ],
      "source": [
        "top_n = 20\n",
        "\n",
        "top_frequent_labels = label_counts.sort_values(ascending=False).head(top_n)\n",
        "top_least_frequent_labels = label_counts.sort_values(ascending=True).head(top_n)\n",
        "\n",
        "fig, (ax1, ax2) = plt.subplots(2, 1, figsize=(13, 12))\n",
        "\n",
        "colors = sns.color_palette('Set3', n_colors=top_n)\n",
        "\n",
        "sns.barplot(y=top_frequent_labels.index, x=top_frequent_labels, ax=ax1, palette=colors)\n",
        "ax1.set_title(f'Top {top_n} Most Frequent Labels')\n",
        "ax1.set_xlabel('Frequency')\n",
        "\n",
        "sns.barplot(y=top_least_frequent_labels.index, x=top_least_frequent_labels, ax=ax2, palette=colors)\n",
        "ax2.set_title(f'Top {top_n} Least Frequent Labels')\n",
        "ax2.set_xlabel('Frequency')\n",
        "\n",
        "plt.subplots_adjust(hspace=0.3)\n"
      ]
    },
    {
      "cell_type": "markdown",
      "source": [
        "* The label `Tools Product Type` is the most repeated label, appearing over 3400 times in the dataset.\n",
        "* Following closely are the labels \"Package Quantity\" and \"Color,\" which are repeated around 2300-2400 times.\n",
        "* The top 15 most frequent labels consist mainly 11 out of 15 original labels, with only 4 newer aggregated labels which resulted from combining multiple labels from the original set.\n",
        "* This could be because 11 out of 15 original labels, had duplicated texts associated with them, resulting in a larger number of occurrences for those labels.\n",
        "* In contrast, the least frequent labels are exclusively composed of these newly aggregated labels.\n",
        "* Since these labels combine different variations and categories from the original set, their occurrence is limited to just one instance.\n"
      ],
      "metadata": {
        "id": "sgsG6cJzkUhk"
      }
    },
    {
      "cell_type": "markdown",
      "metadata": {
        "id": "3LVqPUotQ9z_"
      },
      "source": [
        "#### *Analyzing `Text` Column*"
      ]
    },
    {
      "cell_type": "code",
      "source": [
        "dff = final_df.groupby('labels')['text'].apply(list).reset_index(name='Texts')\n",
        "dff['Paragraphs'] = dff['Texts'].apply(lambda x: len(x))\n",
        "dff['Words'] = dff['Texts'].apply(lambda x: len(' '.join(x).split()))\n",
        "dff"
      ],
      "metadata": {
        "colab": {
          "base_uri": "https://localhost:8080/",
          "height": 423
        },
        "id": "X1m1Si4Iwdzl",
        "outputId": "16ab9f64-fc67-4acf-a27b-5de4ea66e320"
      },
      "execution_count": 14,
      "outputs": [
        {
          "output_type": "execute_result",
          "data": {
            "text/plain": [
              "                                                labels  \\\n",
              "0                                    Assembly Required   \n",
              "1                             Assembly Required, Color   \n",
              "2            Assembly Required, Color, Voltage (volts)   \n",
              "3          Assembly Required, Commercial / Residential   \n",
              "4             Assembly Required, ENERGY STAR Certified   \n",
              "..                                                 ...   \n",
              "220             Voltage (volts), ENERGY STAR Certified   \n",
              "221  Voltage (volts), ENERGY STAR Certified, Wattag...   \n",
              "222  Voltage (volts), Indoor/Outdoor, Package Quant...   \n",
              "223                   Voltage (volts), Wattage (watts)   \n",
              "224                                    Wattage (watts)   \n",
              "\n",
              "                                                 Texts  Paragraphs   Words  \n",
              "0    [3-Piece Bistro Set Includes Outdoor Dining Ta...        2014  313561  \n",
              "1    [A fun way to bake individual deep dish pizzas...         251   31838  \n",
              "2    [For that perfectly landscaped look- without t...           1     145  \n",
              "3    [A handsome Contemporary collection with a ric...         319   42261  \n",
              "4    [The John Deere 2-Bar Bumper for 100 Series La...           2     150  \n",
              "..                                                 ...         ...     ...  \n",
              "220  [#1 Rated Dishwasher according to a leading co...         310   84451  \n",
              "221  [4-Slice Toaster Broiler Lets You Cook and Toa...         145   18167  \n",
              "222  [Extreme durability runs in the family. Premiu...           2      76  \n",
              "223  [2 built-in 20-watt halogen lights illuminate ...         310   64684  \n",
              "224  [100-watt electronic transformer supplied with...         184   42232  \n",
              "\n",
              "[225 rows x 4 columns]"
            ],
            "text/html": [
              "\n",
              "  <div id=\"df-ce2ac434-55f7-47e3-a8d5-a136ec91d375\">\n",
              "    <div class=\"colab-df-container\">\n",
              "      <div>\n",
              "<style scoped>\n",
              "    .dataframe tbody tr th:only-of-type {\n",
              "        vertical-align: middle;\n",
              "    }\n",
              "\n",
              "    .dataframe tbody tr th {\n",
              "        vertical-align: top;\n",
              "    }\n",
              "\n",
              "    .dataframe thead th {\n",
              "        text-align: right;\n",
              "    }\n",
              "</style>\n",
              "<table border=\"1\" class=\"dataframe\">\n",
              "  <thead>\n",
              "    <tr style=\"text-align: right;\">\n",
              "      <th></th>\n",
              "      <th>labels</th>\n",
              "      <th>Texts</th>\n",
              "      <th>Paragraphs</th>\n",
              "      <th>Words</th>\n",
              "    </tr>\n",
              "  </thead>\n",
              "  <tbody>\n",
              "    <tr>\n",
              "      <th>0</th>\n",
              "      <td>Assembly Required</td>\n",
              "      <td>[3-Piece Bistro Set Includes Outdoor Dining Ta...</td>\n",
              "      <td>2014</td>\n",
              "      <td>313561</td>\n",
              "    </tr>\n",
              "    <tr>\n",
              "      <th>1</th>\n",
              "      <td>Assembly Required, Color</td>\n",
              "      <td>[A fun way to bake individual deep dish pizzas...</td>\n",
              "      <td>251</td>\n",
              "      <td>31838</td>\n",
              "    </tr>\n",
              "    <tr>\n",
              "      <th>2</th>\n",
              "      <td>Assembly Required, Color, Voltage (volts)</td>\n",
              "      <td>[For that perfectly landscaped look- without t...</td>\n",
              "      <td>1</td>\n",
              "      <td>145</td>\n",
              "    </tr>\n",
              "    <tr>\n",
              "      <th>3</th>\n",
              "      <td>Assembly Required, Commercial / Residential</td>\n",
              "      <td>[A handsome Contemporary collection with a ric...</td>\n",
              "      <td>319</td>\n",
              "      <td>42261</td>\n",
              "    </tr>\n",
              "    <tr>\n",
              "      <th>4</th>\n",
              "      <td>Assembly Required, ENERGY STAR Certified</td>\n",
              "      <td>[The John Deere 2-Bar Bumper for 100 Series La...</td>\n",
              "      <td>2</td>\n",
              "      <td>150</td>\n",
              "    </tr>\n",
              "    <tr>\n",
              "      <th>...</th>\n",
              "      <td>...</td>\n",
              "      <td>...</td>\n",
              "      <td>...</td>\n",
              "      <td>...</td>\n",
              "    </tr>\n",
              "    <tr>\n",
              "      <th>220</th>\n",
              "      <td>Voltage (volts), ENERGY STAR Certified</td>\n",
              "      <td>[#1 Rated Dishwasher according to a leading co...</td>\n",
              "      <td>310</td>\n",
              "      <td>84451</td>\n",
              "    </tr>\n",
              "    <tr>\n",
              "      <th>221</th>\n",
              "      <td>Voltage (volts), ENERGY STAR Certified, Wattag...</td>\n",
              "      <td>[4-Slice Toaster Broiler Lets You Cook and Toa...</td>\n",
              "      <td>145</td>\n",
              "      <td>18167</td>\n",
              "    </tr>\n",
              "    <tr>\n",
              "      <th>222</th>\n",
              "      <td>Voltage (volts), Indoor/Outdoor, Package Quant...</td>\n",
              "      <td>[Extreme durability runs in the family. Premiu...</td>\n",
              "      <td>2</td>\n",
              "      <td>76</td>\n",
              "    </tr>\n",
              "    <tr>\n",
              "      <th>223</th>\n",
              "      <td>Voltage (volts), Wattage (watts)</td>\n",
              "      <td>[2 built-in 20-watt halogen lights illuminate ...</td>\n",
              "      <td>310</td>\n",
              "      <td>64684</td>\n",
              "    </tr>\n",
              "    <tr>\n",
              "      <th>224</th>\n",
              "      <td>Wattage (watts)</td>\n",
              "      <td>[100-watt electronic transformer supplied with...</td>\n",
              "      <td>184</td>\n",
              "      <td>42232</td>\n",
              "    </tr>\n",
              "  </tbody>\n",
              "</table>\n",
              "<p>225 rows × 4 columns</p>\n",
              "</div>\n",
              "      <button class=\"colab-df-convert\" onclick=\"convertToInteractive('df-ce2ac434-55f7-47e3-a8d5-a136ec91d375')\"\n",
              "              title=\"Convert this dataframe to an interactive table.\"\n",
              "              style=\"display:none;\">\n",
              "        \n",
              "  <svg xmlns=\"http://www.w3.org/2000/svg\" height=\"24px\"viewBox=\"0 0 24 24\"\n",
              "       width=\"24px\">\n",
              "    <path d=\"M0 0h24v24H0V0z\" fill=\"none\"/>\n",
              "    <path d=\"M18.56 5.44l.94 2.06.94-2.06 2.06-.94-2.06-.94-.94-2.06-.94 2.06-2.06.94zm-11 1L8.5 8.5l.94-2.06 2.06-.94-2.06-.94L8.5 2.5l-.94 2.06-2.06.94zm10 10l.94 2.06.94-2.06 2.06-.94-2.06-.94-.94-2.06-.94 2.06-2.06.94z\"/><path d=\"M17.41 7.96l-1.37-1.37c-.4-.4-.92-.59-1.43-.59-.52 0-1.04.2-1.43.59L10.3 9.45l-7.72 7.72c-.78.78-.78 2.05 0 2.83L4 21.41c.39.39.9.59 1.41.59.51 0 1.02-.2 1.41-.59l7.78-7.78 2.81-2.81c.8-.78.8-2.07 0-2.86zM5.41 20L4 18.59l7.72-7.72 1.47 1.35L5.41 20z\"/>\n",
              "  </svg>\n",
              "      </button>\n",
              "      \n",
              "  <style>\n",
              "    .colab-df-container {\n",
              "      display:flex;\n",
              "      flex-wrap:wrap;\n",
              "      gap: 12px;\n",
              "    }\n",
              "\n",
              "    .colab-df-convert {\n",
              "      background-color: #E8F0FE;\n",
              "      border: none;\n",
              "      border-radius: 50%;\n",
              "      cursor: pointer;\n",
              "      display: none;\n",
              "      fill: #1967D2;\n",
              "      height: 32px;\n",
              "      padding: 0 0 0 0;\n",
              "      width: 32px;\n",
              "    }\n",
              "\n",
              "    .colab-df-convert:hover {\n",
              "      background-color: #E2EBFA;\n",
              "      box-shadow: 0px 1px 2px rgba(60, 64, 67, 0.3), 0px 1px 3px 1px rgba(60, 64, 67, 0.15);\n",
              "      fill: #174EA6;\n",
              "    }\n",
              "\n",
              "    [theme=dark] .colab-df-convert {\n",
              "      background-color: #3B4455;\n",
              "      fill: #D2E3FC;\n",
              "    }\n",
              "\n",
              "    [theme=dark] .colab-df-convert:hover {\n",
              "      background-color: #434B5C;\n",
              "      box-shadow: 0px 1px 3px 1px rgba(0, 0, 0, 0.15);\n",
              "      filter: drop-shadow(0px 1px 2px rgba(0, 0, 0, 0.3));\n",
              "      fill: #FFFFFF;\n",
              "    }\n",
              "  </style>\n",
              "\n",
              "      <script>\n",
              "        const buttonEl =\n",
              "          document.querySelector('#df-ce2ac434-55f7-47e3-a8d5-a136ec91d375 button.colab-df-convert');\n",
              "        buttonEl.style.display =\n",
              "          google.colab.kernel.accessAllowed ? 'block' : 'none';\n",
              "\n",
              "        async function convertToInteractive(key) {\n",
              "          const element = document.querySelector('#df-ce2ac434-55f7-47e3-a8d5-a136ec91d375');\n",
              "          const dataTable =\n",
              "            await google.colab.kernel.invokeFunction('convertToInteractive',\n",
              "                                                     [key], {});\n",
              "          if (!dataTable) return;\n",
              "\n",
              "          const docLinkHtml = 'Like what you see? Visit the ' +\n",
              "            '<a target=\"_blank\" href=https://colab.research.google.com/notebooks/data_table.ipynb>data table notebook</a>'\n",
              "            + ' to learn more about interactive tables.';\n",
              "          element.innerHTML = '';\n",
              "          dataTable['output_type'] = 'display_data';\n",
              "          await google.colab.output.renderOutput(dataTable, element);\n",
              "          const docLink = document.createElement('div');\n",
              "          docLink.innerHTML = docLinkHtml;\n",
              "          element.appendChild(docLink);\n",
              "        }\n",
              "      </script>\n",
              "    </div>\n",
              "  </div>\n",
              "  "
            ]
          },
          "metadata": {},
          "execution_count": 14
        }
      ]
    },
    {
      "cell_type": "markdown",
      "source": [
        "* *The `Texts` column shows the list of all the texts grouped by their corresponding labels.*\n",
        "\n",
        "* *The `Paragraphs` column represents the count of individual text for each label.*\n",
        "\n",
        "* *The `Words` column displays the count of words for each label.*\n",
        "\n",
        "  > *By using these columns, we can understand how many texts (paragraphs) and words are associated with each label in the dataset.*"
      ],
      "metadata": {
        "id": "ZMwGiqJitFpr"
      }
    },
    {
      "cell_type": "code",
      "source": [
        "top_n = 20\n",
        "\n",
        "top_labels = label_counts.sort_values(ascending=False)[:top_n]\n",
        "total_occurrences = top_labels.sum()\n",
        "print(\"Total Occurrences of Top 20 Labels:\", total_occurrences)\n",
        "\n",
        "total_occurrences = label_counts.sum()\n",
        "print(\"Total Occurrences of All the 225 Labels:\", total_occurrences)"
      ],
      "metadata": {
        "colab": {
          "base_uri": "https://localhost:8080/"
        },
        "id": "N6HWP8lQ4-Dg",
        "outputId": "c9de1b49-c45d-481e-8734-a4632dfb8b11"
      },
      "execution_count": 15,
      "outputs": [
        {
          "output_type": "stream",
          "name": "stdout",
          "text": [
            "Total Occurrences of Top 20 Labels: 27610\n",
            "Total Occurrences of All the 225 Labels: 41569\n"
          ]
        }
      ]
    },
    {
      "cell_type": "markdown",
      "source": [
        "\n",
        "* *Analyzing the top 20 labels, out of the total of 225, as they have a combined count of 27610, which accounts for about 66.43% of the total count of 41569.*"
      ],
      "metadata": {
        "id": "x6kYq5028STS"
      }
    },
    {
      "cell_type": "code",
      "source": [
        "top_20_labels = dff.nlargest(20, 'Paragraphs')\n",
        "\n",
        "fig, axes = plt.subplots(nrows=1, ncols=2, figsize=(13, 5))\n",
        "\n",
        "sns.histplot(top_20_labels['Paragraphs'], bins=20, color='orange', kde = True, ax=axes[0])\n",
        "axes[0].set_title('Paragraph Length for Top 20 Labels')\n",
        "axes[0].set_xlabel('Number of Paragraphs in Each Label')\n",
        "axes[0].set_ylabel(\"Label Count\")\n",
        "\n",
        "sns.histplot(top_20_labels['Words'], bins=20, color='green', kde = True, ax=axes[1])\n",
        "axes[1].set_title('Word Length for Top 20 Labels')\n",
        "axes[1].set_xlabel('Number of Words in Each Paragraph')\n",
        "axes[1].set_ylabel(\"Paragraph Count\")\n",
        "\n",
        "plt.tight_layout()"
      ],
      "metadata": {
        "colab": {
          "base_uri": "https://localhost:8080/",
          "height": 440
        },
        "id": "kgVQR4Wm966D",
        "outputId": "e74804b6-4d20-4e78-fcec-e2be992b977c"
      },
      "execution_count": 16,
      "outputs": [
        {
          "output_type": "display_data",
          "data": {
            "text/plain": [
              "<Figure size 1300x500 with 2 Axes>"
            ],
            "image/png": "[encoded data removed]"
          },
          "metadata": {}
        }
      ]
    },
    {
      "cell_type": "markdown",
      "source": [
        "\n",
        "*Analysis of Top 20 Labels:*\n",
        "\n",
        "***Paragraph Length:***\n",
        "\n",
        "* 12 labels have 500-1200 paragraphs.\n",
        "* 7 labels have 1500-2250 paragraphs.\n",
        "* Only 1 label has 3500 paragraphs.\n",
        "\n",
        "***Word Length:***\n",
        "\n",
        "* 10 out of 20 labels have a word count of 50,000 to 150,000.\n",
        "* 5 labels have 200,000-250,000 words.\n",
        "* Only 3 out of 20 labels have 300,000-370,000 words."
      ],
      "metadata": {
        "id": "EKYY7qUz_VrI"
      }
    },
    {
      "cell_type": "code",
      "source": [
        "top_n = 200\n",
        "\n",
        "top_labels = label_counts.sort_values(ascending=True)[:top_n]\n",
        "total_occurrences = top_labels.sum()\n",
        "print(\"Total Occurrences of Top 200 Labels:\", total_occurrences)\n",
        "\n",
        "total_occurrences = label_counts.sum()\n",
        "print(\"Total Occurrences of All the 225 Labels:\", total_occurrences)"
      ],
      "metadata": {
        "colab": {
          "base_uri": "https://localhost:8080/"
        },
        "id": "cD0laKJsQYug",
        "outputId": "9e955bf8-433d-4f8a-f470-0494d57ac02f"
      },
      "execution_count": 17,
      "outputs": [
        {
          "output_type": "stream",
          "name": "stdout",
          "text": [
            "Total Occurrences of Top 200 Labels: 10994\n",
            "Total Occurrences of All the 225 Labels: 41569\n"
          ]
        }
      ]
    },
    {
      "cell_type": "code",
      "source": [
        "least_100_labels = dff.nsmallest(200, 'Paragraphs')\n",
        "\n",
        "fig, (ax1, ax2) = plt.subplots(1, 2, figsize=(12, 6))\n",
        "\n",
        "sns.violinplot(y=least_100_labels['Paragraphs'], color='lightblue', ax=ax1)\n",
        "ax1.set_title('Paragraph Length for 200 Least Occurring Labels')\n",
        "ax1.set_ylabel('Number of Paragraphs')\n",
        "ax1.set_ylim(bottom=0)\n",
        "\n",
        "sns.violinplot(y=least_100_labels['Words'], color='lightpink', ax=ax2)\n",
        "ax2.set_title('Word Length for 200 Least Occurring Labels')\n",
        "ax2.set_ylabel('Number of Words')\n",
        "ax2.set_ylim(bottom=0)\n",
        "\n",
        "plt.tight_layout();"
      ],
      "metadata": {
        "colab": {
          "base_uri": "https://localhost:8080/",
          "height": 569
        },
        "id": "nCchdW_jJX6N",
        "outputId": "70e8f4d9-99d4-4235-8769-4e125c58f54c"
      },
      "execution_count": 18,
      "outputs": [
        {
          "output_type": "display_data",
          "data": {
            "text/plain": [
              "<Figure size 1200x600 with 2 Axes>"
            ],
            "image/png": "[encoded data removed]"
          },
          "metadata": {}
        }
      ]
    },
    {
      "cell_type": "markdown",
      "source": [
        "##### *Analysis of Paragraph and Word Length for 200 Least Occurring Labels*\n",
        "\n",
        "\n",
        "***Paragraph Length***\n",
        " * *The majority of labels in this subset have less than 100 paragraphs*\n",
        " * *However, a small number of labels have a paragraph count ranging from 100 to 300.*\n",
        " * *The maximum count observed is 550, but these higher counts are extremely rare, with only 1 or 2 labels having such occurrences.*\n",
        "\n",
        "***Word Length***\n",
        "* *Majority of the labels among the least occurring 200 labels have a word count below 200,000.*\n",
        "* *Another small group of labels fall within the word count range of 200,000 to 600,000*\n",
        "* *However, labels with word counts above 600,000 are with only a negligible number of occurrences.*"
      ],
      "metadata": {
        "id": "x6anT5dnMK_S"
      }
    },
    {
      "cell_type": "markdown",
      "metadata": {
        "id": "vg43hpXX_e_m"
      },
      "source": [
        "### ***Text Preprocessing***"
      ]
    },
    {
      "cell_type": "markdown",
      "metadata": {
        "id": "kKuuppffDEQY"
      },
      "source": [
        "* *Punctuation Removal*\n",
        "* *Lower - casing*\n",
        "* *Tokenization*\n",
        "* *Stopwords Removal*\n",
        "* *Lemmatization*\n"
      ]
    },
    {
      "cell_type": "code",
      "execution_count": 19,
      "metadata": {
        "id": "JXUgBVWDRtFJ"
      },
      "outputs": [],
      "source": [
        "stop_words = set(stopwords.words('english'))\n",
        "lemmatizer = WordNetLemmatizer()"
      ]
    },
    {
      "cell_type": "code",
      "source": [
        "def preprocess_text(text):\n",
        "    tokens = word_tokenize(text.lower())\n",
        "    filtered_tokens = [token for token in tokens if token not in stop_words and token not in string.punctuation]\n",
        "    lemmatized_tokens = [lemmatizer.lemmatize(token) for token in filtered_tokens]\n",
        "    processed_text = ' '.join(lemmatized_tokens)\n",
        "    return processed_text"
      ],
      "metadata": {
        "id": "Bw3k9pcm--oj"
      },
      "execution_count": 20,
      "outputs": []
    },
    {
      "cell_type": "code",
      "source": [
        "final_df['processed_text'] = final_df['text'].apply(preprocess_text)"
      ],
      "metadata": {
        "colab": {
          "base_uri": "https://localhost:8080/"
        },
        "id": "4-sFLbf1WjJn",
        "outputId": "1c3f7bbf-bece-4478-8bf0-1804b7811758"
      },
      "execution_count": 21,
      "outputs": [
        {
          "output_type": "stream",
          "name": "stderr",
          "text": [
            "<ipython-input-21-739c49fadc34>:1: SettingWithCopyWarning: \n",
            "A value is trying to be set on a copy of a slice from a DataFrame.\n",
            "Try using .loc[row_indexer,col_indexer] = value instead\n",
            "\n",
            "See the caveats in the documentation: https://pandas.pydata.org/pandas-docs/stable/user_guide/indexing.html#returning-a-view-versus-a-copy\n",
            "  final_df['processed_text'] = final_df['text'].apply(preprocess_text)\n"
          ]
        }
      ]
    },
    {
      "cell_type": "code",
      "source": [
        "tokenized_texts = final_df['processed_text'].apply(lambda x: x.split())\n",
        "final_df"
      ],
      "metadata": {
        "colab": {
          "base_uri": "https://localhost:8080/",
          "height": 423
        },
        "id": "3MA3q7IQ_Coa",
        "outputId": "74d4dd3f-c4be-4480-b994-c4d920da2616"
      },
      "execution_count": 22,
      "outputs": [
        {
          "output_type": "execute_result",
          "data": {
            "text/plain": [
              "                                                    text  \\\n",
              "0      \"Constructor\" Prelude door locks feature moder...   \n",
              "1      \"Constructor\" Prelude door locks feature moder...   \n",
              "2      \"Constructor\" offers premium classic style doo...   \n",
              "3      \"Constructor\" offers premium classic style doo...   \n",
              "4      \"Constructor\" offers premium classic style doo...   \n",
              "...                                                  ...   \n",
              "41564  the great outdoors by Minka Lavery Irvington M...   \n",
              "41565  the great outdoors by Minka Lavery Irvington M...   \n",
              "41566  the great outdoors by Minka Lavery Irvington M...   \n",
              "41567  the great outdoors by Minka Lavery Irvington M...   \n",
              "41568  the great outdoors by Minka Lavery Irvington M...   \n",
              "\n",
              "                                       labels  \\\n",
              "0                   Hardware Included, Finish   \n",
              "1                   Hardware Included, Finish   \n",
              "2                   Hardware Included, Finish   \n",
              "3                   Hardware Included, Finish   \n",
              "4                   Hardware Included, Finish   \n",
              "...                                       ...   \n",
              "41564  ENERGY STAR Certified, Wattage (watts)   \n",
              "41565  ENERGY STAR Certified, Wattage (watts)   \n",
              "41566  ENERGY STAR Certified, Wattage (watts)   \n",
              "41567  ENERGY STAR Certified, Wattage (watts)   \n",
              "41568  ENERGY STAR Certified, Wattage (watts)   \n",
              "\n",
              "                                          processed_text  \n",
              "0      `` constructor '' prelude door lock feature mo...  \n",
              "1      `` constructor '' prelude door lock feature mo...  \n",
              "2      `` constructor '' offer premium classic style ...  \n",
              "3      `` constructor '' offer premium classic style ...  \n",
              "4      `` constructor '' offer premium classic style ...  \n",
              "...                                                  ...  \n",
              "41564  great outdoors minka lavery irvington manor 1-...  \n",
              "41565  great outdoors minka lavery irvington manor 2-...  \n",
              "41566  great outdoors minka lavery irvington manor 3-...  \n",
              "41567  great outdoors minka lavery irvington manor 3-...  \n",
              "41568  great outdoors minka lavery irvington manor 4-...  \n",
              "\n",
              "[41569 rows x 3 columns]"
            ],
            "text/html": [
              "\n",
              "  <div id=\"df-c4f607a2-fe30-476a-995a-7b8578c330dd\">\n",
              "    <div class=\"colab-df-container\">\n",
              "      <div>\n",
              "<style scoped>\n",
              "    .dataframe tbody tr th:only-of-type {\n",
              "        vertical-align: middle;\n",
              "    }\n",
              "\n",
              "    .dataframe tbody tr th {\n",
              "        vertical-align: top;\n",
              "    }\n",
              "\n",
              "    .dataframe thead th {\n",
              "        text-align: right;\n",
              "    }\n",
              "</style>\n",
              "<table border=\"1\" class=\"dataframe\">\n",
              "  <thead>\n",
              "    <tr style=\"text-align: right;\">\n",
              "      <th></th>\n",
              "      <th>text</th>\n",
              "      <th>labels</th>\n",
              "      <th>processed_text</th>\n",
              "    </tr>\n",
              "  </thead>\n",
              "  <tbody>\n",
              "    <tr>\n",
              "      <th>0</th>\n",
              "      <td>\"Constructor\" Prelude door locks feature moder...</td>\n",
              "      <td>Hardware Included, Finish</td>\n",
              "      <td>`` constructor '' prelude door lock feature mo...</td>\n",
              "    </tr>\n",
              "    <tr>\n",
              "      <th>1</th>\n",
              "      <td>\"Constructor\" Prelude door locks feature moder...</td>\n",
              "      <td>Hardware Included, Finish</td>\n",
              "      <td>`` constructor '' prelude door lock feature mo...</td>\n",
              "    </tr>\n",
              "    <tr>\n",
              "      <th>2</th>\n",
              "      <td>\"Constructor\" offers premium classic style doo...</td>\n",
              "      <td>Hardware Included, Finish</td>\n",
              "      <td>`` constructor '' offer premium classic style ...</td>\n",
              "    </tr>\n",
              "    <tr>\n",
              "      <th>3</th>\n",
              "      <td>\"Constructor\" offers premium classic style doo...</td>\n",
              "      <td>Hardware Included, Finish</td>\n",
              "      <td>`` constructor '' offer premium classic style ...</td>\n",
              "    </tr>\n",
              "    <tr>\n",
              "      <th>4</th>\n",
              "      <td>\"Constructor\" offers premium classic style doo...</td>\n",
              "      <td>Hardware Included, Finish</td>\n",
              "      <td>`` constructor '' offer premium classic style ...</td>\n",
              "    </tr>\n",
              "    <tr>\n",
              "      <th>...</th>\n",
              "      <td>...</td>\n",
              "      <td>...</td>\n",
              "      <td>...</td>\n",
              "    </tr>\n",
              "    <tr>\n",
              "      <th>41564</th>\n",
              "      <td>the great outdoors by Minka Lavery Irvington M...</td>\n",
              "      <td>ENERGY STAR Certified, Wattage (watts)</td>\n",
              "      <td>great outdoors minka lavery irvington manor 1-...</td>\n",
              "    </tr>\n",
              "    <tr>\n",
              "      <th>41565</th>\n",
              "      <td>the great outdoors by Minka Lavery Irvington M...</td>\n",
              "      <td>ENERGY STAR Certified, Wattage (watts)</td>\n",
              "      <td>great outdoors minka lavery irvington manor 2-...</td>\n",
              "    </tr>\n",
              "    <tr>\n",
              "      <th>41566</th>\n",
              "      <td>the great outdoors by Minka Lavery Irvington M...</td>\n",
              "      <td>ENERGY STAR Certified, Wattage (watts)</td>\n",
              "      <td>great outdoors minka lavery irvington manor 3-...</td>\n",
              "    </tr>\n",
              "    <tr>\n",
              "      <th>41567</th>\n",
              "      <td>the great outdoors by Minka Lavery Irvington M...</td>\n",
              "      <td>ENERGY STAR Certified, Wattage (watts)</td>\n",
              "      <td>great outdoors minka lavery irvington manor 3-...</td>\n",
              "    </tr>\n",
              "    <tr>\n",
              "      <th>41568</th>\n",
              "      <td>the great outdoors by Minka Lavery Irvington M...</td>\n",
              "      <td>ENERGY STAR Certified, Wattage (watts)</td>\n",
              "      <td>great outdoors minka lavery irvington manor 4-...</td>\n",
              "    </tr>\n",
              "  </tbody>\n",
              "</table>\n",
              "<p>41569 rows × 3 columns</p>\n",
              "</div>\n",
              "      <button class=\"colab-df-convert\" onclick=\"convertToInteractive('df-c4f607a2-fe30-476a-995a-7b8578c330dd')\"\n",
              "              title=\"Convert this dataframe to an interactive table.\"\n",
              "              style=\"display:none;\">\n",
              "        \n",
              "  <svg xmlns=\"http://www.w3.org/2000/svg\" height=\"24px\"viewBox=\"0 0 24 24\"\n",
              "       width=\"24px\">\n",
              "    <path d=\"M0 0h24v24H0V0z\" fill=\"none\"/>\n",
              "    <path d=\"M18.56 5.44l.94 2.06.94-2.06 2.06-.94-2.06-.94-.94-2.06-.94 2.06-2.06.94zm-11 1L8.5 8.5l.94-2.06 2.06-.94-2.06-.94L8.5 2.5l-.94 2.06-2.06.94zm10 10l.94 2.06.94-2.06 2.06-.94-2.06-.94-.94-2.06-.94 2.06-2.06.94z\"/><path d=\"M17.41 7.96l-1.37-1.37c-.4-.4-.92-.59-1.43-.59-.52 0-1.04.2-1.43.59L10.3 9.45l-7.72 7.72c-.78.78-.78 2.05 0 2.83L4 21.41c.39.39.9.59 1.41.59.51 0 1.02-.2 1.41-.59l7.78-7.78 2.81-2.81c.8-.78.8-2.07 0-2.86zM5.41 20L4 18.59l7.72-7.72 1.47 1.35L5.41 20z\"/>\n",
              "  </svg>\n",
              "      </button>\n",
              "      \n",
              "  <style>\n",
              "    .colab-df-container {\n",
              "      display:flex;\n",
              "      flex-wrap:wrap;\n",
              "      gap: 12px;\n",
              "    }\n",
              "\n",
              "    .colab-df-convert {\n",
              "      background-color: #E8F0FE;\n",
              "      border: none;\n",
              "      border-radius: 50%;\n",
              "      cursor: pointer;\n",
              "      display: none;\n",
              "      fill: #1967D2;\n",
              "      height: 32px;\n",
              "      padding: 0 0 0 0;\n",
              "      width: 32px;\n",
              "    }\n",
              "\n",
              "    .colab-df-convert:hover {\n",
              "      background-color: #E2EBFA;\n",
              "      box-shadow: 0px 1px 2px rgba(60, 64, 67, 0.3), 0px 1px 3px 1px rgba(60, 64, 67, 0.15);\n",
              "      fill: #174EA6;\n",
              "    }\n",
              "\n",
              "    [theme=dark] .colab-df-convert {\n",
              "      background-color: #3B4455;\n",
              "      fill: #D2E3FC;\n",
              "    }\n",
              "\n",
              "    [theme=dark] .colab-df-convert:hover {\n",
              "      background-color: #434B5C;\n",
              "      box-shadow: 0px 1px 3px 1px rgba(0, 0, 0, 0.15);\n",
              "      filter: drop-shadow(0px 1px 2px rgba(0, 0, 0, 0.3));\n",
              "      fill: #FFFFFF;\n",
              "    }\n",
              "  </style>\n",
              "\n",
              "      <script>\n",
              "        const buttonEl =\n",
              "          document.querySelector('#df-c4f607a2-fe30-476a-995a-7b8578c330dd button.colab-df-convert');\n",
              "        buttonEl.style.display =\n",
              "          google.colab.kernel.accessAllowed ? 'block' : 'none';\n",
              "\n",
              "        async function convertToInteractive(key) {\n",
              "          const element = document.querySelector('#df-c4f607a2-fe30-476a-995a-7b8578c330dd');\n",
              "          const dataTable =\n",
              "            await google.colab.kernel.invokeFunction('convertToInteractive',\n",
              "                                                     [key], {});\n",
              "          if (!dataTable) return;\n",
              "\n",
              "          const docLinkHtml = 'Like what you see? Visit the ' +\n",
              "            '<a target=\"_blank\" href=https://colab.research.google.com/notebooks/data_table.ipynb>data table notebook</a>'\n",
              "            + ' to learn more about interactive tables.';\n",
              "          element.innerHTML = '';\n",
              "          dataTable['output_type'] = 'display_data';\n",
              "          await google.colab.output.renderOutput(dataTable, element);\n",
              "          const docLink = document.createElement('div');\n",
              "          docLink.innerHTML = docLinkHtml;\n",
              "          element.appendChild(docLink);\n",
              "        }\n",
              "      </script>\n",
              "    </div>\n",
              "  </div>\n",
              "  "
            ]
          },
          "metadata": {},
          "execution_count": 22
        }
      ]
    },
    {
      "cell_type": "code",
      "source": [
        "tokenized_labels = [label.split() for label in final_df['labels']]"
      ],
      "metadata": {
        "id": "QNd8Ku8eWKjX"
      },
      "execution_count": 23,
      "outputs": []
    },
    {
      "cell_type": "code",
      "source": [
        "model = Word2Vec(tokenized_labels, vector_size=100, window=5, min_count=1, workers=4)"
      ],
      "metadata": {
        "id": "bVfVFHtdWO4L"
      },
      "execution_count": 24,
      "outputs": []
    },
    {
      "cell_type": "code",
      "source": [
        "label_embeddings = []\n",
        "\n",
        "for label in final_df['labels']:\n",
        "    if label in model.wv:\n",
        "        label_embeddings.append(model.wv[label])\n",
        "    else:\n",
        "        label_embeddings.append([0] * 100)"
      ],
      "metadata": {
        "id": "1SfZcnEeukQX"
      },
      "execution_count": 25,
      "outputs": []
    },
    {
      "cell_type": "code",
      "source": [
        "k = 50\n",
        "kmeans = KMeans(n_clusters=k, n_init=10, random_state=42)\n",
        "cluster_labels = kmeans.fit_predict(label_embeddings)"
      ],
      "metadata": {
        "id": "m4EF6sM6vfs5"
      },
      "execution_count": 26,
      "outputs": []
    },
    {
      "cell_type": "code",
      "source": [
        "final_df['cluster_labels'] = cluster_labels"
      ],
      "metadata": {
        "id": "KqCLlynlaEsD"
      },
      "execution_count": 27,
      "outputs": []
    },
    {
      "cell_type": "markdown",
      "metadata": {
        "id": "Xv5qHqhcBijJ"
      },
      "source": [
        "### *Building the Model*"
      ]
    },
    {
      "cell_type": "code",
      "source": [
        "X_train, X_test, y_train, y_test = train_test_split(final_df['processed_text'],\n",
        "                                                    final_df['cluster_labels'],\n",
        "                                                    test_size=0.1,\n",
        "                                                    random_state=444)"
      ],
      "metadata": {
        "id": "R55F_V3bv_ec"
      },
      "execution_count": 28,
      "outputs": []
    },
    {
      "cell_type": "markdown",
      "source": [
        "#### *Logistic Reggression*"
      ],
      "metadata": {
        "id": "5Si-A9epOY6N"
      }
    },
    {
      "cell_type": "code",
      "source": [
        "%%time\n",
        "pipeline = Pipeline([\n",
        "    ('CountVectorizer', CountVectorizer()),\n",
        "    ('Tfidf Vectorizer', TfidfTransformer()),\n",
        "    ('ML Model', LogisticRegression())])\n",
        "\n",
        "model_LogR = pipeline.fit(X_train, y_train)\n",
        "\n",
        "\n",
        "predictions = model_LogR.predict(X_test)\n",
        "\n",
        "accuracy_LogR = accuracy_score(y_test, predictions)\n",
        "print(f\"Accuracy Score: {round(accuracy_LogR * 100, 2)}%\")\n",
        "\n",
        "print('\\nConfusion Matrix')\n",
        "print(confusion_matrix(y_test, predictions))\n",
        "\n",
        "print(\"\\nClassification Report\")\n",
        "print(classification_report(y_test, predictions))"
      ],
      "metadata": {
        "colab": {
          "base_uri": "https://localhost:8080/"
        },
        "id": "TFul9rek_JUm",
        "outputId": "ab66d82d-669d-4694-e370-f61719e0a04a"
      },
      "execution_count": 29,
      "outputs": [
        {
          "output_type": "stream",
          "name": "stdout",
          "text": [
            "Accuracy Score: 93.17%\n",
            "\n",
            "Confusion Matrix\n",
            "[[  64    3    0    0    1    0   45]\n",
            " [   0  134    0    0    0    1   63]\n",
            " [   0    0   14    0    0    0   23]\n",
            " [   0    1    0   51    0    0   38]\n",
            " [   0    0    0    0   24    0   26]\n",
            " [   0    3    0    0    0  102   47]\n",
            " [   8   17    4    2    1    1 3484]]\n",
            "\n",
            "Classification Report\n",
            "              precision    recall  f1-score   support\n",
            "\n",
            "           1       0.89      0.57      0.69       113\n",
            "           2       0.85      0.68      0.75       198\n",
            "           4       0.78      0.38      0.51        37\n",
            "           5       0.96      0.57      0.71        90\n",
            "           6       0.92      0.48      0.63        50\n",
            "           9       0.98      0.67      0.80       152\n",
            "          48       0.94      0.99      0.96      3517\n",
            "\n",
            "    accuracy                           0.93      4157\n",
            "   macro avg       0.90      0.62      0.72      4157\n",
            "weighted avg       0.93      0.93      0.93      4157\n",
            "\n",
            "CPU times: user 44.1 s, sys: 25.6 s, total: 1min 9s\n",
            "Wall time: 42.5 s\n"
          ]
        }
      ]
    },
    {
      "cell_type": "markdown",
      "source": [
        "#### *Linear Support Vector Classifier*"
      ],
      "metadata": {
        "id": "rKxVZxOXOhI5"
      }
    },
    {
      "cell_type": "code",
      "source": [
        "%%time\n",
        "pipeline = Pipeline([\n",
        "    ('Tfidf Vectorizer', TfidfVectorizer()),\n",
        "    ('ML Model', LinearSVC())])\n",
        "\n",
        "model_LinearSVC = pipeline.fit(X_train, y_train)\n",
        "predictions = model_LinearSVC.predict(X_test)\n",
        "\n",
        "print('ML Model - Linear SVC\\n')\n",
        "\n",
        "accuracy_LinearSVC = accuracy_score(y_test, predictions)\n",
        "print(f\"Accuracy Score: {round(accuracy_LinearSVC * 100, 2)}%\")\n",
        "\n",
        "print('\\nConfusion Matrix')\n",
        "print(confusion_matrix(y_test, predictions))\n",
        "\n",
        "print(\"\\nClassification Report\")\n",
        "print(classification_report(y_test, predictions))\n"
      ],
      "metadata": {
        "colab": {
          "base_uri": "https://localhost:8080/"
        },
        "id": "fIYpnsEQw4W3",
        "outputId": "ce8289ad-66e7-46e8-8e49-4f18d2fd0f54"
      },
      "execution_count": 30,
      "outputs": [
        {
          "output_type": "stream",
          "name": "stdout",
          "text": [
            "ML Model - Linear SVC\n",
            "\n",
            "Accuracy Score: 95.81%\n",
            "\n",
            "Confusion Matrix\n",
            "[[  94    0    0    0    0    1   18]\n",
            " [   0  159    0    0    0    1   38]\n",
            " [   0    0   25    0    0    0   12]\n",
            " [   0    2    0   65    0    0   23]\n",
            " [   0    0    0    0   39    0   11]\n",
            " [   0    2    0    0    0  128   22]\n",
            " [  11   19    3    4    2    5 3473]]\n",
            "\n",
            "Classification Report\n",
            "              precision    recall  f1-score   support\n",
            "\n",
            "           1       0.90      0.83      0.86       113\n",
            "           2       0.87      0.80      0.84       198\n",
            "           4       0.89      0.68      0.77        37\n",
            "           5       0.94      0.72      0.82        90\n",
            "           6       0.95      0.78      0.86        50\n",
            "           9       0.95      0.84      0.89       152\n",
            "          48       0.97      0.99      0.98      3517\n",
            "\n",
            "    accuracy                           0.96      4157\n",
            "   macro avg       0.92      0.81      0.86      4157\n",
            "weighted avg       0.96      0.96      0.96      4157\n",
            "\n",
            "CPU times: user 7.73 s, sys: 16.8 ms, total: 7.75 s\n",
            "Wall time: 7.81 s\n"
          ]
        }
      ]
    },
    {
      "cell_type": "markdown",
      "source": [
        "#### *Decision Tree Classifier*"
      ],
      "metadata": {
        "id": "Umow8hvAOv8f"
      }
    },
    {
      "cell_type": "code",
      "source": [
        "%%time\n",
        "pipeline = Pipeline([\n",
        "    ('CountVectorizer', CountVectorizer()),\n",
        "    ('Tfidf Vectorizer', TfidfTransformer()),\n",
        "    ('ML Model', DecisionTreeClassifier(criterion='entropy',\n",
        "                                        splitter='best',\n",
        "                                        max_depth=10,\n",
        "                                        random_state=33))])\n",
        "\n",
        "model_DT = pipeline.fit(X_train, y_train)\n",
        "predictions = model_DT.predict(X_test)\n",
        "print('ML Model - Decision Tree\\n')\n",
        "\n",
        "accuracy_DT = accuracy_score(y_test, predictions)\n",
        "print(f\"Accuracy Score: {round(accuracy_DT * 100, 2)}%\")\n",
        "\n",
        "print('\\nConfusion Matrix')\n",
        "print(confusion_matrix(y_test, predictions))\n",
        "\n",
        "print(\"\\nClassification Report\")\n",
        "print(classification_report(y_test, predictions))"
      ],
      "metadata": {
        "colab": {
          "base_uri": "https://localhost:8080/"
        },
        "id": "3PtnB-2Kz5WE",
        "outputId": "85f28cd6-ec98-4c35-ee89-75e4d9ca3481"
      },
      "execution_count": 31,
      "outputs": [
        {
          "output_type": "stream",
          "name": "stdout",
          "text": [
            "ML Model - Decision Tree\n",
            "\n",
            "Accuracy Score: 87.44%\n",
            "\n",
            "Confusion Matrix\n",
            "[[  20    0    0    0    0    0   93]\n",
            " [   0   38    0    2    0    0  158]\n",
            " [   0    0    4    0    0    0   33]\n",
            " [   1    0    0   35    0    0   54]\n",
            " [   0    2    0    0   19    1   28]\n",
            " [   0    1    0    0    0   25  126]\n",
            " [   3   10    1    2    4    3 3494]]\n",
            "\n",
            "Classification Report\n",
            "              precision    recall  f1-score   support\n",
            "\n",
            "           1       0.83      0.18      0.29       113\n",
            "           2       0.75      0.19      0.31       198\n",
            "           4       0.80      0.11      0.19        37\n",
            "           5       0.90      0.39      0.54        90\n",
            "           6       0.83      0.38      0.52        50\n",
            "           9       0.86      0.16      0.28       152\n",
            "          48       0.88      0.99      0.93      3517\n",
            "\n",
            "    accuracy                           0.87      4157\n",
            "   macro avg       0.83      0.34      0.44      4157\n",
            "weighted avg       0.87      0.87      0.84      4157\n",
            "\n",
            "CPU times: user 14.8 s, sys: 44.7 ms, total: 14.9 s\n",
            "Wall time: 14.9 s\n"
          ]
        }
      ]
    },
    {
      "cell_type": "markdown",
      "source": [
        "#### *AdaBoost Classifier*"
      ],
      "metadata": {
        "id": "Tj5qk20PO29e"
      }
    },
    {
      "cell_type": "code",
      "source": [
        "%%time\n",
        "pipeline = Pipeline([\n",
        "    ('CountVectorizer', CountVectorizer()),\n",
        "    ('Tfidf Vectorizer', TfidfTransformer()),\n",
        "    ('ML Model', AdaBoostClassifier(n_estimators=10, random_state=33))\n",
        "])\n",
        "\n",
        "model_AB1 = pipeline.fit(X_train, y_train)\n",
        "predictions = model_AB1.predict(X_test)\n",
        "print('ML Model - AdaBoost\\n')\n",
        "\n",
        "accuracy_AB1 = accuracy_score(y_test, predictions)\n",
        "print(f\"Accuracy Score: {round(accuracy_AB1 * 100, 2)}%\")\n",
        "\n",
        "print('\\nConfusion Matrix')\n",
        "print(confusion_matrix(y_test, predictions))\n",
        "\n",
        "print(\"\\nClassification Report\")\n",
        "print(classification_report(y_test, predictions, zero_division=1))"
      ],
      "metadata": {
        "colab": {
          "base_uri": "https://localhost:8080/"
        },
        "id": "vrI4FjsECkCN",
        "outputId": "9282c007-fa97-43aa-dba0-0f0eaad5858a"
      },
      "execution_count": 32,
      "outputs": [
        {
          "output_type": "stream",
          "name": "stdout",
          "text": [
            "ML Model - AdaBoost\n",
            "\n",
            "Accuracy Score: 84.92%\n",
            "\n",
            "Confusion Matrix\n",
            "[[   0    0    0    0    0    0  113]\n",
            " [   0    0    0    0    0    0  198]\n",
            " [   0    0    0    0    0    0   37]\n",
            " [   0    0    0    0    0    0   90]\n",
            " [   0    0    0    0    4    0   46]\n",
            " [   0    0    0    0    0   19  133]\n",
            " [   3    0    0    0    3    4 3507]]\n",
            "\n",
            "Classification Report\n",
            "              precision    recall  f1-score   support\n",
            "\n",
            "           1       0.00      0.00      0.00       113\n",
            "           2       1.00      0.00      0.00       198\n",
            "           4       1.00      0.00      0.00        37\n",
            "           5       1.00      0.00      0.00        90\n",
            "           6       0.57      0.08      0.14        50\n",
            "           9       0.83      0.12      0.22       152\n",
            "          48       0.85      1.00      0.92      3517\n",
            "\n",
            "    accuracy                           0.85      4157\n",
            "   macro avg       0.75      0.17      0.18      4157\n",
            "weighted avg       0.83      0.85      0.79      4157\n",
            "\n",
            "CPU times: user 10.9 s, sys: 32.8 ms, total: 10.9 s\n",
            "Wall time: 11 s\n"
          ]
        }
      ]
    },
    {
      "cell_type": "markdown",
      "source": [
        "#### *K-Nearest Neighbors Classifier*"
      ],
      "metadata": {
        "id": "04PM01kKWVIe"
      }
    },
    {
      "cell_type": "code",
      "source": [
        "%%time\n",
        "pipeline = Pipeline([\n",
        "    ('CountVectorizer', CountVectorizer()),\n",
        "    ('Tfidf Vectorizer', TfidfTransformer()),\n",
        "    ('ML Model', KNeighborsClassifier(n_neighbors=10, weights='distance'))])\n",
        "\n",
        "model_KNN1 = pipeline.fit(X_train, y_train)\n",
        "predictions = model_KNN1.predict(X_test)\n",
        "print('ML Model - K Nearest Neighbors\\n')\n",
        "\n",
        "accuracy_KNN1 = accuracy_score(y_test, predictions)\n",
        "print(f\"Accuracy Score: {round(accuracy_KNN1 * 100, 2)}%\")\n",
        "\n",
        "print('\\nConfusion Matrix')\n",
        "print(confusion_matrix(y_test, predictions))\n",
        "\n",
        "print(\"\\nClassification Report\")\n",
        "print(classification_report(y_test, predictions))"
      ],
      "metadata": {
        "id": "t-1bPfpATi_Y",
        "colab": {
          "base_uri": "https://localhost:8080/"
        },
        "outputId": "9e01173d-ee20-404f-9504-2bfa38226156"
      },
      "execution_count": 33,
      "outputs": [
        {
          "output_type": "stream",
          "name": "stdout",
          "text": [
            "ML Model - K Nearest Neighbors\n",
            "\n",
            "Accuracy Score: 95.45%\n",
            "\n",
            "Confusion Matrix\n",
            "[[  86    2    0    1    0    1   23]\n",
            " [   0  161    1    1    0    0   35]\n",
            " [   0    0   29    0    0    0    8]\n",
            " [   2    0    1   61    0    0   26]\n",
            " [   0    1    0    0   38    0   11]\n",
            " [   0    2    0    0    0  127   23]\n",
            " [  15   16    5    7    3    5 3466]]\n",
            "\n",
            "Classification Report\n",
            "              precision    recall  f1-score   support\n",
            "\n",
            "           1       0.83      0.76      0.80       113\n",
            "           2       0.88      0.81      0.85       198\n",
            "           4       0.81      0.78      0.79        37\n",
            "           5       0.87      0.68      0.76        90\n",
            "           6       0.93      0.76      0.84        50\n",
            "           9       0.95      0.84      0.89       152\n",
            "          48       0.96      0.99      0.98      3517\n",
            "\n",
            "    accuracy                           0.95      4157\n",
            "   macro avg       0.89      0.80      0.84      4157\n",
            "weighted avg       0.95      0.95      0.95      4157\n",
            "\n",
            "CPU times: user 23min 2s, sys: 1.06 s, total: 23min 3s\n",
            "Wall time: 13min 59s\n"
          ]
        }
      ]
    },
    {
      "cell_type": "markdown",
      "source": [
        "#### *Predictions*"
      ],
      "metadata": {
        "id": "cX6fDJrs-aZj"
      }
    },
    {
      "cell_type": "code",
      "source": [
        "y_predicted = model_LinearSVC.predict(X_test)\n",
        "y_predicted"
      ],
      "metadata": {
        "id": "Kf6AhlndDBxg",
        "colab": {
          "base_uri": "https://localhost:8080/"
        },
        "outputId": "bcfd5dbc-1147-4641-848b-a22f4432e7b8"
      },
      "execution_count": 34,
      "outputs": [
        {
          "output_type": "execute_result",
          "data": {
            "text/plain": [
              "array([ 9, 48, 48, ...,  2, 48, 48], dtype=int32)"
            ]
          },
          "metadata": {},
          "execution_count": 34
        }
      ]
    },
    {
      "cell_type": "code",
      "source": [
        "predictions = pd.DataFrame(y_predicted)\n",
        "predictions"
      ],
      "metadata": {
        "id": "mfvP5viGDCPF",
        "colab": {
          "base_uri": "https://localhost:8080/",
          "height": 423
        },
        "outputId": "22e5d8ff-aa8b-4c41-d382-ae0c1966f8dd"
      },
      "execution_count": 35,
      "outputs": [
        {
          "output_type": "execute_result",
          "data": {
            "text/plain": [
              "       0\n",
              "0      9\n",
              "1     48\n",
              "2     48\n",
              "3     48\n",
              "4     48\n",
              "...   ..\n",
              "4152  48\n",
              "4153  48\n",
              "4154   2\n",
              "4155  48\n",
              "4156  48\n",
              "\n",
              "[4157 rows x 1 columns]"
            ],
            "text/html": [
              "\n",
              "  <div id=\"df-731dbe52-ce22-4c5f-8e88-136f08e388cf\">\n",
              "    <div class=\"colab-df-container\">\n",
              "      <div>\n",
              "<style scoped>\n",
              "    .dataframe tbody tr th:only-of-type {\n",
              "        vertical-align: middle;\n",
              "    }\n",
              "\n",
              "    .dataframe tbody tr th {\n",
              "        vertical-align: top;\n",
              "    }\n",
              "\n",
              "    .dataframe thead th {\n",
              "        text-align: right;\n",
              "    }\n",
              "</style>\n",
              "<table border=\"1\" class=\"dataframe\">\n",
              "  <thead>\n",
              "    <tr style=\"text-align: right;\">\n",
              "      <th></th>\n",
              "      <th>0</th>\n",
              "    </tr>\n",
              "  </thead>\n",
              "  <tbody>\n",
              "    <tr>\n",
              "      <th>0</th>\n",
              "      <td>9</td>\n",
              "    </tr>\n",
              "    <tr>\n",
              "      <th>1</th>\n",
              "      <td>48</td>\n",
              "    </tr>\n",
              "    <tr>\n",
              "      <th>2</th>\n",
              "      <td>48</td>\n",
              "    </tr>\n",
              "    <tr>\n",
              "      <th>3</th>\n",
              "      <td>48</td>\n",
              "    </tr>\n",
              "    <tr>\n",
              "      <th>4</th>\n",
              "      <td>48</td>\n",
              "    </tr>\n",
              "    <tr>\n",
              "      <th>...</th>\n",
              "      <td>...</td>\n",
              "    </tr>\n",
              "    <tr>\n",
              "      <th>4152</th>\n",
              "      <td>48</td>\n",
              "    </tr>\n",
              "    <tr>\n",
              "      <th>4153</th>\n",
              "      <td>48</td>\n",
              "    </tr>\n",
              "    <tr>\n",
              "      <th>4154</th>\n",
              "      <td>2</td>\n",
              "    </tr>\n",
              "    <tr>\n",
              "      <th>4155</th>\n",
              "      <td>48</td>\n",
              "    </tr>\n",
              "    <tr>\n",
              "      <th>4156</th>\n",
              "      <td>48</td>\n",
              "    </tr>\n",
              "  </tbody>\n",
              "</table>\n",
              "<p>4157 rows × 1 columns</p>\n",
              "</div>\n",
              "      <button class=\"colab-df-convert\" onclick=\"convertToInteractive('df-731dbe52-ce22-4c5f-8e88-136f08e388cf')\"\n",
              "              title=\"Convert this dataframe to an interactive table.\"\n",
              "              style=\"display:none;\">\n",
              "        \n",
              "  <svg xmlns=\"http://www.w3.org/2000/svg\" height=\"24px\"viewBox=\"0 0 24 24\"\n",
              "       width=\"24px\">\n",
              "    <path d=\"M0 0h24v24H0V0z\" fill=\"none\"/>\n",
              "    <path d=\"M18.56 5.44l.94 2.06.94-2.06 2.06-.94-2.06-.94-.94-2.06-.94 2.06-2.06.94zm-11 1L8.5 8.5l.94-2.06 2.06-.94-2.06-.94L8.5 2.5l-.94 2.06-2.06.94zm10 10l.94 2.06.94-2.06 2.06-.94-2.06-.94-.94-2.06-.94 2.06-2.06.94z\"/><path d=\"M17.41 7.96l-1.37-1.37c-.4-.4-.92-.59-1.43-.59-.52 0-1.04.2-1.43.59L10.3 9.45l-7.72 7.72c-.78.78-.78 2.05 0 2.83L4 21.41c.39.39.9.59 1.41.59.51 0 1.02-.2 1.41-.59l7.78-7.78 2.81-2.81c.8-.78.8-2.07 0-2.86zM5.41 20L4 18.59l7.72-7.72 1.47 1.35L5.41 20z\"/>\n",
              "  </svg>\n",
              "      </button>\n",
              "      \n",
              "  <style>\n",
              "    .colab-df-container {\n",
              "      display:flex;\n",
              "      flex-wrap:wrap;\n",
              "      gap: 12px;\n",
              "    }\n",
              "\n",
              "    .colab-df-convert {\n",
              "      background-color: #E8F0FE;\n",
              "      border: none;\n",
              "      border-radius: 50%;\n",
              "      cursor: pointer;\n",
              "      display: none;\n",
              "      fill: #1967D2;\n",
              "      height: 32px;\n",
              "      padding: 0 0 0 0;\n",
              "      width: 32px;\n",
              "    }\n",
              "\n",
              "    .colab-df-convert:hover {\n",
              "      background-color: #E2EBFA;\n",
              "      box-shadow: 0px 1px 2px rgba(60, 64, 67, 0.3), 0px 1px 3px 1px rgba(60, 64, 67, 0.15);\n",
              "      fill: #174EA6;\n",
              "    }\n",
              "\n",
              "    [theme=dark] .colab-df-convert {\n",
              "      background-color: #3B4455;\n",
              "      fill: #D2E3FC;\n",
              "    }\n",
              "\n",
              "    [theme=dark] .colab-df-convert:hover {\n",
              "      background-color: #434B5C;\n",
              "      box-shadow: 0px 1px 3px 1px rgba(0, 0, 0, 0.15);\n",
              "      filter: drop-shadow(0px 1px 2px rgba(0, 0, 0, 0.3));\n",
              "      fill: #FFFFFF;\n",
              "    }\n",
              "  </style>\n",
              "\n",
              "      <script>\n",
              "        const buttonEl =\n",
              "          document.querySelector('#df-731dbe52-ce22-4c5f-8e88-136f08e388cf button.colab-df-convert');\n",
              "        buttonEl.style.display =\n",
              "          google.colab.kernel.accessAllowed ? 'block' : 'none';\n",
              "\n",
              "        async function convertToInteractive(key) {\n",
              "          const element = document.querySelector('#df-731dbe52-ce22-4c5f-8e88-136f08e388cf');\n",
              "          const dataTable =\n",
              "            await google.colab.kernel.invokeFunction('convertToInteractive',\n",
              "                                                     [key], {});\n",
              "          if (!dataTable) return;\n",
              "\n",
              "          const docLinkHtml = 'Like what you see? Visit the ' +\n",
              "            '<a target=\"_blank\" href=https://colab.research.google.com/notebooks/data_table.ipynb>data table notebook</a>'\n",
              "            + ' to learn more about interactive tables.';\n",
              "          element.innerHTML = '';\n",
              "          dataTable['output_type'] = 'display_data';\n",
              "          await google.colab.output.renderOutput(dataTable, element);\n",
              "          const docLink = document.createElement('div');\n",
              "          docLink.innerHTML = docLinkHtml;\n",
              "          element.appendChild(docLink);\n",
              "        }\n",
              "      </script>\n",
              "    </div>\n",
              "  </div>\n",
              "  "
            ]
          },
          "metadata": {},
          "execution_count": 35
        }
      ]
    },
    {
      "cell_type": "markdown",
      "source": [
        "#### *Conclusion*"
      ],
      "metadata": {
        "id": "1SKAX79eVe4y"
      }
    },
    {
      "cell_type": "markdown",
      "source": [
        "*This project aimed to classify text paragraphs into product attribute labels. The data was meticulously cleaned and duplicates were grouped, resulting in 225 unique labels. Semantic relationships were extracted using Word2Vec and K-means, identifying the top 50 features.*\n",
        "\n",
        "*The performance of five machine learning models, namely KNN, AdaBoost, Decision Tree, Linear SVC, and Logistic Regression, was evaluated. Among them, the Linear SVC algorithm stood out as the top performer, boasting an impressive accuracy of 96%.*\n",
        "\n",
        "*Overall, this project showcases the effectiveness of employing natural language processing and machine learning techniques in accurately classifying text.*"
      ],
      "metadata": {
        "id": "r-A36myTSzbU"
      }
    }
  ],
  "metadata": {
    "colab": {
      "provenance": [],
      "include_colab_link": true
    },
    "gpuClass": "standard",
    "kernelspec": {
      "display_name": "Python 3",
      "name": "python3"
    },
    "language_info": {
      "name": "python"
    }
  },
  "nbformat": 4,
  "nbformat_minor": 0
}